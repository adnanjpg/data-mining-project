{
 "cells": [
  {
   "cell_type": "markdown",
   "metadata": {},
   "source": [
    "# preprocessing\n",
    "- find null values\n",
    "- replace with feature mean\n",
    "- find outliers (especially m2)\n",
    "- enumarate categorical features\n",
    "- drop title col\n",
    "- drop id col\n",
    "- convert all prices to try\n",
    "- drop lat lon\n",
    "- convert date values to be of the same race\n",
    "- drop type (bcz all values are flat)\n",
    "- drop currency\n",
    "- remove outlier prices (25000 TL, 8500000TL)"
   ]
  },
  {
   "cell_type": "code",
   "execution_count": 215,
   "metadata": {},
   "outputs": [],
   "source": [
    "import polars as pl\n",
    "import matplotlib.pyplot as plt"
   ]
  },
  {
   "cell_type": "code",
   "execution_count": 216,
   "metadata": {},
   "outputs": [
    {
     "data": {
      "text/html": [
       "<div><style>\n",
       ".dataframe > thead > tr,\n",
       ".dataframe > tbody > tr {\n",
       "  text-align: right;\n",
       "  white-space: pre-wrap;\n",
       "}\n",
       "</style>\n",
       "<small>shape: (5, 25)</small><table border=\"1\" class=\"dataframe\"><thead><tr><th>title</th><th>Id</th><th>price</th><th>currency</th><th>loc city</th><th>loc county</th><th>loc dist</th><th>lat</th><th>lon</th><th>date</th><th>type</th><th>m2</th><th>rooms</th><th>age</th><th>floor</th><th>tfloor</th><th>heat</th><th>bath</th><th>furn</th><th>status</th><th>resid</th><th>due</th><th>loan</th><th>saler</th><th>exc</th></tr><tr><td>str</td><td>i64</td><td>i64</td><td>str</td><td>str</td><td>str</td><td>str</td><td>f64</td><td>f64</td><td>str</td><td>str</td><td>i64</td><td>str</td><td>str</td><td>str</td><td>str</td><td>str</td><td>str</td><td>bool</td><td>str</td><td>str</td><td>i64</td><td>bool</td><td>str</td><td>str</td></tr></thead><tbody><tr><td>&quot;SAHİBİNDEN-%10…</td><td>323589399</td><td>225000</td><td>&quot;Turkish Lira&quot;</td><td>&quot;İstanbul&quot;</td><td>&quot;Sancaktepe&quot;</td><td>&quot;Sarıgazi Mah.&quot;</td><td>41.003838</td><td>29.213019</td><td>&quot;28 Temmuz 2016…</td><td>&quot;Flat&quot;</td><td>85</td><td>&quot;2+1&quot;</td><td>&quot;5-10&quot;</td><td>&quot;High Entrance&quot;</td><td>&quot;5&quot;</td><td>&quot;Combi&quot;</td><td>&quot;1&quot;</td><td>false</td><td>&quot;Tenant&quot;</td><td>&quot;False.1&quot;</td><td>0</td><td>true</td><td>&quot;Owner&quot;</td><td>&quot;True.1&quot;</td></tr><tr><td>&quot;İSTANBULUN MER…</td><td>323599659</td><td>360000</td><td>&quot;Turkish Lira&quot;</td><td>&quot;İstanbul&quot;</td><td>&quot;Üsküdar&quot;</td><td>&quot;Ünalan Mah.&quot;</td><td>41.005051</td><td>29.062934</td><td>&quot;28 Temmuz 2016…</td><td>&quot;Flat&quot;</td><td>87</td><td>&quot;2+1&quot;</td><td>&quot;0&quot;</td><td>&quot;Ground Floor&quot;</td><td>&quot;9&quot;</td><td>&quot;Combi&quot;</td><td>&quot;1&quot;</td><td>false</td><td>&quot;Empty&quot;</td><td>&quot;True&quot;</td><td>null</td><td>true</td><td>&quot;Owner&quot;</td><td>&quot;False&quot;</td></tr><tr><td>&quot;Merkezde 4+1 Ş…</td><td>323536105</td><td>335000</td><td>&quot;Turkish Lira&quot;</td><td>&quot;İstanbul&quot;</td><td>&quot;Arnavutköy&quot;</td><td>&quot;Hastane Mah.&quot;</td><td>41.15349</td><td>28.619143</td><td>&quot;27 Temmuz 2016…</td><td>&quot;Flat&quot;</td><td>160</td><td>&quot;4+1&quot;</td><td>&quot;0&quot;</td><td>&quot;4&quot;</td><td>&quot;5&quot;</td><td>&quot;Combi&quot;</td><td>&quot;1&quot;</td><td>false</td><td>&quot;Empty&quot;</td><td>&quot;True&quot;</td><td>null</td><td>true</td><td>&quot;Owner&quot;</td><td>&quot;False&quot;</td></tr><tr><td>&quot;kelepir büyük …</td><td>323709392</td><td>235000</td><td>&quot;Turkish Lira&quot;</td><td>&quot;Antalya&quot;</td><td>&quot;Muratpaşa&quot;</td><td>&quot;Yenigün Mah.&quot;</td><td>36.902681</td><td>30.721658</td><td>&quot;28 Temmuz 2016…</td><td>&quot;Flat&quot;</td><td>165</td><td>&quot;4+1&quot;</td><td>&quot;5-10&quot;</td><td>&quot;Rise 4&quot;</td><td>&quot;4&quot;</td><td>&quot;Floor Calorie&quot;</td><td>&quot;2&quot;</td><td>false</td><td>&quot;Tenant&quot;</td><td>&quot;False&quot;</td><td>25</td><td>true</td><td>&quot;Owner&quot;</td><td>&quot;True&quot;</td></tr><tr><td>&quot;ACİL SAHİBİNDE…</td><td>323730617</td><td>229000</td><td>&quot;Turkish Lira&quot;</td><td>&quot;Manisa&quot;</td><td>&quot;Yunusemre&quot;</td><td>&quot;Muradiye&quot;</td><td>38.638822</td><td>27.346087</td><td>&quot;28 Temmuz 2016…</td><td>&quot;Flat&quot;</td><td>208</td><td>&quot;5+1&quot;</td><td>&quot;0&quot;</td><td>&quot;Rise 4&quot;</td><td>&quot;5&quot;</td><td>&quot;Combi&quot;</td><td>&quot;2&quot;</td><td>false</td><td>&quot;Tenant&quot;</td><td>&quot;False&quot;</td><td>null</td><td>true</td><td>&quot;Owner&quot;</td><td>&quot;False&quot;</td></tr></tbody></table></div>"
      ],
      "text/plain": [
       "shape: (5, 25)\n",
       "┌───────────────────────────┬───────────┬────────┬──────────────┬───┬──────┬──────┬───────┬────────┐\n",
       "│ title                     ┆ Id        ┆ price  ┆ currency     ┆ … ┆ due  ┆ loan ┆ saler ┆ exc    │\n",
       "│ ---                       ┆ ---       ┆ ---    ┆ ---          ┆   ┆ ---  ┆ ---  ┆ ---   ┆ ---    │\n",
       "│ str                       ┆ i64       ┆ i64    ┆ str          ┆   ┆ i64  ┆ bool ┆ str   ┆ str    │\n",
       "╞═══════════════════════════╪═══════════╪════════╪══════════════╪═══╪══════╪══════╪═══════╪════════╡\n",
       "│ SAHİBİNDEN-%10            ┆ 323589399 ┆ 225000 ┆ Turkish Lira ┆ … ┆ 0    ┆ true ┆ Owner ┆ True.1 │\n",
       "│ İNDİRİM-225.000 T…        ┆           ┆        ┆              ┆   ┆      ┆      ┆       ┆        │\n",
       "│ İSTANBULUN MERKEZİ        ┆ 323599659 ┆ 360000 ┆ Turkish Lira ┆ … ┆ null ┆ true ┆ Owner ┆ False  │\n",
       "│ Merkezde 4+1 Şömineli     ┆ 323536105 ┆ 335000 ┆ Turkish Lira ┆ … ┆ null ┆ true ┆ Owner ┆ False  │\n",
       "│ Ultra Lüks…               ┆           ┆        ┆              ┆   ┆      ┆      ┆       ┆        │\n",
       "│ kelepir büyük dublex acil ┆ 323709392 ┆ 235000 ┆ Turkish Lira ┆ … ┆ 25   ┆ true ┆ Owner ┆ True   │\n",
       "│ pazarl…                   ┆           ┆        ┆              ┆   ┆      ┆      ┆       ┆        │\n",
       "│ ACİL SAHİBİNDEN MANİSA    ┆ 323730617 ┆ 229000 ┆ Turkish Lira ┆ … ┆ null ┆ true ┆ Owner ┆ False  │\n",
       "│ MURADİYE …                ┆           ┆        ┆              ┆   ┆      ┆      ┆       ┆        │\n",
       "└───────────────────────────┴───────────┴────────┴──────────────┴───┴──────┴──────┴───────┴────────┘"
      ]
     },
     "execution_count": 216,
     "metadata": {},
     "output_type": "execute_result"
    }
   ],
   "source": [
    "df = pl.read_csv(\"real_estate_data.csv\", null_values=[\"Unknown\", \"None\"])\n",
    "df.head()"
   ]
  },
  {
   "cell_type": "markdown",
   "metadata": {},
   "source": [
    "| Tmp  | Tmp | \n",
    "| ---  | --- | \n",
    "| TITLE      | title of the ad |\n",
    "| ID         | identification number of the ad |\n",
    "| PRICE      | price of the flat |\n",
    "| CURRENCY   | currency of the price     |\n",
    "| LOCCITY    | city of the building |\n",
    "| LOCOUNTY   | county of the building |\n",
    "| LOCDIST    | distirct of the building |\n",
    "| LAT        | latitude of the location of the building |\n",
    "| LON        | longitude of the location of the building |\n",
    "| DATE      | ad release date |\n",
    "| TYPE      | type of the ad |\n",
    "| M2        | size of the flat in meters |\n",
    "| ROOMS     | Rooms in flat |\n",
    "| AGE       | age of the building |\n",
    "| FLOOR     | floor number of the flat |\n",
    "| TFLOOR    | number of floors in building |\n",
    "| HEAT      | heating type of the building |\n",
    "| BATH      | number of bathrooms in the building |\n",
    "| FURN      | flat is furnitured or not |\n",
    "| STATUS    | occupied by owner, lessee or empty |\n",
    "| RESID     | building is in residence or not |\n",
    "| DUE       | monthly dues of the building |\n",
    "| LOAN      | flat is available for loan or not |\n",
    "| SALER     | saler of the flat is owner, real estate office or construction company |\n",
    "| EXC       | exchange is possible or not |"
   ]
  },
  {
   "cell_type": "markdown",
   "metadata": {},
   "source": [
    "## Enumerate Function\n"
   ]
  },
  {
   "cell_type": "code",
   "execution_count": 217,
   "metadata": {},
   "outputs": [],
   "source": [
    "def set_rank(feature: str, df: pl.DataFrame) -> pl.DataFrame:\n",
    "    new_name = f\"{feature} rank\"\n",
    "    if new_name not in df.columns:\n",
    "        return df.with_columns(pl.col(feature).rank(\"dense\").alias(new_name))\n",
    "    return df"
   ]
  },
  {
   "cell_type": "code",
   "execution_count": 218,
   "metadata": {},
   "outputs": [
    {
     "data": {
      "text/html": [
       "<div><style>\n",
       ".dataframe > thead > tr,\n",
       ".dataframe > tbody > tr {\n",
       "  text-align: right;\n",
       "  white-space: pre-wrap;\n",
       "}\n",
       "</style>\n",
       "<small>shape: (1, 25)</small><table border=\"1\" class=\"dataframe\"><thead><tr><th>title</th><th>Id</th><th>price</th><th>currency</th><th>loc city</th><th>loc county</th><th>loc dist</th><th>lat</th><th>lon</th><th>date</th><th>type</th><th>m2</th><th>rooms</th><th>age</th><th>floor</th><th>tfloor</th><th>heat</th><th>bath</th><th>furn</th><th>status</th><th>resid</th><th>due</th><th>loan</th><th>saler</th><th>exc</th></tr><tr><td>u32</td><td>u32</td><td>u32</td><td>u32</td><td>u32</td><td>u32</td><td>u32</td><td>u32</td><td>u32</td><td>u32</td><td>u32</td><td>u32</td><td>u32</td><td>u32</td><td>u32</td><td>u32</td><td>u32</td><td>u32</td><td>u32</td><td>u32</td><td>u32</td><td>u32</td><td>u32</td><td>u32</td><td>u32</td></tr></thead><tbody><tr><td>0</td><td>0</td><td>0</td><td>0</td><td>0</td><td>0</td><td>0</td><td>80</td><td>80</td><td>0</td><td>0</td><td>0</td><td>2</td><td>0</td><td>0</td><td>0</td><td>574</td><td>73</td><td>615</td><td>4</td><td>20</td><td>21252</td><td>675</td><td>0</td><td>0</td></tr></tbody></table></div>"
      ],
      "text/plain": [
       "shape: (1, 25)\n",
       "┌───────┬─────┬───────┬──────────┬───┬───────┬──────┬───────┬─────┐\n",
       "│ title ┆ Id  ┆ price ┆ currency ┆ … ┆ due   ┆ loan ┆ saler ┆ exc │\n",
       "│ ---   ┆ --- ┆ ---   ┆ ---      ┆   ┆ ---   ┆ ---  ┆ ---   ┆ --- │\n",
       "│ u32   ┆ u32 ┆ u32   ┆ u32      ┆   ┆ u32   ┆ u32  ┆ u32   ┆ u32 │\n",
       "╞═══════╪═════╪═══════╪══════════╪═══╪═══════╪══════╪═══════╪═════╡\n",
       "│ 0     ┆ 0   ┆ 0     ┆ 0        ┆ … ┆ 21252 ┆ 675  ┆ 0     ┆ 0   │\n",
       "└───────┴─────┴───────┴──────────┴───┴───────┴──────┴───────┴─────┘"
      ]
     },
     "execution_count": 218,
     "metadata": {},
     "output_type": "execute_result"
    }
   ],
   "source": [
    "df.null_count()"
   ]
  },
  {
   "cell_type": "code",
   "execution_count": 219,
   "metadata": {},
   "outputs": [
    {
     "data": {
      "text/html": [
       "<div><style>\n",
       ".dataframe > thead > tr,\n",
       ".dataframe > tbody > tr {\n",
       "  text-align: right;\n",
       "  white-space: pre-wrap;\n",
       "}\n",
       "</style>\n",
       "<small>shape: (9, 26)</small><table border=\"1\" class=\"dataframe\"><thead><tr><th>describe</th><th>title</th><th>Id</th><th>price</th><th>currency</th><th>loc city</th><th>loc county</th><th>loc dist</th><th>lat</th><th>lon</th><th>date</th><th>type</th><th>m2</th><th>rooms</th><th>age</th><th>floor</th><th>tfloor</th><th>heat</th><th>bath</th><th>furn</th><th>status</th><th>resid</th><th>due</th><th>loan</th><th>saler</th><th>exc</th></tr><tr><td>str</td><td>str</td><td>f64</td><td>f64</td><td>str</td><td>str</td><td>str</td><td>str</td><td>f64</td><td>f64</td><td>str</td><td>str</td><td>f64</td><td>str</td><td>str</td><td>str</td><td>str</td><td>str</td><td>str</td><td>str</td><td>str</td><td>str</td><td>f64</td><td>str</td><td>str</td><td>str</td></tr></thead><tbody><tr><td>&quot;count&quot;</td><td>&quot;33272&quot;</td><td>33272.0</td><td>33272.0</td><td>&quot;33272&quot;</td><td>&quot;33272&quot;</td><td>&quot;33272&quot;</td><td>&quot;33272&quot;</td><td>33192.0</td><td>33192.0</td><td>&quot;33272&quot;</td><td>&quot;33272&quot;</td><td>33272.0</td><td>&quot;33270&quot;</td><td>&quot;33272&quot;</td><td>&quot;33272&quot;</td><td>&quot;33272&quot;</td><td>&quot;32698&quot;</td><td>&quot;33199&quot;</td><td>&quot;32657&quot;</td><td>&quot;33268&quot;</td><td>&quot;33252&quot;</td><td>12020.0</td><td>&quot;32597&quot;</td><td>&quot;33272&quot;</td><td>&quot;33272&quot;</td></tr><tr><td>&quot;null_count&quot;</td><td>&quot;0&quot;</td><td>0.0</td><td>0.0</td><td>&quot;0&quot;</td><td>&quot;0&quot;</td><td>&quot;0&quot;</td><td>&quot;0&quot;</td><td>80.0</td><td>80.0</td><td>&quot;0&quot;</td><td>&quot;0&quot;</td><td>0.0</td><td>&quot;2&quot;</td><td>&quot;0&quot;</td><td>&quot;0&quot;</td><td>&quot;0&quot;</td><td>&quot;574&quot;</td><td>&quot;73&quot;</td><td>&quot;615&quot;</td><td>&quot;4&quot;</td><td>&quot;20&quot;</td><td>21252.0</td><td>&quot;675&quot;</td><td>&quot;0&quot;</td><td>&quot;0&quot;</td></tr><tr><td>&quot;mean&quot;</td><td>null</td><td>4.3658e8</td><td>392147.060862</td><td>null</td><td>null</td><td>null</td><td>null</td><td>39.75082</td><td>30.532574</td><td>null</td><td>null</td><td>671.963543</td><td>null</td><td>null</td><td>null</td><td>null</td><td>null</td><td>null</td><td>null</td><td>null</td><td>null</td><td>113.376705</td><td>null</td><td>null</td><td>null</td></tr><tr><td>&quot;std&quot;</td><td>null</td><td>5.5570e7</td><td>622345.248211</td><td>null</td><td>null</td><td>null</td><td>null</td><td>1.531269</td><td>3.248306</td><td>null</td><td>null</td><td>17384.054832</td><td>null</td><td>null</td><td>null</td><td>null</td><td>null</td><td>null</td><td>null</td><td>null</td><td>null</td><td>1101.26955</td><td>null</td><td>null</td><td>null</td></tr><tr><td>&quot;min&quot;</td><td>&quot;! ! ! FIRSAT D…</td><td>9.394397e6</td><td>17000.0</td><td>&quot;British Pound&quot;</td><td>&quot;Adana&quot;</td><td>&quot;Acıpayam&quot;</td><td>&quot;1 Nolu Beşirli…</td><td>36.078714</td><td>25.915707</td><td>&quot;01 Ağustos 201…</td><td>&quot;Flat&quot;</td><td>0.0</td><td>&quot;1+0 (Studio)&quot;</td><td>&quot;0&quot;</td><td>&quot;1&quot;</td><td>&quot;1&quot;</td><td>&quot;Air Conditioni…</td><td>&quot;1&quot;</td><td>&quot;False&quot;</td><td>&quot;Empty&quot;</td><td>&quot;False&quot;</td><td>0.0</td><td>&quot;False&quot;</td><td>&quot;Bank&quot;</td><td>&quot;False&quot;</td></tr><tr><td>&quot;25%&quot;</td><td>null</td><td>4.22607676e8</td><td>170000.0</td><td>null</td><td>null</td><td>null</td><td>null</td><td>38.39765</td><td>28.721244</td><td>null</td><td>null</td><td>95.0</td><td>null</td><td>null</td><td>null</td><td>null</td><td>null</td><td>null</td><td>null</td><td>null</td><td>null</td><td>15.0</td><td>null</td><td>null</td><td>null</td></tr><tr><td>&quot;50%&quot;</td><td>null</td><td>4.64277408e8</td><td>250000.0</td><td>null</td><td>null</td><td>null</td><td>null</td><td>40.433758</td><td>29.121923</td><td>null</td><td>null</td><td>120.0</td><td>null</td><td>null</td><td>null</td><td>null</td><td>null</td><td>null</td><td>null</td><td>null</td><td>null</td><td>30.0</td><td>null</td><td>null</td><td>null</td></tr><tr><td>&quot;75%&quot;</td><td>null</td><td>4.72774972e8</td><td>380000.0</td><td>null</td><td>null</td><td>null</td><td>null</td><td>41.011123</td><td>32.511549</td><td>null</td><td>null</td><td>160.0</td><td>null</td><td>null</td><td>null</td><td>null</td><td>null</td><td>null</td><td>null</td><td>null</td><td>null</td><td>90.0</td><td>null</td><td>null</td><td>null</td></tr><tr><td>&quot;max&quot;</td><td>&quot;【ＫＯÇＡＫ】&#x27;tan ⭐️…</td><td>4.77549169e8</td><td>1.4e7</td><td>&quot;US Dollar&quot;</td><td>&quot;Şırnak&quot;</td><td>&quot;Şişli&quot;</td><td>&quot;Şıralık Mah.&quot;</td><td>42.035103</td><td>44.048744</td><td>&quot;31 Temmuz 2017…</td><td>&quot;Flat&quot;</td><td>2.5e6</td><td>&quot;9+5&quot;</td><td>&quot;5-10&quot;</td><td>&quot;Villa Type&quot;</td><td>&quot;9&quot;</td><td>&quot;VRV&quot;</td><td>&quot;6+&quot;</td><td>&quot;True&quot;</td><td>&quot;Tenant&quot;</td><td>&quot;True&quot;</td><td>88000.0</td><td>&quot;True&quot;</td><td>&quot;Real Estate Of…</td><td>&quot;True.1&quot;</td></tr></tbody></table></div>"
      ],
      "text/plain": [
       "shape: (9, 26)\n",
       "┌────────────┬──────────────┬─────────────┬─────────────┬───┬────────────┬───────┬────────┬────────┐\n",
       "│ describe   ┆ title        ┆ Id          ┆ price       ┆ … ┆ due        ┆ loan  ┆ saler  ┆ exc    │\n",
       "│ ---        ┆ ---          ┆ ---         ┆ ---         ┆   ┆ ---        ┆ ---   ┆ ---    ┆ ---    │\n",
       "│ str        ┆ str          ┆ f64         ┆ f64         ┆   ┆ f64        ┆ str   ┆ str    ┆ str    │\n",
       "╞════════════╪══════════════╪═════════════╪═════════════╪═══╪════════════╪═══════╪════════╪════════╡\n",
       "│ count      ┆ 33272        ┆ 33272.0     ┆ 33272.0     ┆ … ┆ 12020.0    ┆ 32597 ┆ 33272  ┆ 33272  │\n",
       "│ null_count ┆ 0            ┆ 0.0         ┆ 0.0         ┆ … ┆ 21252.0    ┆ 675   ┆ 0      ┆ 0      │\n",
       "│ mean       ┆ null         ┆ 4.3658e8    ┆ 392147.0608 ┆ … ┆ 113.376705 ┆ null  ┆ null   ┆ null   │\n",
       "│            ┆              ┆             ┆ 62          ┆   ┆            ┆       ┆        ┆        │\n",
       "│ std        ┆ null         ┆ 5.5570e7    ┆ 622345.2482 ┆ … ┆ 1101.26955 ┆ null  ┆ null   ┆ null   │\n",
       "│            ┆              ┆             ┆ 11          ┆   ┆            ┆       ┆        ┆        │\n",
       "│ min        ┆ ! ! ! FIRSAT ┆ 9.394397e6  ┆ 17000.0     ┆ … ┆ 0.0        ┆ False ┆ Bank   ┆ False  │\n",
       "│            ┆ DAİRE ! ! !  ┆             ┆             ┆   ┆            ┆       ┆        ┆        │\n",
       "│ 25%        ┆ null         ┆ 4.22607676e ┆ 170000.0    ┆ … ┆ 15.0       ┆ null  ┆ null   ┆ null   │\n",
       "│            ┆              ┆ 8           ┆             ┆   ┆            ┆       ┆        ┆        │\n",
       "│ 50%        ┆ null         ┆ 4.64277408e ┆ 250000.0    ┆ … ┆ 30.0       ┆ null  ┆ null   ┆ null   │\n",
       "│            ┆              ┆ 8           ┆             ┆   ┆            ┆       ┆        ┆        │\n",
       "│ 75%        ┆ null         ┆ 4.72774972e ┆ 380000.0    ┆ … ┆ 90.0       ┆ null  ┆ null   ┆ null   │\n",
       "│            ┆              ┆ 8           ┆             ┆   ┆            ┆       ┆        ┆        │\n",
       "│ max        ┆ 【ＫＯÇＡＫ  ┆ 4.77549169e ┆ 1.4e7       ┆ … ┆ 88000.0    ┆ True  ┆ Real   ┆ True.1 │\n",
       "│            ┆ 】'tan ⭐️Kc  ┆ 8           ┆             ┆   ┆            ┆       ┆ Estate ┆        │\n",
       "│            ┆ Lale Evleri  ┆             ┆             ┆   ┆            ┆       ┆ Office ┆        │\n",
       "│            ┆ ⭐️ …         ┆             ┆             ┆   ┆            ┆       ┆        ┆        │\n",
       "└────────────┴──────────────┴─────────────┴─────────────┴───┴────────────┴───────┴────────┴────────┘"
      ]
     },
     "execution_count": 219,
     "metadata": {},
     "output_type": "execute_result"
    }
   ],
   "source": [
    "df.describe()"
   ]
  },
  {
   "cell_type": "markdown",
   "metadata": {},
   "source": [
    "## Enumerate features ()"
   ]
  },
  {
   "cell_type": "code",
   "execution_count": 220,
   "metadata": {},
   "outputs": [
    {
     "data": {
      "text/plain": [
       "['title',\n",
       " 'Id',\n",
       " 'price',\n",
       " 'currency',\n",
       " 'loc city',\n",
       " 'loc county',\n",
       " 'loc dist',\n",
       " 'lat',\n",
       " 'lon',\n",
       " 'date',\n",
       " 'type',\n",
       " 'm2',\n",
       " 'rooms',\n",
       " 'age',\n",
       " 'floor',\n",
       " 'tfloor',\n",
       " 'heat',\n",
       " 'bath',\n",
       " 'furn',\n",
       " 'status',\n",
       " 'resid',\n",
       " 'due',\n",
       " 'loan',\n",
       " 'saler',\n",
       " 'exc']"
      ]
     },
     "execution_count": 220,
     "metadata": {},
     "output_type": "execute_result"
    }
   ],
   "source": [
    "df.columns"
   ]
  },
  {
   "cell_type": "markdown",
   "metadata": {},
   "source": [
    "## Drop unnecessary Features lat - lon - type - title - id - due and Status features from dataframe"
   ]
  },
  {
   "cell_type": "code",
   "execution_count": 221,
   "metadata": {},
   "outputs": [
    {
     "data": {
      "text/plain": [
       "['price',\n",
       " 'currency',\n",
       " 'loc city',\n",
       " 'loc county',\n",
       " 'loc dist',\n",
       " 'date',\n",
       " 'm2',\n",
       " 'rooms',\n",
       " 'age',\n",
       " 'floor',\n",
       " 'tfloor',\n",
       " 'heat',\n",
       " 'bath',\n",
       " 'furn',\n",
       " 'resid',\n",
       " 'loan',\n",
       " 'saler',\n",
       " 'exc']"
      ]
     },
     "execution_count": 221,
     "metadata": {},
     "output_type": "execute_result"
    }
   ],
   "source": [
    "df_updated = df.select(pl.col(\"*\").exclude(\"lat\", \"lon\", \"type\", \"title\", \"Id\", \"due\",\"status\", ))\n",
    "df_updated.columns"
   ]
  },
  {
   "cell_type": "markdown",
   "metadata": {},
   "source": [
    "## Merge all loc * to location column"
   ]
  },
  {
   "cell_type": "code",
   "execution_count": 222,
   "metadata": {},
   "outputs": [
    {
     "data": {
      "text/html": [
       "<div><style>\n",
       ".dataframe > thead > tr,\n",
       ".dataframe > tbody > tr {\n",
       "  text-align: right;\n",
       "  white-space: pre-wrap;\n",
       "}\n",
       "</style>\n",
       "<small>shape: (33_272, 16)</small><table border=\"1\" class=\"dataframe\"><thead><tr><th>location</th><th>price</th><th>currency</th><th>date</th><th>m2</th><th>rooms</th><th>age</th><th>floor</th><th>tfloor</th><th>heat</th><th>bath</th><th>furn</th><th>resid</th><th>loan</th><th>saler</th><th>exc</th></tr><tr><td>str</td><td>i64</td><td>str</td><td>str</td><td>i64</td><td>str</td><td>str</td><td>str</td><td>str</td><td>str</td><td>str</td><td>bool</td><td>str</td><td>bool</td><td>str</td><td>str</td></tr></thead><tbody><tr><td>&quot;İstanbul-Sanca…</td><td>225000</td><td>&quot;Turkish Lira&quot;</td><td>&quot;28 Temmuz 2016…</td><td>85</td><td>&quot;2+1&quot;</td><td>&quot;5-10&quot;</td><td>&quot;High Entrance&quot;</td><td>&quot;5&quot;</td><td>&quot;Combi&quot;</td><td>&quot;1&quot;</td><td>false</td><td>&quot;False.1&quot;</td><td>true</td><td>&quot;Owner&quot;</td><td>&quot;True.1&quot;</td></tr><tr><td>&quot;İstanbul-Üsküd…</td><td>360000</td><td>&quot;Turkish Lira&quot;</td><td>&quot;28 Temmuz 2016…</td><td>87</td><td>&quot;2+1&quot;</td><td>&quot;0&quot;</td><td>&quot;Ground Floor&quot;</td><td>&quot;9&quot;</td><td>&quot;Combi&quot;</td><td>&quot;1&quot;</td><td>false</td><td>&quot;True&quot;</td><td>true</td><td>&quot;Owner&quot;</td><td>&quot;False&quot;</td></tr><tr><td>&quot;İstanbul-Arnav…</td><td>335000</td><td>&quot;Turkish Lira&quot;</td><td>&quot;27 Temmuz 2016…</td><td>160</td><td>&quot;4+1&quot;</td><td>&quot;0&quot;</td><td>&quot;4&quot;</td><td>&quot;5&quot;</td><td>&quot;Combi&quot;</td><td>&quot;1&quot;</td><td>false</td><td>&quot;True&quot;</td><td>true</td><td>&quot;Owner&quot;</td><td>&quot;False&quot;</td></tr><tr><td>&quot;Antalya-Muratp…</td><td>235000</td><td>&quot;Turkish Lira&quot;</td><td>&quot;28 Temmuz 2016…</td><td>165</td><td>&quot;4+1&quot;</td><td>&quot;5-10&quot;</td><td>&quot;Rise 4&quot;</td><td>&quot;4&quot;</td><td>&quot;Floor Calorie&quot;</td><td>&quot;2&quot;</td><td>false</td><td>&quot;False&quot;</td><td>true</td><td>&quot;Owner&quot;</td><td>&quot;True&quot;</td></tr><tr><td>&quot;Manisa-Yunusem…</td><td>229000</td><td>&quot;Turkish Lira&quot;</td><td>&quot;28 Temmuz 2016…</td><td>208</td><td>&quot;5+1&quot;</td><td>&quot;0&quot;</td><td>&quot;Rise 4&quot;</td><td>&quot;5&quot;</td><td>&quot;Combi&quot;</td><td>&quot;2&quot;</td><td>false</td><td>&quot;False&quot;</td><td>true</td><td>&quot;Owner&quot;</td><td>&quot;False&quot;</td></tr><tr><td>&quot;Hatay-Belen-Fa…</td><td>300000</td><td>&quot;Turkish Lira&quot;</td><td>&quot;28 Temmuz 2016…</td><td>220</td><td>&quot;4+2&quot;</td><td>&quot;0&quot;</td><td>&quot;6&quot;</td><td>&quot;6&quot;</td><td>&quot;Combi&quot;</td><td>&quot;2&quot;</td><td>false</td><td>&quot;True&quot;</td><td>true</td><td>&quot;Owner&quot;</td><td>&quot;False&quot;</td></tr><tr><td>&quot;Ankara-Çankaya…</td><td>370000</td><td>&quot;Turkish Lira&quot;</td><td>&quot;28 Temmuz 2016…</td><td>100</td><td>&quot;3+1&quot;</td><td>&quot;21-25&quot;</td><td>&quot;3&quot;</td><td>&quot;3&quot;</td><td>&quot;Combi&quot;</td><td>&quot;1&quot;</td><td>false</td><td>&quot;False&quot;</td><td>true</td><td>&quot;Owner&quot;</td><td>&quot;False&quot;</td></tr><tr><td>&quot;Nevşehir-Merke…</td><td>315000</td><td>&quot;Turkish Lira&quot;</td><td>&quot;28 Temmuz 2016…</td><td>276</td><td>&quot;5+2&quot;</td><td>&quot;0&quot;</td><td>&quot;Rise 4&quot;</td><td>&quot;4&quot;</td><td>&quot;Combi&quot;</td><td>&quot;4&quot;</td><td>false</td><td>&quot;True&quot;</td><td>false</td><td>&quot;Owner&quot;</td><td>&quot;True&quot;</td></tr><tr><td>&quot;İstanbul-Eseny…</td><td>1650000</td><td>&quot;Turkish Lira&quot;</td><td>&quot;28 Temmuz 2016…</td><td>210</td><td>&quot;4+1&quot;</td><td>&quot;0&quot;</td><td>&quot;22&quot;</td><td>&quot;30+&quot;</td><td>&quot;Central&quot;</td><td>&quot;3&quot;</td><td>false</td><td>&quot;True&quot;</td><td>false</td><td>&quot;Owner&quot;</td><td>&quot;False&quot;</td></tr><tr><td>&quot;Aydın-Didim-Ça…</td><td>220000</td><td>&quot;Turkish Lira&quot;</td><td>&quot;28 Temmuz 2016…</td><td>80</td><td>&quot;2+1&quot;</td><td>&quot;3&quot;</td><td>&quot;2&quot;</td><td>&quot;3&quot;</td><td>&quot;Air Conditioni…</td><td>&quot;1&quot;</td><td>true</td><td>&quot;False&quot;</td><td>null</td><td>&quot;Owner&quot;</td><td>&quot;False&quot;</td></tr><tr><td>&quot;İstanbul-Eseny…</td><td>350000</td><td>&quot;Turkish Lira&quot;</td><td>&quot;28 Temmuz 2016…</td><td>125</td><td>&quot;2+1&quot;</td><td>&quot;0&quot;</td><td>&quot;2&quot;</td><td>&quot;25&quot;</td><td>&quot;Combi&quot;</td><td>&quot;2&quot;</td><td>false</td><td>&quot;True&quot;</td><td>true</td><td>&quot;Owner&quot;</td><td>&quot;True&quot;</td></tr><tr><td>&quot;İstanbul-Pendi…</td><td>265000</td><td>&quot;Turkish Lira&quot;</td><td>&quot;28 Temmuz 2016…</td><td>94</td><td>&quot;2+1&quot;</td><td>&quot;5-10&quot;</td><td>&quot;4&quot;</td><td>&quot;5&quot;</td><td>&quot;Combi&quot;</td><td>&quot;1&quot;</td><td>false</td><td>&quot;False&quot;</td><td>true</td><td>&quot;Owner&quot;</td><td>&quot;False&quot;</td></tr><tr><td>&hellip;</td><td>&hellip;</td><td>&hellip;</td><td>&hellip;</td><td>&hellip;</td><td>&hellip;</td><td>&hellip;</td><td>&hellip;</td><td>&hellip;</td><td>&hellip;</td><td>&hellip;</td><td>&hellip;</td><td>&hellip;</td><td>&hellip;</td><td>&hellip;</td><td>&hellip;</td></tr><tr><td>&quot;Konya-Karatay-…</td><td>195000</td><td>&quot;Turkish Lira&quot;</td><td>&quot;2017-09-03&quot;</td><td>155</td><td>&quot;3+1&quot;</td><td>&quot;0&quot;</td><td>&quot;1&quot;</td><td>&quot;5&quot;</td><td>&quot;Combi&quot;</td><td>&quot;1&quot;</td><td>false</td><td>&quot;True&quot;</td><td>true</td><td>&quot;Real Estate Of…</td><td>&quot;False&quot;</td></tr><tr><td>&quot;Aydın-İncirlio…</td><td>260000</td><td>&quot;Turkish Lira&quot;</td><td>&quot;2017-09-03&quot;</td><td>260</td><td>&quot;6+1&quot;</td><td>&quot;0&quot;</td><td>&quot;3&quot;</td><td>&quot;3&quot;</td><td>&quot;Central&quot;</td><td>&quot;3&quot;</td><td>false</td><td>&quot;False&quot;</td><td>true</td><td>&quot;Construction C…</td><td>&quot;False&quot;</td></tr><tr><td>&quot;Mersin-Mezitli…</td><td>219000</td><td>&quot;Turkish Lira&quot;</td><td>&quot;2017-09-03&quot;</td><td>195</td><td>&quot;3+1&quot;</td><td>&quot;4&quot;</td><td>&quot;4&quot;</td><td>&quot;5&quot;</td><td>&quot;Air Conditioni…</td><td>&quot;1&quot;</td><td>false</td><td>&quot;False&quot;</td><td>true</td><td>&quot;Real Estate Of…</td><td>&quot;False&quot;</td></tr><tr><td>&quot;Diyarbakır-Kay…</td><td>245000</td><td>&quot;Turkish Lira&quot;</td><td>&quot;2017-09-03&quot;</td><td>255</td><td>&quot;4+1&quot;</td><td>&quot;4&quot;</td><td>&quot;4&quot;</td><td>&quot;11&quot;</td><td>&quot;Combi&quot;</td><td>&quot;2&quot;</td><td>false</td><td>&quot;True&quot;</td><td>true</td><td>&quot;Real Estate Of…</td><td>&quot;False&quot;</td></tr><tr><td>&quot;Ankara-Çankaya…</td><td>319999</td><td>&quot;Turkish Lira&quot;</td><td>&quot;2017-09-03&quot;</td><td>120</td><td>&quot;3+1&quot;</td><td>&quot;16-20&quot;</td><td>&quot;2&quot;</td><td>&quot;2&quot;</td><td>&quot;Combi&quot;</td><td>&quot;1&quot;</td><td>false</td><td>&quot;False&quot;</td><td>true</td><td>&quot;Real Estate Of…</td><td>&quot;False&quot;</td></tr><tr><td>&quot;Ankara-Çankaya…</td><td>795000</td><td>&quot;Turkish Lira&quot;</td><td>&quot;2017-09-03&quot;</td><td>245</td><td>&quot;4+1&quot;</td><td>&quot;3&quot;</td><td>&quot;1&quot;</td><td>&quot;5&quot;</td><td>&quot;Combi&quot;</td><td>&quot;2&quot;</td><td>false</td><td>&quot;True&quot;</td><td>true</td><td>&quot;Real Estate Of…</td><td>&quot;False&quot;</td></tr><tr><td>&quot;Ankara-Etimesg…</td><td>169000</td><td>&quot;Turkish Lira&quot;</td><td>&quot;2017-09-03&quot;</td><td>180</td><td>&quot;5+1&quot;</td><td>&quot;11-15&quot;</td><td>&quot;3&quot;</td><td>&quot;3&quot;</td><td>&quot;Combi&quot;</td><td>&quot;2&quot;</td><td>false</td><td>&quot;False&quot;</td><td>true</td><td>&quot;Real Estate Of…</td><td>&quot;False&quot;</td></tr><tr><td>&quot;İstanbul-Bahçe…</td><td>360000</td><td>&quot;Turkish Lira&quot;</td><td>&quot;2017-09-03&quot;</td><td>80</td><td>&quot;2+1&quot;</td><td>&quot;0&quot;</td><td>&quot;2&quot;</td><td>&quot;5&quot;</td><td>&quot;Combi&quot;</td><td>&quot;1&quot;</td><td>false</td><td>&quot;False&quot;</td><td>true</td><td>&quot;Real Estate Of…</td><td>&quot;False&quot;</td></tr><tr><td>&quot;Kayseri-Talas-…</td><td>475000</td><td>&quot;Turkish Lira&quot;</td><td>&quot;2017-09-03&quot;</td><td>180</td><td>&quot;3+1&quot;</td><td>&quot;4&quot;</td><td>&quot;13&quot;</td><td>&quot;14&quot;</td><td>&quot;Central&quot;</td><td>&quot;2&quot;</td><td>false</td><td>&quot;True&quot;</td><td>true</td><td>&quot;Owner&quot;</td><td>&quot;False&quot;</td></tr><tr><td>&quot;Ankara-Mamak-K…</td><td>375000</td><td>&quot;Turkish Lira&quot;</td><td>&quot;2017-09-03&quot;</td><td>280</td><td>&quot;6+1&quot;</td><td>&quot;5-10&quot;</td><td>&quot;6&quot;</td><td>&quot;6&quot;</td><td>&quot;Combi&quot;</td><td>&quot;2&quot;</td><td>false</td><td>&quot;False&quot;</td><td>false</td><td>&quot;Real Estate Of…</td><td>&quot;False&quot;</td></tr><tr><td>&quot;İstanbul-Bahçe…</td><td>289000</td><td>&quot;Turkish Lira&quot;</td><td>&quot;2017-09-03&quot;</td><td>88</td><td>&quot;2+1&quot;</td><td>&quot;0&quot;</td><td>&quot;1&quot;</td><td>&quot;5&quot;</td><td>&quot;Combi&quot;</td><td>&quot;1&quot;</td><td>false</td><td>&quot;False&quot;</td><td>true</td><td>&quot;Real Estate Of…</td><td>&quot;False&quot;</td></tr><tr><td>&quot;İstanbul-Üsküd…</td><td>320000</td><td>&quot;Turkish Lira&quot;</td><td>&quot;2017-09-03&quot;</td><td>85</td><td>&quot;2+1&quot;</td><td>&quot;5-10&quot;</td><td>&quot;Ground Floor&quot;</td><td>&quot;5&quot;</td><td>&quot;Combi&quot;</td><td>&quot;1&quot;</td><td>false</td><td>&quot;False&quot;</td><td>false</td><td>&quot;Real Estate Of…</td><td>&quot;False&quot;</td></tr></tbody></table></div>"
      ],
      "text/plain": [
       "shape: (33_272, 16)\n",
       "┌────────────────────┬────────┬──────────┬────────────┬───┬─────────┬───────┬─────────────┬────────┐\n",
       "│ location           ┆ price  ┆ currency ┆ date       ┆ … ┆ resid   ┆ loan  ┆ saler       ┆ exc    │\n",
       "│ ---                ┆ ---    ┆ ---      ┆ ---        ┆   ┆ ---     ┆ ---   ┆ ---         ┆ ---    │\n",
       "│ str                ┆ i64    ┆ str      ┆ str        ┆   ┆ str     ┆ bool  ┆ str         ┆ str    │\n",
       "╞════════════════════╪════════╪══════════╪════════════╪═══╪═════════╪═══════╪═════════════╪════════╡\n",
       "│ İstanbul-Sancaktep ┆ 225000 ┆ Turkish  ┆ 28 Temmuz  ┆ … ┆ False.1 ┆ true  ┆ Owner       ┆ True.1 │\n",
       "│ e-Sarıgazi Mah…    ┆        ┆ Lira     ┆ 2016       ┆   ┆         ┆       ┆             ┆        │\n",
       "│ İstanbul-Üsküdar-Ü ┆ 360000 ┆ Turkish  ┆ 28 Temmuz  ┆ … ┆ True    ┆ true  ┆ Owner       ┆ False  │\n",
       "│ nalan Mah.         ┆        ┆ Lira     ┆ 2016       ┆   ┆         ┆       ┆             ┆        │\n",
       "│ İstanbul-Arnavutkö ┆ 335000 ┆ Turkish  ┆ 27 Temmuz  ┆ … ┆ True    ┆ true  ┆ Owner       ┆ False  │\n",
       "│ y-Hastane Mah.     ┆        ┆ Lira     ┆ 2016       ┆   ┆         ┆       ┆             ┆        │\n",
       "│ Antalya-Muratpaşa- ┆ 235000 ┆ Turkish  ┆ 28 Temmuz  ┆ … ┆ False   ┆ true  ┆ Owner       ┆ True   │\n",
       "│ Yenigün Mah.       ┆        ┆ Lira     ┆ 2016       ┆   ┆         ┆       ┆             ┆        │\n",
       "│ …                  ┆ …      ┆ …        ┆ …          ┆ … ┆ …       ┆ …     ┆ …           ┆ …      │\n",
       "│ Kayseri-Talas-Bahç ┆ 475000 ┆ Turkish  ┆ 2017-09-03 ┆ … ┆ True    ┆ true  ┆ Owner       ┆ False  │\n",
       "│ elievler Mah.      ┆        ┆ Lira     ┆            ┆   ┆         ┆       ┆             ┆        │\n",
       "│ Ankara-Mamak-Kazım ┆ 375000 ┆ Turkish  ┆ 2017-09-03 ┆ … ┆ False   ┆ false ┆ Real Estate ┆ False  │\n",
       "│ Orbay Mah.         ┆        ┆ Lira     ┆            ┆   ┆         ┆       ┆ Office      ┆        │\n",
       "│ İstanbul-Bahçeliev ┆ 289000 ┆ Turkish  ┆ 2017-09-03 ┆ … ┆ False   ┆ true  ┆ Real Estate ┆ False  │\n",
       "│ ler-Şirinevler…    ┆        ┆ Lira     ┆            ┆   ┆         ┆       ┆ Office      ┆        │\n",
       "│ İstanbul-Üsküdar-F ┆ 320000 ┆ Turkish  ┆ 2017-09-03 ┆ … ┆ False   ┆ false ┆ Real Estate ┆ False  │\n",
       "│ erah Mah.          ┆        ┆ Lira     ┆            ┆   ┆         ┆       ┆ Office      ┆        │\n",
       "└────────────────────┴────────┴──────────┴────────────┴───┴─────────┴───────┴─────────────┴────────┘"
      ]
     },
     "execution_count": 222,
     "metadata": {},
     "output_type": "execute_result"
    }
   ],
   "source": [
    "if \"loc city\" in df_updated.columns:\n",
    "    df_updated = df_updated.select(pl.struct([\"loc city\", \"loc county\", \"loc dist\"]).map_elements(lambda x: f'{x[\"loc city\"]}-{x[\"loc county\"]}-{x[\"loc dist\"]}').alias(\"location\"), pl.exclude([\"loc city\", \"loc county\", \"loc dist\"]))\n",
    "df_updated\n",
    "    "
   ]
  },
  {
   "cell_type": "code",
   "execution_count": 223,
   "metadata": {},
   "outputs": [
    {
     "data": {
      "text/html": [
       "<div><style>\n",
       ".dataframe > thead > tr,\n",
       ".dataframe > tbody > tr {\n",
       "  text-align: right;\n",
       "  white-space: pre-wrap;\n",
       "}\n",
       "</style>\n",
       "<small>shape: (4_499, 2)</small><table border=\"1\" class=\"dataframe\"><thead><tr><th>location</th><th>count</th></tr><tr><td>str</td><td>u32</td></tr></thead><tbody><tr><td>&quot;Adana-Sarıçam-…</td><td>21</td></tr><tr><td>&quot;İzmir-Menemen-…</td><td>14</td></tr><tr><td>&quot;Bolu-Merkez-Ta…</td><td>2</td></tr><tr><td>&quot;Ordu-Altınordu…</td><td>13</td></tr><tr><td>&quot;Aydın-Efeler-U…</td><td>1</td></tr><tr><td>&quot;İstanbul-Kağıt…</td><td>7</td></tr><tr><td>&quot;Samsun-Atakum-…</td><td>26</td></tr><tr><td>&quot;İstanbul-Üsküd…</td><td>15</td></tr><tr><td>&quot;Manisa-Şehzade…</td><td>6</td></tr><tr><td>&quot;Burdur-Bucak-K…</td><td>1</td></tr><tr><td>&quot;Düzce-Gölyaka-…</td><td>1</td></tr><tr><td>&quot;Kayseri-Bünyan…</td><td>1</td></tr><tr><td>&hellip;</td><td>&hellip;</td></tr><tr><td>&quot;Kahramanmaraş-…</td><td>1</td></tr><tr><td>&quot;İstanbul-Esenl…</td><td>5</td></tr><tr><td>&quot;Ankara-Keçiöre…</td><td>34</td></tr><tr><td>&quot;Antalya-Akseki…</td><td>1</td></tr><tr><td>&quot;Aydın-Kuyucak-…</td><td>1</td></tr><tr><td>&quot;Eskişehir-Tepe…</td><td>15</td></tr><tr><td>&quot;İstanbul-Eseny…</td><td>42</td></tr><tr><td>&quot;Denizli-Pamukk…</td><td>1</td></tr><tr><td>&quot;Samsun-İlkadım…</td><td>7</td></tr><tr><td>&quot;Batman-Merkez-…</td><td>5</td></tr><tr><td>&quot;Trabzon-Arsin-…</td><td>1</td></tr><tr><td>&quot;Aydın-Kuşadası…</td><td>1</td></tr></tbody></table></div>"
      ],
      "text/plain": [
       "shape: (4_499, 2)\n",
       "┌───────────────────────────────────┬───────┐\n",
       "│ location                          ┆ count │\n",
       "│ ---                               ┆ ---   │\n",
       "│ str                               ┆ u32   │\n",
       "╞═══════════════════════════════════╪═══════╡\n",
       "│ Adana-Sarıçam-Mehmet Akif Ersoy … ┆ 21    │\n",
       "│ İzmir-Menemen-30 Ağustos Mah.     ┆ 14    │\n",
       "│ Bolu-Merkez-Tabaklar Mah.         ┆ 2     │\n",
       "│ Ordu-Altınordu-Şahincili Mah.     ┆ 13    │\n",
       "│ …                                 ┆ …     │\n",
       "│ Samsun-İlkadım-Yenidoğan Mah.     ┆ 7     │\n",
       "│ Batman-Merkez-Gap Mah.            ┆ 5     │\n",
       "│ Trabzon-Arsin-Cumhuriyet Mah.     ┆ 1     │\n",
       "│ Aydın-Kuşadası-Dağ Mah.           ┆ 1     │\n",
       "└───────────────────────────────────┴───────┘"
      ]
     },
     "execution_count": 223,
     "metadata": {},
     "output_type": "execute_result"
    }
   ],
   "source": [
    "df_updated.group_by(\"location\").count()"
   ]
  },
  {
   "cell_type": "markdown",
   "metadata": {},
   "source": [
    "\n",
    "## Eliminate currency feature \n"
   ]
  },
  {
   "cell_type": "code",
   "execution_count": 224,
   "metadata": {},
   "outputs": [
    {
     "data": {
      "text/html": [
       "<div><style>\n",
       ".dataframe > thead > tr,\n",
       ".dataframe > tbody > tr {\n",
       "  text-align: right;\n",
       "  white-space: pre-wrap;\n",
       "}\n",
       "</style>\n",
       "<small>shape: (4, 2)</small><table border=\"1\" class=\"dataframe\"><thead><tr><th>currency</th><th>count</th></tr><tr><td>str</td><td>u32</td></tr></thead><tbody><tr><td>&quot;British Pound&quot;</td><td>25</td></tr><tr><td>&quot;US Dollar&quot;</td><td>1076</td></tr><tr><td>&quot;Turkish Lira&quot;</td><td>32004</td></tr><tr><td>&quot;Euro&quot;</td><td>167</td></tr></tbody></table></div>"
      ],
      "text/plain": [
       "shape: (4, 2)\n",
       "┌───────────────┬───────┐\n",
       "│ currency      ┆ count │\n",
       "│ ---           ┆ ---   │\n",
       "│ str           ┆ u32   │\n",
       "╞═══════════════╪═══════╡\n",
       "│ British Pound ┆ 25    │\n",
       "│ US Dollar     ┆ 1076  │\n",
       "│ Turkish Lira  ┆ 32004 │\n",
       "│ Euro          ┆ 167   │\n",
       "└───────────────┴───────┘"
      ]
     },
     "execution_count": 224,
     "metadata": {},
     "output_type": "execute_result"
    }
   ],
   "source": [
    "df_updated.group_by(\"currency\").count()"
   ]
  },
  {
   "cell_type": "code",
   "execution_count": 225,
   "metadata": {},
   "outputs": [],
   "source": [
    "# 02.01.2017 Günü Saat 15:30'da Belirlenen Gösterge Niteliğindeki Türkiye Cumhuriyet Merkez Bankası Kurları\n",
    "# https://www.tcmb.gov.tr/kurlar/kurlar_tr.html\n",
    "\n",
    "dolar_buy = 3.5338\n",
    "dolar_sell = 3.5402\n",
    "dolar = (dolar_buy + dolar_sell) / 2\n",
    "\n",
    "euro_buy = 3.7086\n",
    "euro_sell = 3.7153\n",
    "euro = (euro_buy + euro_sell) / 2\n",
    "\n",
    "brit_buy = 4.3488\n",
    "brit_sell = 4.3715\n",
    "brit = (brit_buy + brit_sell) / 2\n",
    "\n",
    "\n",
    "currency_dict = {\"Euro\": euro, \"US Dollar\": dolar, \"British Pound\": brit, \"Turkish Lira\": 1.0}"
   ]
  },
  {
   "cell_type": "code",
   "execution_count": 226,
   "metadata": {},
   "outputs": [
    {
     "data": {
      "text/html": [
       "<div><style>\n",
       ".dataframe > thead > tr,\n",
       ".dataframe > tbody > tr {\n",
       "  text-align: right;\n",
       "  white-space: pre-wrap;\n",
       "}\n",
       "</style>\n",
       "<small>shape: (33_272, 15)</small><table border=\"1\" class=\"dataframe\"><thead><tr><th>price_tr</th><th>location</th><th>date</th><th>m2</th><th>rooms</th><th>age</th><th>floor</th><th>tfloor</th><th>heat</th><th>bath</th><th>furn</th><th>resid</th><th>loan</th><th>saler</th><th>exc</th></tr><tr><td>f64</td><td>str</td><td>str</td><td>i64</td><td>str</td><td>str</td><td>str</td><td>str</td><td>str</td><td>str</td><td>bool</td><td>str</td><td>bool</td><td>str</td><td>str</td></tr></thead><tbody><tr><td>225000.0</td><td>&quot;İstanbul-Sanca…</td><td>&quot;28 Temmuz 2016…</td><td>85</td><td>&quot;2+1&quot;</td><td>&quot;5-10&quot;</td><td>&quot;High Entrance&quot;</td><td>&quot;5&quot;</td><td>&quot;Combi&quot;</td><td>&quot;1&quot;</td><td>false</td><td>&quot;False.1&quot;</td><td>true</td><td>&quot;Owner&quot;</td><td>&quot;True.1&quot;</td></tr><tr><td>360000.0</td><td>&quot;İstanbul-Üsküd…</td><td>&quot;28 Temmuz 2016…</td><td>87</td><td>&quot;2+1&quot;</td><td>&quot;0&quot;</td><td>&quot;Ground Floor&quot;</td><td>&quot;9&quot;</td><td>&quot;Combi&quot;</td><td>&quot;1&quot;</td><td>false</td><td>&quot;True&quot;</td><td>true</td><td>&quot;Owner&quot;</td><td>&quot;False&quot;</td></tr><tr><td>335000.0</td><td>&quot;İstanbul-Arnav…</td><td>&quot;27 Temmuz 2016…</td><td>160</td><td>&quot;4+1&quot;</td><td>&quot;0&quot;</td><td>&quot;4&quot;</td><td>&quot;5&quot;</td><td>&quot;Combi&quot;</td><td>&quot;1&quot;</td><td>false</td><td>&quot;True&quot;</td><td>true</td><td>&quot;Owner&quot;</td><td>&quot;False&quot;</td></tr><tr><td>235000.0</td><td>&quot;Antalya-Muratp…</td><td>&quot;28 Temmuz 2016…</td><td>165</td><td>&quot;4+1&quot;</td><td>&quot;5-10&quot;</td><td>&quot;Rise 4&quot;</td><td>&quot;4&quot;</td><td>&quot;Floor Calorie&quot;</td><td>&quot;2&quot;</td><td>false</td><td>&quot;False&quot;</td><td>true</td><td>&quot;Owner&quot;</td><td>&quot;True&quot;</td></tr><tr><td>229000.0</td><td>&quot;Manisa-Yunusem…</td><td>&quot;28 Temmuz 2016…</td><td>208</td><td>&quot;5+1&quot;</td><td>&quot;0&quot;</td><td>&quot;Rise 4&quot;</td><td>&quot;5&quot;</td><td>&quot;Combi&quot;</td><td>&quot;2&quot;</td><td>false</td><td>&quot;False&quot;</td><td>true</td><td>&quot;Owner&quot;</td><td>&quot;False&quot;</td></tr><tr><td>300000.0</td><td>&quot;Hatay-Belen-Fa…</td><td>&quot;28 Temmuz 2016…</td><td>220</td><td>&quot;4+2&quot;</td><td>&quot;0&quot;</td><td>&quot;6&quot;</td><td>&quot;6&quot;</td><td>&quot;Combi&quot;</td><td>&quot;2&quot;</td><td>false</td><td>&quot;True&quot;</td><td>true</td><td>&quot;Owner&quot;</td><td>&quot;False&quot;</td></tr><tr><td>370000.0</td><td>&quot;Ankara-Çankaya…</td><td>&quot;28 Temmuz 2016…</td><td>100</td><td>&quot;3+1&quot;</td><td>&quot;21-25&quot;</td><td>&quot;3&quot;</td><td>&quot;3&quot;</td><td>&quot;Combi&quot;</td><td>&quot;1&quot;</td><td>false</td><td>&quot;False&quot;</td><td>true</td><td>&quot;Owner&quot;</td><td>&quot;False&quot;</td></tr><tr><td>315000.0</td><td>&quot;Nevşehir-Merke…</td><td>&quot;28 Temmuz 2016…</td><td>276</td><td>&quot;5+2&quot;</td><td>&quot;0&quot;</td><td>&quot;Rise 4&quot;</td><td>&quot;4&quot;</td><td>&quot;Combi&quot;</td><td>&quot;4&quot;</td><td>false</td><td>&quot;True&quot;</td><td>false</td><td>&quot;Owner&quot;</td><td>&quot;True&quot;</td></tr><tr><td>1.65e6</td><td>&quot;İstanbul-Eseny…</td><td>&quot;28 Temmuz 2016…</td><td>210</td><td>&quot;4+1&quot;</td><td>&quot;0&quot;</td><td>&quot;22&quot;</td><td>&quot;30+&quot;</td><td>&quot;Central&quot;</td><td>&quot;3&quot;</td><td>false</td><td>&quot;True&quot;</td><td>false</td><td>&quot;Owner&quot;</td><td>&quot;False&quot;</td></tr><tr><td>220000.0</td><td>&quot;Aydın-Didim-Ça…</td><td>&quot;28 Temmuz 2016…</td><td>80</td><td>&quot;2+1&quot;</td><td>&quot;3&quot;</td><td>&quot;2&quot;</td><td>&quot;3&quot;</td><td>&quot;Air Conditioni…</td><td>&quot;1&quot;</td><td>true</td><td>&quot;False&quot;</td><td>null</td><td>&quot;Owner&quot;</td><td>&quot;False&quot;</td></tr><tr><td>350000.0</td><td>&quot;İstanbul-Eseny…</td><td>&quot;28 Temmuz 2016…</td><td>125</td><td>&quot;2+1&quot;</td><td>&quot;0&quot;</td><td>&quot;2&quot;</td><td>&quot;25&quot;</td><td>&quot;Combi&quot;</td><td>&quot;2&quot;</td><td>false</td><td>&quot;True&quot;</td><td>true</td><td>&quot;Owner&quot;</td><td>&quot;True&quot;</td></tr><tr><td>265000.0</td><td>&quot;İstanbul-Pendi…</td><td>&quot;28 Temmuz 2016…</td><td>94</td><td>&quot;2+1&quot;</td><td>&quot;5-10&quot;</td><td>&quot;4&quot;</td><td>&quot;5&quot;</td><td>&quot;Combi&quot;</td><td>&quot;1&quot;</td><td>false</td><td>&quot;False&quot;</td><td>true</td><td>&quot;Owner&quot;</td><td>&quot;False&quot;</td></tr><tr><td>&hellip;</td><td>&hellip;</td><td>&hellip;</td><td>&hellip;</td><td>&hellip;</td><td>&hellip;</td><td>&hellip;</td><td>&hellip;</td><td>&hellip;</td><td>&hellip;</td><td>&hellip;</td><td>&hellip;</td><td>&hellip;</td><td>&hellip;</td><td>&hellip;</td></tr><tr><td>195000.0</td><td>&quot;Konya-Karatay-…</td><td>&quot;2017-09-03&quot;</td><td>155</td><td>&quot;3+1&quot;</td><td>&quot;0&quot;</td><td>&quot;1&quot;</td><td>&quot;5&quot;</td><td>&quot;Combi&quot;</td><td>&quot;1&quot;</td><td>false</td><td>&quot;True&quot;</td><td>true</td><td>&quot;Real Estate Of…</td><td>&quot;False&quot;</td></tr><tr><td>260000.0</td><td>&quot;Aydın-İncirlio…</td><td>&quot;2017-09-03&quot;</td><td>260</td><td>&quot;6+1&quot;</td><td>&quot;0&quot;</td><td>&quot;3&quot;</td><td>&quot;3&quot;</td><td>&quot;Central&quot;</td><td>&quot;3&quot;</td><td>false</td><td>&quot;False&quot;</td><td>true</td><td>&quot;Construction C…</td><td>&quot;False&quot;</td></tr><tr><td>219000.0</td><td>&quot;Mersin-Mezitli…</td><td>&quot;2017-09-03&quot;</td><td>195</td><td>&quot;3+1&quot;</td><td>&quot;4&quot;</td><td>&quot;4&quot;</td><td>&quot;5&quot;</td><td>&quot;Air Conditioni…</td><td>&quot;1&quot;</td><td>false</td><td>&quot;False&quot;</td><td>true</td><td>&quot;Real Estate Of…</td><td>&quot;False&quot;</td></tr><tr><td>245000.0</td><td>&quot;Diyarbakır-Kay…</td><td>&quot;2017-09-03&quot;</td><td>255</td><td>&quot;4+1&quot;</td><td>&quot;4&quot;</td><td>&quot;4&quot;</td><td>&quot;11&quot;</td><td>&quot;Combi&quot;</td><td>&quot;2&quot;</td><td>false</td><td>&quot;True&quot;</td><td>true</td><td>&quot;Real Estate Of…</td><td>&quot;False&quot;</td></tr><tr><td>319999.0</td><td>&quot;Ankara-Çankaya…</td><td>&quot;2017-09-03&quot;</td><td>120</td><td>&quot;3+1&quot;</td><td>&quot;16-20&quot;</td><td>&quot;2&quot;</td><td>&quot;2&quot;</td><td>&quot;Combi&quot;</td><td>&quot;1&quot;</td><td>false</td><td>&quot;False&quot;</td><td>true</td><td>&quot;Real Estate Of…</td><td>&quot;False&quot;</td></tr><tr><td>795000.0</td><td>&quot;Ankara-Çankaya…</td><td>&quot;2017-09-03&quot;</td><td>245</td><td>&quot;4+1&quot;</td><td>&quot;3&quot;</td><td>&quot;1&quot;</td><td>&quot;5&quot;</td><td>&quot;Combi&quot;</td><td>&quot;2&quot;</td><td>false</td><td>&quot;True&quot;</td><td>true</td><td>&quot;Real Estate Of…</td><td>&quot;False&quot;</td></tr><tr><td>169000.0</td><td>&quot;Ankara-Etimesg…</td><td>&quot;2017-09-03&quot;</td><td>180</td><td>&quot;5+1&quot;</td><td>&quot;11-15&quot;</td><td>&quot;3&quot;</td><td>&quot;3&quot;</td><td>&quot;Combi&quot;</td><td>&quot;2&quot;</td><td>false</td><td>&quot;False&quot;</td><td>true</td><td>&quot;Real Estate Of…</td><td>&quot;False&quot;</td></tr><tr><td>360000.0</td><td>&quot;İstanbul-Bahçe…</td><td>&quot;2017-09-03&quot;</td><td>80</td><td>&quot;2+1&quot;</td><td>&quot;0&quot;</td><td>&quot;2&quot;</td><td>&quot;5&quot;</td><td>&quot;Combi&quot;</td><td>&quot;1&quot;</td><td>false</td><td>&quot;False&quot;</td><td>true</td><td>&quot;Real Estate Of…</td><td>&quot;False&quot;</td></tr><tr><td>475000.0</td><td>&quot;Kayseri-Talas-…</td><td>&quot;2017-09-03&quot;</td><td>180</td><td>&quot;3+1&quot;</td><td>&quot;4&quot;</td><td>&quot;13&quot;</td><td>&quot;14&quot;</td><td>&quot;Central&quot;</td><td>&quot;2&quot;</td><td>false</td><td>&quot;True&quot;</td><td>true</td><td>&quot;Owner&quot;</td><td>&quot;False&quot;</td></tr><tr><td>375000.0</td><td>&quot;Ankara-Mamak-K…</td><td>&quot;2017-09-03&quot;</td><td>280</td><td>&quot;6+1&quot;</td><td>&quot;5-10&quot;</td><td>&quot;6&quot;</td><td>&quot;6&quot;</td><td>&quot;Combi&quot;</td><td>&quot;2&quot;</td><td>false</td><td>&quot;False&quot;</td><td>false</td><td>&quot;Real Estate Of…</td><td>&quot;False&quot;</td></tr><tr><td>289000.0</td><td>&quot;İstanbul-Bahçe…</td><td>&quot;2017-09-03&quot;</td><td>88</td><td>&quot;2+1&quot;</td><td>&quot;0&quot;</td><td>&quot;1&quot;</td><td>&quot;5&quot;</td><td>&quot;Combi&quot;</td><td>&quot;1&quot;</td><td>false</td><td>&quot;False&quot;</td><td>true</td><td>&quot;Real Estate Of…</td><td>&quot;False&quot;</td></tr><tr><td>320000.0</td><td>&quot;İstanbul-Üsküd…</td><td>&quot;2017-09-03&quot;</td><td>85</td><td>&quot;2+1&quot;</td><td>&quot;5-10&quot;</td><td>&quot;Ground Floor&quot;</td><td>&quot;5&quot;</td><td>&quot;Combi&quot;</td><td>&quot;1&quot;</td><td>false</td><td>&quot;False&quot;</td><td>false</td><td>&quot;Real Estate Of…</td><td>&quot;False&quot;</td></tr></tbody></table></div>"
      ],
      "text/plain": [
       "shape: (33_272, 15)\n",
       "┌──────────┬───────────────────┬────────────────┬─────┬───┬─────────┬───────┬─────────────┬────────┐\n",
       "│ price_tr ┆ location          ┆ date           ┆ m2  ┆ … ┆ resid   ┆ loan  ┆ saler       ┆ exc    │\n",
       "│ ---      ┆ ---               ┆ ---            ┆ --- ┆   ┆ ---     ┆ ---   ┆ ---         ┆ ---    │\n",
       "│ f64      ┆ str               ┆ str            ┆ i64 ┆   ┆ str     ┆ bool  ┆ str         ┆ str    │\n",
       "╞══════════╪═══════════════════╪════════════════╪═════╪═══╪═════════╪═══════╪═════════════╪════════╡\n",
       "│ 225000.0 ┆ İstanbul-Sancakte ┆ 28 Temmuz 2016 ┆ 85  ┆ … ┆ False.1 ┆ true  ┆ Owner       ┆ True.1 │\n",
       "│          ┆ pe-Sarıgazi Mah…  ┆                ┆     ┆   ┆         ┆       ┆             ┆        │\n",
       "│ 360000.0 ┆ İstanbul-Üsküdar- ┆ 28 Temmuz 2016 ┆ 87  ┆ … ┆ True    ┆ true  ┆ Owner       ┆ False  │\n",
       "│          ┆ Ünalan Mah.       ┆                ┆     ┆   ┆         ┆       ┆             ┆        │\n",
       "│ 335000.0 ┆ İstanbul-Arnavutk ┆ 27 Temmuz 2016 ┆ 160 ┆ … ┆ True    ┆ true  ┆ Owner       ┆ False  │\n",
       "│          ┆ öy-Hastane Mah.   ┆                ┆     ┆   ┆         ┆       ┆             ┆        │\n",
       "│ 235000.0 ┆ Antalya-Muratpaşa ┆ 28 Temmuz 2016 ┆ 165 ┆ … ┆ False   ┆ true  ┆ Owner       ┆ True   │\n",
       "│          ┆ -Yenigün Mah.     ┆                ┆     ┆   ┆         ┆       ┆             ┆        │\n",
       "│ …        ┆ …                 ┆ …              ┆ …   ┆ … ┆ …       ┆ …     ┆ …           ┆ …      │\n",
       "│ 475000.0 ┆ Kayseri-Talas-Bah ┆ 2017-09-03     ┆ 180 ┆ … ┆ True    ┆ true  ┆ Owner       ┆ False  │\n",
       "│          ┆ çelievler Mah.    ┆                ┆     ┆   ┆         ┆       ┆             ┆        │\n",
       "│ 375000.0 ┆ Ankara-Mamak-Kazı ┆ 2017-09-03     ┆ 280 ┆ … ┆ False   ┆ false ┆ Real Estate ┆ False  │\n",
       "│          ┆ m Orbay Mah.      ┆                ┆     ┆   ┆         ┆       ┆ Office      ┆        │\n",
       "│ 289000.0 ┆ İstanbul-Bahçelie ┆ 2017-09-03     ┆ 88  ┆ … ┆ False   ┆ true  ┆ Real Estate ┆ False  │\n",
       "│          ┆ vler-Şirinevler…  ┆                ┆     ┆   ┆         ┆       ┆ Office      ┆        │\n",
       "│ 320000.0 ┆ İstanbul-Üsküdar- ┆ 2017-09-03     ┆ 85  ┆ … ┆ False   ┆ false ┆ Real Estate ┆ False  │\n",
       "│          ┆ Ferah Mah.        ┆                ┆     ┆   ┆         ┆       ┆ Office      ┆        │\n",
       "└──────────┴───────────────────┴────────────────┴─────┴───┴─────────┴───────┴─────────────┴────────┘"
      ]
     },
     "execution_count": 226,
     "metadata": {},
     "output_type": "execute_result"
    }
   ],
   "source": [
    "# update currency column\n",
    "if \"currency\" in df_updated.columns: \n",
    "    df_updated = df_updated.select(pl.struct([\"currency\", \"price\"]).map_elements(lambda x: currency_dict[x[\"currency\"]] * x[\"price\"]).alias(\"price_tr\"), pl.col(\"*\").exclude(\"currency\", \"price\"))\n",
    "df_updated"
   ]
  },
  {
   "cell_type": "code",
   "execution_count": 227,
   "metadata": {},
   "outputs": [
    {
     "data": {
      "text/html": [
       "<div><style>\n",
       ".dataframe > thead > tr,\n",
       ".dataframe > tbody > tr {\n",
       "  text-align: right;\n",
       "  white-space: pre-wrap;\n",
       "}\n",
       "</style>\n",
       "<small>shape: (10, 15)</small><table border=\"1\" class=\"dataframe\"><thead><tr><th>price_tr</th><th>location</th><th>date</th><th>m2</th><th>rooms</th><th>age</th><th>floor</th><th>tfloor</th><th>heat</th><th>bath</th><th>furn</th><th>resid</th><th>loan</th><th>saler</th><th>exc</th></tr><tr><td>f64</td><td>str</td><td>str</td><td>i64</td><td>str</td><td>str</td><td>str</td><td>str</td><td>str</td><td>str</td><td>bool</td><td>str</td><td>bool</td><td>str</td><td>str</td></tr></thead><tbody><tr><td>215000.0</td><td>&quot;Antalya-Korkut…</td><td>&quot;2017-08-25&quot;</td><td>140</td><td>&quot;3+1&quot;</td><td>&quot;0&quot;</td><td>&quot;3&quot;</td><td>&quot;3&quot;</td><td>&quot;Central&quot;</td><td>&quot;2&quot;</td><td>false</td><td>&quot;False&quot;</td><td>true</td><td>&quot;Real Estate Of…</td><td>&quot;False&quot;</td></tr><tr><td>200000.0</td><td>&quot;Aydın-Didim-Ak…</td><td>&quot;2017-08-26&quot;</td><td>85</td><td>&quot;1+1&quot;</td><td>&quot;3&quot;</td><td>&quot;2&quot;</td><td>&quot;2&quot;</td><td>&quot;Air Conditioni…</td><td>&quot;1&quot;</td><td>true</td><td>&quot;True&quot;</td><td>true</td><td>&quot;Real Estate Of…</td><td>&quot;False&quot;</td></tr><tr><td>195000.0</td><td>&quot;Konya-Selçuklu…</td><td>&quot;2017-08-23&quot;</td><td>110</td><td>&quot;3+1&quot;</td><td>&quot;0&quot;</td><td>&quot;4&quot;</td><td>&quot;4&quot;</td><td>&quot;Combi&quot;</td><td>&quot;2&quot;</td><td>false</td><td>&quot;False&quot;</td><td>true</td><td>&quot;Real Estate Of…</td><td>&quot;False&quot;</td></tr><tr><td>340000.0</td><td>&quot;Denizli-Merkez…</td><td>&quot;2017-08-23&quot;</td><td>160</td><td>&quot;3+1&quot;</td><td>&quot;0&quot;</td><td>&quot;2&quot;</td><td>&quot;5&quot;</td><td>&quot;Floor&quot;</td><td>&quot;2&quot;</td><td>false</td><td>&quot;False&quot;</td><td>true</td><td>&quot;Real Estate Of…</td><td>&quot;True&quot;</td></tr><tr><td>327000.0</td><td>&quot;İstanbul-Çekme…</td><td>&quot;20 Ağustos 201…</td><td>120</td><td>&quot;3+1&quot;</td><td>&quot;1&quot;</td><td>&quot;2&quot;</td><td>&quot;5&quot;</td><td>&quot;Combi&quot;</td><td>&quot;2&quot;</td><td>false</td><td>&quot;False&quot;</td><td>true</td><td>&quot;Real Estate Of…</td><td>&quot;False&quot;</td></tr><tr><td>280000.0</td><td>&quot;Tokat-Merkez-T…</td><td>&quot;18 Ağustos 201…</td><td>165</td><td>&quot;3+1&quot;</td><td>&quot;2&quot;</td><td>&quot;3&quot;</td><td>&quot;16&quot;</td><td>&quot;Central&quot;</td><td>&quot;2&quot;</td><td>false</td><td>&quot;True&quot;</td><td>true</td><td>&quot;Owner&quot;</td><td>&quot;False&quot;</td></tr><tr><td>150000.0</td><td>&quot;Elazığ-Merkez-…</td><td>&quot;2017-08-25&quot;</td><td>130</td><td>&quot;3+1&quot;</td><td>&quot;16-20&quot;</td><td>&quot;5&quot;</td><td>&quot;5&quot;</td><td>&quot;Combi&quot;</td><td>&quot;1&quot;</td><td>null</td><td>&quot;False&quot;</td><td>null</td><td>&quot;Owner&quot;</td><td>&quot;False&quot;</td></tr><tr><td>1.3e6</td><td>&quot;Antalya-Muratp…</td><td>&quot;2017-08-21&quot;</td><td>200</td><td>&quot;4+1&quot;</td><td>&quot;5-10&quot;</td><td>&quot;2&quot;</td><td>&quot;10&quot;</td><td>&quot;Air Conditioni…</td><td>&quot;3&quot;</td><td>false</td><td>&quot;True&quot;</td><td>true</td><td>&quot;Real Estate Of…</td><td>&quot;False&quot;</td></tr><tr><td>332000.0</td><td>&quot;İstanbul-Karta…</td><td>&quot;2017-08-28&quot;</td><td>110</td><td>&quot;3+1&quot;</td><td>&quot;16-20&quot;</td><td>&quot;10&quot;</td><td>&quot;10&quot;</td><td>&quot;Combi&quot;</td><td>&quot;1&quot;</td><td>false</td><td>&quot;False&quot;</td><td>true</td><td>&quot;Real Estate Of…</td><td>&quot;False&quot;</td></tr><tr><td>170000.0</td><td>&quot;Mersin-Torosla…</td><td>&quot;2017-08-26&quot;</td><td>140</td><td>&quot;3+1&quot;</td><td>&quot;0&quot;</td><td>&quot;Rise 3&quot;</td><td>&quot;5&quot;</td><td>&quot;Combi&quot;</td><td>&quot;1&quot;</td><td>null</td><td>&quot;True&quot;</td><td>true</td><td>&quot;Real Estate Of…</td><td>&quot;True&quot;</td></tr></tbody></table></div>"
      ],
      "text/plain": [
       "shape: (10, 15)\n",
       "┌──────────┬────────────────────┬────────────┬─────┬───┬───────┬──────┬────────────────────┬───────┐\n",
       "│ price_tr ┆ location           ┆ date       ┆ m2  ┆ … ┆ resid ┆ loan ┆ saler              ┆ exc   │\n",
       "│ ---      ┆ ---                ┆ ---        ┆ --- ┆   ┆ ---   ┆ ---  ┆ ---                ┆ ---   │\n",
       "│ f64      ┆ str                ┆ str        ┆ i64 ┆   ┆ str   ┆ bool ┆ str                ┆ str   │\n",
       "╞══════════╪════════════════════╪════════════╪═════╪═══╪═══════╪══════╪════════════════════╪═══════╡\n",
       "│ 215000.0 ┆ Antalya-Korkuteli- ┆ 2017-08-25 ┆ 140 ┆ … ┆ False ┆ true ┆ Real Estate Office ┆ False │\n",
       "│          ┆ Yeni Mah.          ┆            ┆     ┆   ┆       ┆      ┆                    ┆       │\n",
       "│ 200000.0 ┆ Aydın-Didim-Akbük  ┆ 2017-08-26 ┆ 85  ┆ … ┆ True  ┆ true ┆ Real Estate Office ┆ False │\n",
       "│ 195000.0 ┆ Konya-Selçuklu-Meh ┆ 2017-08-23 ┆ 110 ┆ … ┆ False ┆ true ┆ Real Estate Office ┆ False │\n",
       "│          ┆ met Akif Mah.      ┆            ┆     ┆   ┆       ┆      ┆                    ┆       │\n",
       "│ 340000.0 ┆ Denizli-Merkez-Yen ┆ 2017-08-23 ┆ 160 ┆ … ┆ False ┆ true ┆ Real Estate Office ┆ True  │\n",
       "│          ┆ işafak Mah.        ┆            ┆     ┆   ┆       ┆      ┆                    ┆       │\n",
       "│ …        ┆ …                  ┆ …          ┆ …   ┆ … ┆ …     ┆ …    ┆ …                  ┆ …     │\n",
       "│ 150000.0 ┆ Elazığ-Merkez-Abdu ┆ 2017-08-25 ┆ 130 ┆ … ┆ False ┆ null ┆ Owner              ┆ False │\n",
       "│          ┆ llah Paşa Mah.     ┆            ┆     ┆   ┆       ┆      ┆                    ┆       │\n",
       "│ 1.3e6    ┆ Antalya-Muratpaşa- ┆ 2017-08-21 ┆ 200 ┆ … ┆ True  ┆ true ┆ Real Estate Office ┆ False │\n",
       "│          ┆ Çağlayan Mah.      ┆            ┆     ┆   ┆       ┆      ┆                    ┆       │\n",
       "│ 332000.0 ┆ İstanbul-Kartal-Uğ ┆ 2017-08-28 ┆ 110 ┆ … ┆ False ┆ true ┆ Real Estate Office ┆ False │\n",
       "│          ┆ urmumcu Mah.       ┆            ┆     ┆   ┆       ┆      ┆                    ┆       │\n",
       "│ 170000.0 ┆ Mersin-Toroslar-Ya ┆ 2017-08-26 ┆ 140 ┆ … ┆ True  ┆ true ┆ Real Estate Office ┆ True  │\n",
       "│          ┆ lınayak Mah.       ┆            ┆     ┆   ┆       ┆      ┆                    ┆       │\n",
       "└──────────┴────────────────────┴────────────┴─────┴───┴───────┴──────┴────────────────────┴───────┘"
      ]
     },
     "execution_count": 227,
     "metadata": {},
     "output_type": "execute_result"
    }
   ],
   "source": [
    "df_updated.sample(10)"
   ]
  },
  {
   "cell_type": "code",
   "execution_count": 228,
   "metadata": {},
   "outputs": [
    {
     "data": {
      "text/plain": [
       "['price_tr',\n",
       " 'location',\n",
       " 'date',\n",
       " 'm2',\n",
       " 'rooms',\n",
       " 'age',\n",
       " 'floor',\n",
       " 'tfloor',\n",
       " 'heat',\n",
       " 'bath',\n",
       " 'furn',\n",
       " 'resid',\n",
       " 'loan',\n",
       " 'saler',\n",
       " 'exc']"
      ]
     },
     "execution_count": 228,
     "metadata": {},
     "output_type": "execute_result"
    }
   ],
   "source": [
    "df_updated.columns"
   ]
  },
  {
   "cell_type": "markdown",
   "metadata": {},
   "source": [
    "## Update dates with timestamp"
   ]
  },
  {
   "cell_type": "code",
   "execution_count": 229,
   "metadata": {},
   "outputs": [
    {
     "data": {
      "text/html": [
       "<div><style>\n",
       ".dataframe > thead > tr,\n",
       ".dataframe > tbody > tr {\n",
       "  text-align: right;\n",
       "  white-space: pre-wrap;\n",
       "}\n",
       "</style>\n",
       "<small>shape: (33_272, 15)</small><table border=\"1\" class=\"dataframe\"><thead><tr><th>price_tr</th><th>location</th><th>date</th><th>m2</th><th>rooms</th><th>age</th><th>floor</th><th>tfloor</th><th>heat</th><th>bath</th><th>furn</th><th>resid</th><th>loan</th><th>saler</th><th>exc</th></tr><tr><td>f64</td><td>str</td><td>i64</td><td>i64</td><td>str</td><td>str</td><td>str</td><td>str</td><td>str</td><td>str</td><td>bool</td><td>str</td><td>bool</td><td>str</td><td>str</td></tr></thead><tbody><tr><td>225000.0</td><td>&quot;İstanbul-Sanca…</td><td>1469653200</td><td>85</td><td>&quot;2+1&quot;</td><td>&quot;5-10&quot;</td><td>&quot;High Entrance&quot;</td><td>&quot;5&quot;</td><td>&quot;Combi&quot;</td><td>&quot;1&quot;</td><td>false</td><td>&quot;False.1&quot;</td><td>true</td><td>&quot;Owner&quot;</td><td>&quot;True.1&quot;</td></tr><tr><td>360000.0</td><td>&quot;İstanbul-Üsküd…</td><td>1469653200</td><td>87</td><td>&quot;2+1&quot;</td><td>&quot;0&quot;</td><td>&quot;Ground Floor&quot;</td><td>&quot;9&quot;</td><td>&quot;Combi&quot;</td><td>&quot;1&quot;</td><td>false</td><td>&quot;True&quot;</td><td>true</td><td>&quot;Owner&quot;</td><td>&quot;False&quot;</td></tr><tr><td>335000.0</td><td>&quot;İstanbul-Arnav…</td><td>1469566800</td><td>160</td><td>&quot;4+1&quot;</td><td>&quot;0&quot;</td><td>&quot;4&quot;</td><td>&quot;5&quot;</td><td>&quot;Combi&quot;</td><td>&quot;1&quot;</td><td>false</td><td>&quot;True&quot;</td><td>true</td><td>&quot;Owner&quot;</td><td>&quot;False&quot;</td></tr><tr><td>235000.0</td><td>&quot;Antalya-Muratp…</td><td>1469653200</td><td>165</td><td>&quot;4+1&quot;</td><td>&quot;5-10&quot;</td><td>&quot;Rise 4&quot;</td><td>&quot;4&quot;</td><td>&quot;Floor Calorie&quot;</td><td>&quot;2&quot;</td><td>false</td><td>&quot;False&quot;</td><td>true</td><td>&quot;Owner&quot;</td><td>&quot;True&quot;</td></tr><tr><td>229000.0</td><td>&quot;Manisa-Yunusem…</td><td>1469653200</td><td>208</td><td>&quot;5+1&quot;</td><td>&quot;0&quot;</td><td>&quot;Rise 4&quot;</td><td>&quot;5&quot;</td><td>&quot;Combi&quot;</td><td>&quot;2&quot;</td><td>false</td><td>&quot;False&quot;</td><td>true</td><td>&quot;Owner&quot;</td><td>&quot;False&quot;</td></tr><tr><td>300000.0</td><td>&quot;Hatay-Belen-Fa…</td><td>1469653200</td><td>220</td><td>&quot;4+2&quot;</td><td>&quot;0&quot;</td><td>&quot;6&quot;</td><td>&quot;6&quot;</td><td>&quot;Combi&quot;</td><td>&quot;2&quot;</td><td>false</td><td>&quot;True&quot;</td><td>true</td><td>&quot;Owner&quot;</td><td>&quot;False&quot;</td></tr><tr><td>370000.0</td><td>&quot;Ankara-Çankaya…</td><td>1469653200</td><td>100</td><td>&quot;3+1&quot;</td><td>&quot;21-25&quot;</td><td>&quot;3&quot;</td><td>&quot;3&quot;</td><td>&quot;Combi&quot;</td><td>&quot;1&quot;</td><td>false</td><td>&quot;False&quot;</td><td>true</td><td>&quot;Owner&quot;</td><td>&quot;False&quot;</td></tr><tr><td>315000.0</td><td>&quot;Nevşehir-Merke…</td><td>1469653200</td><td>276</td><td>&quot;5+2&quot;</td><td>&quot;0&quot;</td><td>&quot;Rise 4&quot;</td><td>&quot;4&quot;</td><td>&quot;Combi&quot;</td><td>&quot;4&quot;</td><td>false</td><td>&quot;True&quot;</td><td>false</td><td>&quot;Owner&quot;</td><td>&quot;True&quot;</td></tr><tr><td>1.65e6</td><td>&quot;İstanbul-Eseny…</td><td>1469653200</td><td>210</td><td>&quot;4+1&quot;</td><td>&quot;0&quot;</td><td>&quot;22&quot;</td><td>&quot;30+&quot;</td><td>&quot;Central&quot;</td><td>&quot;3&quot;</td><td>false</td><td>&quot;True&quot;</td><td>false</td><td>&quot;Owner&quot;</td><td>&quot;False&quot;</td></tr><tr><td>220000.0</td><td>&quot;Aydın-Didim-Ça…</td><td>1469653200</td><td>80</td><td>&quot;2+1&quot;</td><td>&quot;3&quot;</td><td>&quot;2&quot;</td><td>&quot;3&quot;</td><td>&quot;Air Conditioni…</td><td>&quot;1&quot;</td><td>true</td><td>&quot;False&quot;</td><td>null</td><td>&quot;Owner&quot;</td><td>&quot;False&quot;</td></tr><tr><td>350000.0</td><td>&quot;İstanbul-Eseny…</td><td>1469653200</td><td>125</td><td>&quot;2+1&quot;</td><td>&quot;0&quot;</td><td>&quot;2&quot;</td><td>&quot;25&quot;</td><td>&quot;Combi&quot;</td><td>&quot;2&quot;</td><td>false</td><td>&quot;True&quot;</td><td>true</td><td>&quot;Owner&quot;</td><td>&quot;True&quot;</td></tr><tr><td>265000.0</td><td>&quot;İstanbul-Pendi…</td><td>1469653200</td><td>94</td><td>&quot;2+1&quot;</td><td>&quot;5-10&quot;</td><td>&quot;4&quot;</td><td>&quot;5&quot;</td><td>&quot;Combi&quot;</td><td>&quot;1&quot;</td><td>false</td><td>&quot;False&quot;</td><td>true</td><td>&quot;Owner&quot;</td><td>&quot;False&quot;</td></tr><tr><td>&hellip;</td><td>&hellip;</td><td>&hellip;</td><td>&hellip;</td><td>&hellip;</td><td>&hellip;</td><td>&hellip;</td><td>&hellip;</td><td>&hellip;</td><td>&hellip;</td><td>&hellip;</td><td>&hellip;</td><td>&hellip;</td><td>&hellip;</td><td>&hellip;</td></tr><tr><td>195000.0</td><td>&quot;Konya-Karatay-…</td><td>1489006800</td><td>155</td><td>&quot;3+1&quot;</td><td>&quot;0&quot;</td><td>&quot;1&quot;</td><td>&quot;5&quot;</td><td>&quot;Combi&quot;</td><td>&quot;1&quot;</td><td>false</td><td>&quot;True&quot;</td><td>true</td><td>&quot;Real Estate Of…</td><td>&quot;False&quot;</td></tr><tr><td>260000.0</td><td>&quot;Aydın-İncirlio…</td><td>1489006800</td><td>260</td><td>&quot;6+1&quot;</td><td>&quot;0&quot;</td><td>&quot;3&quot;</td><td>&quot;3&quot;</td><td>&quot;Central&quot;</td><td>&quot;3&quot;</td><td>false</td><td>&quot;False&quot;</td><td>true</td><td>&quot;Construction C…</td><td>&quot;False&quot;</td></tr><tr><td>219000.0</td><td>&quot;Mersin-Mezitli…</td><td>1489006800</td><td>195</td><td>&quot;3+1&quot;</td><td>&quot;4&quot;</td><td>&quot;4&quot;</td><td>&quot;5&quot;</td><td>&quot;Air Conditioni…</td><td>&quot;1&quot;</td><td>false</td><td>&quot;False&quot;</td><td>true</td><td>&quot;Real Estate Of…</td><td>&quot;False&quot;</td></tr><tr><td>245000.0</td><td>&quot;Diyarbakır-Kay…</td><td>1489006800</td><td>255</td><td>&quot;4+1&quot;</td><td>&quot;4&quot;</td><td>&quot;4&quot;</td><td>&quot;11&quot;</td><td>&quot;Combi&quot;</td><td>&quot;2&quot;</td><td>false</td><td>&quot;True&quot;</td><td>true</td><td>&quot;Real Estate Of…</td><td>&quot;False&quot;</td></tr><tr><td>319999.0</td><td>&quot;Ankara-Çankaya…</td><td>1489006800</td><td>120</td><td>&quot;3+1&quot;</td><td>&quot;16-20&quot;</td><td>&quot;2&quot;</td><td>&quot;2&quot;</td><td>&quot;Combi&quot;</td><td>&quot;1&quot;</td><td>false</td><td>&quot;False&quot;</td><td>true</td><td>&quot;Real Estate Of…</td><td>&quot;False&quot;</td></tr><tr><td>795000.0</td><td>&quot;Ankara-Çankaya…</td><td>1489006800</td><td>245</td><td>&quot;4+1&quot;</td><td>&quot;3&quot;</td><td>&quot;1&quot;</td><td>&quot;5&quot;</td><td>&quot;Combi&quot;</td><td>&quot;2&quot;</td><td>false</td><td>&quot;True&quot;</td><td>true</td><td>&quot;Real Estate Of…</td><td>&quot;False&quot;</td></tr><tr><td>169000.0</td><td>&quot;Ankara-Etimesg…</td><td>1489006800</td><td>180</td><td>&quot;5+1&quot;</td><td>&quot;11-15&quot;</td><td>&quot;3&quot;</td><td>&quot;3&quot;</td><td>&quot;Combi&quot;</td><td>&quot;2&quot;</td><td>false</td><td>&quot;False&quot;</td><td>true</td><td>&quot;Real Estate Of…</td><td>&quot;False&quot;</td></tr><tr><td>360000.0</td><td>&quot;İstanbul-Bahçe…</td><td>1489006800</td><td>80</td><td>&quot;2+1&quot;</td><td>&quot;0&quot;</td><td>&quot;2&quot;</td><td>&quot;5&quot;</td><td>&quot;Combi&quot;</td><td>&quot;1&quot;</td><td>false</td><td>&quot;False&quot;</td><td>true</td><td>&quot;Real Estate Of…</td><td>&quot;False&quot;</td></tr><tr><td>475000.0</td><td>&quot;Kayseri-Talas-…</td><td>1489006800</td><td>180</td><td>&quot;3+1&quot;</td><td>&quot;4&quot;</td><td>&quot;13&quot;</td><td>&quot;14&quot;</td><td>&quot;Central&quot;</td><td>&quot;2&quot;</td><td>false</td><td>&quot;True&quot;</td><td>true</td><td>&quot;Owner&quot;</td><td>&quot;False&quot;</td></tr><tr><td>375000.0</td><td>&quot;Ankara-Mamak-K…</td><td>1489006800</td><td>280</td><td>&quot;6+1&quot;</td><td>&quot;5-10&quot;</td><td>&quot;6&quot;</td><td>&quot;6&quot;</td><td>&quot;Combi&quot;</td><td>&quot;2&quot;</td><td>false</td><td>&quot;False&quot;</td><td>false</td><td>&quot;Real Estate Of…</td><td>&quot;False&quot;</td></tr><tr><td>289000.0</td><td>&quot;İstanbul-Bahçe…</td><td>1489006800</td><td>88</td><td>&quot;2+1&quot;</td><td>&quot;0&quot;</td><td>&quot;1&quot;</td><td>&quot;5&quot;</td><td>&quot;Combi&quot;</td><td>&quot;1&quot;</td><td>false</td><td>&quot;False&quot;</td><td>true</td><td>&quot;Real Estate Of…</td><td>&quot;False&quot;</td></tr><tr><td>320000.0</td><td>&quot;İstanbul-Üsküd…</td><td>1489006800</td><td>85</td><td>&quot;2+1&quot;</td><td>&quot;5-10&quot;</td><td>&quot;Ground Floor&quot;</td><td>&quot;5&quot;</td><td>&quot;Combi&quot;</td><td>&quot;1&quot;</td><td>false</td><td>&quot;False&quot;</td><td>false</td><td>&quot;Real Estate Of…</td><td>&quot;False&quot;</td></tr></tbody></table></div>"
      ],
      "text/plain": [
       "shape: (33_272, 15)\n",
       "┌──────────┬───────────────────────┬────────────┬─────┬───┬─────────┬───────┬─────────────┬────────┐\n",
       "│ price_tr ┆ location              ┆ date       ┆ m2  ┆ … ┆ resid   ┆ loan  ┆ saler       ┆ exc    │\n",
       "│ ---      ┆ ---                   ┆ ---        ┆ --- ┆   ┆ ---     ┆ ---   ┆ ---         ┆ ---    │\n",
       "│ f64      ┆ str                   ┆ i64        ┆ i64 ┆   ┆ str     ┆ bool  ┆ str         ┆ str    │\n",
       "╞══════════╪═══════════════════════╪════════════╪═════╪═══╪═════════╪═══════╪═════════════╪════════╡\n",
       "│ 225000.0 ┆ İstanbul-Sancaktepe-S ┆ 1469653200 ┆ 85  ┆ … ┆ False.1 ┆ true  ┆ Owner       ┆ True.1 │\n",
       "│          ┆ arıgazi Mah…          ┆            ┆     ┆   ┆         ┆       ┆             ┆        │\n",
       "│ 360000.0 ┆ İstanbul-Üsküdar-Ünal ┆ 1469653200 ┆ 87  ┆ … ┆ True    ┆ true  ┆ Owner       ┆ False  │\n",
       "│          ┆ an Mah.               ┆            ┆     ┆   ┆         ┆       ┆             ┆        │\n",
       "│ 335000.0 ┆ İstanbul-Arnavutköy-H ┆ 1469566800 ┆ 160 ┆ … ┆ True    ┆ true  ┆ Owner       ┆ False  │\n",
       "│          ┆ astane Mah.           ┆            ┆     ┆   ┆         ┆       ┆             ┆        │\n",
       "│ 235000.0 ┆ Antalya-Muratpaşa-Yen ┆ 1469653200 ┆ 165 ┆ … ┆ False   ┆ true  ┆ Owner       ┆ True   │\n",
       "│          ┆ igün Mah.             ┆            ┆     ┆   ┆         ┆       ┆             ┆        │\n",
       "│ …        ┆ …                     ┆ …          ┆ …   ┆ … ┆ …       ┆ …     ┆ …           ┆ …      │\n",
       "│ 475000.0 ┆ Kayseri-Talas-Bahçeli ┆ 1489006800 ┆ 180 ┆ … ┆ True    ┆ true  ┆ Owner       ┆ False  │\n",
       "│          ┆ evler Mah.            ┆            ┆     ┆   ┆         ┆       ┆             ┆        │\n",
       "│ 375000.0 ┆ Ankara-Mamak-Kazım    ┆ 1489006800 ┆ 280 ┆ … ┆ False   ┆ false ┆ Real Estate ┆ False  │\n",
       "│          ┆ Orbay Mah.            ┆            ┆     ┆   ┆         ┆       ┆ Office      ┆        │\n",
       "│ 289000.0 ┆ İstanbul-Bahçelievler ┆ 1489006800 ┆ 88  ┆ … ┆ False   ┆ true  ┆ Real Estate ┆ False  │\n",
       "│          ┆ -Şirinevler…          ┆            ┆     ┆   ┆         ┆       ┆ Office      ┆        │\n",
       "│ 320000.0 ┆ İstanbul-Üsküdar-Fera ┆ 1489006800 ┆ 85  ┆ … ┆ False   ┆ false ┆ Real Estate ┆ False  │\n",
       "│          ┆ h Mah.                ┆            ┆     ┆   ┆         ┆       ┆ Office      ┆        │\n",
       "└──────────┴───────────────────────┴────────────┴─────┴───┴─────────┴───────┴─────────────┴────────┘"
      ]
     },
     "execution_count": 229,
     "metadata": {},
     "output_type": "execute_result"
    }
   ],
   "source": [
    "aylar = {\"Ocak\": \"01\", \"Şubat\": \"02\", \"Mart\": \"03\", \"Nisan\": \"04\", \"Mayıs\": \"05\", \"Haziran\": \"06\",\n",
    "             \"Temmuz\": \"07\", \"Ağustos\": \"08\", \"Eylül\": \"09\", \"Ekim\": \"10\", \"Kasım\": \"11\", \"Aralık\": \"12\"}\n",
    "\n",
    "def transform_date(date):\n",
    "    match date:\n",
    "        case str():\n",
    "            result = '-'.join(date.split()[::-1])\n",
    "            for ay, ay_kodu in aylar.items():\n",
    "                result = result.replace(ay, ay_kodu)\n",
    "            \n",
    "            return result\n",
    "        case _:\n",
    "            return date\n",
    "\n",
    "def transform_date_to_ms(date_str) -> int:\n",
    "    from dateutil import parser\n",
    "\n",
    "    match date_str:\n",
    "        case str():\n",
    "            return parser.parse(date_str, dayfirst=True).timestamp().__floor__()\n",
    "        case _:\n",
    "            return int(date_str)\n",
    "\n",
    "df_updated = df_updated.with_columns(pl.col(\"date\").map_elements(transform_date).map_elements(transform_date_to_ms))\n",
    "df_updated\n"
   ]
  },
  {
   "cell_type": "markdown",
   "metadata": {},
   "source": [
    "## Bath transformation"
   ]
  },
  {
   "cell_type": "code",
   "execution_count": 230,
   "metadata": {},
   "outputs": [
    {
     "data": {
      "text/html": [
       "<div><style>\n",
       ".dataframe > thead > tr,\n",
       ".dataframe > tbody > tr {\n",
       "  text-align: right;\n",
       "  white-space: pre-wrap;\n",
       "}\n",
       "</style>\n",
       "<small>shape: (9, 16)</small><table border=\"1\" class=\"dataframe\"><thead><tr><th>describe</th><th>price_tr</th><th>location</th><th>date</th><th>m2</th><th>rooms</th><th>age</th><th>floor</th><th>tfloor</th><th>heat</th><th>bath</th><th>furn</th><th>resid</th><th>loan</th><th>saler</th><th>exc</th></tr><tr><td>str</td><td>f64</td><td>str</td><td>f64</td><td>f64</td><td>str</td><td>str</td><td>str</td><td>str</td><td>str</td><td>str</td><td>str</td><td>str</td><td>str</td><td>str</td><td>str</td></tr></thead><tbody><tr><td>&quot;count&quot;</td><td>33272.0</td><td>&quot;33272&quot;</td><td>33272.0</td><td>33272.0</td><td>&quot;33270&quot;</td><td>&quot;33272&quot;</td><td>&quot;33272&quot;</td><td>&quot;33272&quot;</td><td>&quot;32698&quot;</td><td>&quot;33199&quot;</td><td>&quot;32657&quot;</td><td>&quot;33252&quot;</td><td>&quot;32597&quot;</td><td>&quot;33272&quot;</td><td>&quot;33272&quot;</td></tr><tr><td>&quot;null_count&quot;</td><td>0.0</td><td>&quot;0&quot;</td><td>0.0</td><td>0.0</td><td>&quot;2&quot;</td><td>&quot;0&quot;</td><td>&quot;0&quot;</td><td>&quot;0&quot;</td><td>&quot;574&quot;</td><td>&quot;73&quot;</td><td>&quot;615&quot;</td><td>&quot;20&quot;</td><td>&quot;675&quot;</td><td>&quot;0&quot;</td><td>&quot;0&quot;</td></tr><tr><td>&quot;mean&quot;</td><td>554842.77183</td><td>null</td><td>1.5018e9</td><td>671.963543</td><td>null</td><td>null</td><td>null</td><td>null</td><td>null</td><td>null</td><td>null</td><td>null</td><td>null</td><td>null</td><td>null</td></tr><tr><td>&quot;std&quot;</td><td>1.3796e6</td><td>null</td><td>6.2417e6</td><td>17384.054832</td><td>null</td><td>null</td><td>null</td><td>null</td><td>null</td><td>null</td><td>null</td><td>null</td><td>null</td><td>null</td><td>null</td></tr><tr><td>&quot;min&quot;</td><td>17000.0</td><td>&quot;Adana-Ceyhan-B…</td><td>1.4522e9</td><td>0.0</td><td>&quot;1+0 (Studio)&quot;</td><td>&quot;0&quot;</td><td>&quot;1&quot;</td><td>&quot;1&quot;</td><td>&quot;Air Conditioni…</td><td>&quot;1&quot;</td><td>&quot;False&quot;</td><td>&quot;False&quot;</td><td>&quot;False&quot;</td><td>&quot;Bank&quot;</td><td>&quot;False&quot;</td></tr><tr><td>&quot;25%&quot;</td><td>173000.0</td><td>null</td><td>1.5032e9</td><td>95.0</td><td>null</td><td>null</td><td>null</td><td>null</td><td>null</td><td>null</td><td>null</td><td>null</td><td>null</td><td>null</td><td>null</td></tr><tr><td>&quot;50%&quot;</td><td>250000.0</td><td>null</td><td>1.5034e9</td><td>120.0</td><td>null</td><td>null</td><td>null</td><td>null</td><td>null</td><td>null</td><td>null</td><td>null</td><td>null</td><td>null</td><td>null</td></tr><tr><td>&quot;75%&quot;</td><td>380000.0</td><td>null</td><td>1.5036e9</td><td>160.0</td><td>null</td><td>null</td><td>null</td><td>null</td><td>null</td><td>null</td><td>null</td><td>null</td><td>null</td><td>null</td><td>null</td></tr><tr><td>&quot;max&quot;</td><td>1.7685e7</td><td>&quot;Şırnak-Merkez-…</td><td>1.5127e9</td><td>2.5e6</td><td>&quot;9+5&quot;</td><td>&quot;5-10&quot;</td><td>&quot;Villa Type&quot;</td><td>&quot;9&quot;</td><td>&quot;VRV&quot;</td><td>&quot;6+&quot;</td><td>&quot;True&quot;</td><td>&quot;True&quot;</td><td>&quot;True&quot;</td><td>&quot;Real Estate Of…</td><td>&quot;True.1&quot;</td></tr></tbody></table></div>"
      ],
      "text/plain": [
       "shape: (9, 16)\n",
       "┌────────────┬──────────────┬───────────────┬──────────┬───┬───────┬───────┬──────────────┬────────┐\n",
       "│ describe   ┆ price_tr     ┆ location      ┆ date     ┆ … ┆ resid ┆ loan  ┆ saler        ┆ exc    │\n",
       "│ ---        ┆ ---          ┆ ---           ┆ ---      ┆   ┆ ---   ┆ ---   ┆ ---          ┆ ---    │\n",
       "│ str        ┆ f64          ┆ str           ┆ f64      ┆   ┆ str   ┆ str   ┆ str          ┆ str    │\n",
       "╞════════════╪══════════════╪═══════════════╪══════════╪═══╪═══════╪═══════╪══════════════╪════════╡\n",
       "│ count      ┆ 33272.0      ┆ 33272         ┆ 33272.0  ┆ … ┆ 33252 ┆ 32597 ┆ 33272        ┆ 33272  │\n",
       "│ null_count ┆ 0.0          ┆ 0             ┆ 0.0      ┆ … ┆ 20    ┆ 675   ┆ 0            ┆ 0      │\n",
       "│ mean       ┆ 554842.77183 ┆ null          ┆ 1.5018e9 ┆ … ┆ null  ┆ null  ┆ null         ┆ null   │\n",
       "│ std        ┆ 1.3796e6     ┆ null          ┆ 6.2417e6 ┆ … ┆ null  ┆ null  ┆ null         ┆ null   │\n",
       "│ min        ┆ 17000.0      ┆ Adana-Ceyhan- ┆ 1.4522e9 ┆ … ┆ False ┆ False ┆ Bank         ┆ False  │\n",
       "│            ┆              ┆ Belediye      ┆          ┆   ┆       ┆       ┆              ┆        │\n",
       "│            ┆              ┆ Evleri Mah…   ┆          ┆   ┆       ┆       ┆              ┆        │\n",
       "│ 25%        ┆ 173000.0     ┆ null          ┆ 1.5032e9 ┆ … ┆ null  ┆ null  ┆ null         ┆ null   │\n",
       "│ 50%        ┆ 250000.0     ┆ null          ┆ 1.5034e9 ┆ … ┆ null  ┆ null  ┆ null         ┆ null   │\n",
       "│ 75%        ┆ 380000.0     ┆ null          ┆ 1.5036e9 ┆ … ┆ null  ┆ null  ┆ null         ┆ null   │\n",
       "│ max        ┆ 1.7685e7     ┆ Şırnak-Merkez ┆ 1.5127e9 ┆ … ┆ True  ┆ True  ┆ Real Estate  ┆ True.1 │\n",
       "│            ┆              ┆ -Vakıfkent    ┆          ┆   ┆       ┆       ┆ Office       ┆        │\n",
       "│            ┆              ┆ Mah.          ┆          ┆   ┆       ┆       ┆              ┆        │\n",
       "└────────────┴──────────────┴───────────────┴──────────┴───┴───────┴───────┴──────────────┴────────┘"
      ]
     },
     "execution_count": 230,
     "metadata": {},
     "output_type": "execute_result"
    }
   ],
   "source": [
    "df_updated.describe()"
   ]
  },
  {
   "cell_type": "markdown",
   "metadata": {},
   "source": [
    "## Enumeration Process"
   ]
  },
  {
   "cell_type": "code",
   "execution_count": 231,
   "metadata": {},
   "outputs": [
    {
     "data": {
      "text/html": [
       "<div><style>\n",
       ".dataframe > thead > tr,\n",
       ".dataframe > tbody > tr {\n",
       "  text-align: right;\n",
       "  white-space: pre-wrap;\n",
       "}\n",
       "</style>\n",
       "<small>shape: (33_272, 25)</small><table border=\"1\" class=\"dataframe\"><thead><tr><th>price_tr</th><th>location</th><th>date</th><th>m2</th><th>rooms</th><th>age</th><th>floor</th><th>tfloor</th><th>heat</th><th>bath</th><th>furn</th><th>resid</th><th>loan</th><th>saler</th><th>exc</th><th>location rank</th><th>rooms rank</th><th>age rank</th><th>floor rank</th><th>tfloor rank</th><th>heat rank</th><th>bath rank</th><th>resid rank</th><th>saler rank</th><th>exc rank</th></tr><tr><td>f64</td><td>str</td><td>i64</td><td>i64</td><td>str</td><td>str</td><td>str</td><td>str</td><td>str</td><td>str</td><td>bool</td><td>str</td><td>bool</td><td>str</td><td>str</td><td>u32</td><td>u32</td><td>u32</td><td>u32</td><td>u32</td><td>u32</td><td>u32</td><td>u32</td><td>u32</td><td>u32</td></tr></thead><tbody><tr><td>225000.0</td><td>&quot;İstanbul-Sanca…</td><td>1469653200</td><td>85</td><td>&quot;2+1&quot;</td><td>&quot;5-10&quot;</td><td>&quot;High Entrance&quot;</td><td>&quot;5&quot;</td><td>&quot;Combi&quot;</td><td>&quot;1&quot;</td><td>false</td><td>&quot;False.1&quot;</td><td>true</td><td>&quot;Owner&quot;</td><td>&quot;True.1&quot;</td><td>3939</td><td>6</td><td>11</td><td>34</td><td>26</td><td>3</td><td>1</td><td>2</td><td>3</td><td>3</td></tr><tr><td>360000.0</td><td>&quot;İstanbul-Üsküd…</td><td>1469653200</td><td>87</td><td>&quot;2+1&quot;</td><td>&quot;0&quot;</td><td>&quot;Ground Floor&quot;</td><td>&quot;9&quot;</td><td>&quot;Combi&quot;</td><td>&quot;1&quot;</td><td>false</td><td>&quot;True&quot;</td><td>true</td><td>&quot;Owner&quot;</td><td>&quot;False&quot;</td><td>4107</td><td>6</td><td>1</td><td>33</td><td>30</td><td>3</td><td>1</td><td>3</td><td>3</td><td>1</td></tr><tr><td>335000.0</td><td>&quot;İstanbul-Arnav…</td><td>1469566800</td><td>160</td><td>&quot;4+1&quot;</td><td>&quot;0&quot;</td><td>&quot;4&quot;</td><td>&quot;5&quot;</td><td>&quot;Combi&quot;</td><td>&quot;1&quot;</td><td>false</td><td>&quot;True&quot;</td><td>true</td><td>&quot;Owner&quot;</td><td>&quot;False&quot;</td><td>3479</td><td>10</td><td>1</td><td>25</td><td>26</td><td>3</td><td>1</td><td>3</td><td>3</td><td>1</td></tr><tr><td>235000.0</td><td>&quot;Antalya-Muratp…</td><td>1469653200</td><td>165</td><td>&quot;4+1&quot;</td><td>&quot;5-10&quot;</td><td>&quot;Rise 4&quot;</td><td>&quot;4&quot;</td><td>&quot;Floor Calorie&quot;</td><td>&quot;2&quot;</td><td>false</td><td>&quot;False&quot;</td><td>true</td><td>&quot;Owner&quot;</td><td>&quot;True&quot;</td><td>707</td><td>10</td><td>11</td><td>39</td><td>25</td><td>7</td><td>2</td><td>1</td><td>3</td><td>2</td></tr><tr><td>229000.0</td><td>&quot;Manisa-Yunusem…</td><td>1469653200</td><td>208</td><td>&quot;5+1&quot;</td><td>&quot;0&quot;</td><td>&quot;Rise 4&quot;</td><td>&quot;5&quot;</td><td>&quot;Combi&quot;</td><td>&quot;2&quot;</td><td>false</td><td>&quot;False&quot;</td><td>true</td><td>&quot;Owner&quot;</td><td>&quot;False&quot;</td><td>2499</td><td>14</td><td>1</td><td>39</td><td>26</td><td>3</td><td>2</td><td>1</td><td>3</td><td>1</td></tr><tr><td>300000.0</td><td>&quot;Hatay-Belen-Fa…</td><td>1469653200</td><td>220</td><td>&quot;4+2&quot;</td><td>&quot;0&quot;</td><td>&quot;6&quot;</td><td>&quot;6&quot;</td><td>&quot;Combi&quot;</td><td>&quot;2&quot;</td><td>false</td><td>&quot;True&quot;</td><td>true</td><td>&quot;Owner&quot;</td><td>&quot;False&quot;</td><td>1606</td><td>11</td><td>1</td><td>27</td><td>27</td><td>3</td><td>2</td><td>3</td><td>3</td><td>1</td></tr><tr><td>370000.0</td><td>&quot;Ankara-Çankaya…</td><td>1469653200</td><td>100</td><td>&quot;3+1&quot;</td><td>&quot;21-25&quot;</td><td>&quot;3&quot;</td><td>&quot;3&quot;</td><td>&quot;Combi&quot;</td><td>&quot;1&quot;</td><td>false</td><td>&quot;False&quot;</td><td>true</td><td>&quot;Owner&quot;</td><td>&quot;False&quot;</td><td>503</td><td>8</td><td>6</td><td>23</td><td>23</td><td>3</td><td>1</td><td>1</td><td>3</td><td>1</td></tr><tr><td>315000.0</td><td>&quot;Nevşehir-Merke…</td><td>1469653200</td><td>276</td><td>&quot;5+2&quot;</td><td>&quot;0&quot;</td><td>&quot;Rise 4&quot;</td><td>&quot;4&quot;</td><td>&quot;Combi&quot;</td><td>&quot;4&quot;</td><td>false</td><td>&quot;True&quot;</td><td>false</td><td>&quot;Owner&quot;</td><td>&quot;True&quot;</td><td>2763</td><td>15</td><td>1</td><td>39</td><td>25</td><td>3</td><td>4</td><td>3</td><td>3</td><td>2</td></tr><tr><td>1.65e6</td><td>&quot;İstanbul-Eseny…</td><td>1469653200</td><td>210</td><td>&quot;4+1&quot;</td><td>&quot;0&quot;</td><td>&quot;22&quot;</td><td>&quot;30+&quot;</td><td>&quot;Central&quot;</td><td>&quot;3&quot;</td><td>false</td><td>&quot;True&quot;</td><td>false</td><td>&quot;Owner&quot;</td><td>&quot;False&quot;</td><td>3700</td><td>10</td><td>1</td><td>15</td><td>24</td><td>2</td><td>3</td><td>3</td><td>3</td><td>1</td></tr><tr><td>220000.0</td><td>&quot;Aydın-Didim-Ça…</td><td>1469653200</td><td>80</td><td>&quot;2+1&quot;</td><td>&quot;3&quot;</td><td>&quot;2&quot;</td><td>&quot;3&quot;</td><td>&quot;Air Conditioni…</td><td>&quot;1&quot;</td><td>true</td><td>&quot;False&quot;</td><td>null</td><td>&quot;Owner&quot;</td><td>&quot;False&quot;</td><td>739</td><td>6</td><td>8</td><td>12</td><td>23</td><td>1</td><td>1</td><td>1</td><td>3</td><td>1</td></tr><tr><td>350000.0</td><td>&quot;İstanbul-Eseny…</td><td>1469653200</td><td>125</td><td>&quot;2+1&quot;</td><td>&quot;0&quot;</td><td>&quot;2&quot;</td><td>&quot;25&quot;</td><td>&quot;Combi&quot;</td><td>&quot;2&quot;</td><td>false</td><td>&quot;True&quot;</td><td>true</td><td>&quot;Owner&quot;</td><td>&quot;True&quot;</td><td>3697</td><td>6</td><td>1</td><td>12</td><td>18</td><td>3</td><td>2</td><td>3</td><td>3</td><td>2</td></tr><tr><td>265000.0</td><td>&quot;İstanbul-Pendi…</td><td>1469653200</td><td>94</td><td>&quot;2+1&quot;</td><td>&quot;5-10&quot;</td><td>&quot;4&quot;</td><td>&quot;5&quot;</td><td>&quot;Combi&quot;</td><td>&quot;1&quot;</td><td>false</td><td>&quot;False&quot;</td><td>true</td><td>&quot;Owner&quot;</td><td>&quot;False&quot;</td><td>3907</td><td>6</td><td>11</td><td>25</td><td>26</td><td>3</td><td>1</td><td>1</td><td>3</td><td>1</td></tr><tr><td>&hellip;</td><td>&hellip;</td><td>&hellip;</td><td>&hellip;</td><td>&hellip;</td><td>&hellip;</td><td>&hellip;</td><td>&hellip;</td><td>&hellip;</td><td>&hellip;</td><td>&hellip;</td><td>&hellip;</td><td>&hellip;</td><td>&hellip;</td><td>&hellip;</td><td>&hellip;</td><td>&hellip;</td><td>&hellip;</td><td>&hellip;</td><td>&hellip;</td><td>&hellip;</td><td>&hellip;</td><td>&hellip;</td><td>&hellip;</td><td>&hellip;</td></tr><tr><td>195000.0</td><td>&quot;Konya-Karatay-…</td><td>1489006800</td><td>155</td><td>&quot;3+1&quot;</td><td>&quot;0&quot;</td><td>&quot;1&quot;</td><td>&quot;5&quot;</td><td>&quot;Combi&quot;</td><td>&quot;1&quot;</td><td>false</td><td>&quot;True&quot;</td><td>true</td><td>&quot;Real Estate Of…</td><td>&quot;False&quot;</td><td>2145</td><td>8</td><td>1</td><td>1</td><td>26</td><td>3</td><td>1</td><td>3</td><td>4</td><td>1</td></tr><tr><td>260000.0</td><td>&quot;Aydın-İncirlio…</td><td>1489006800</td><td>260</td><td>&quot;6+1&quot;</td><td>&quot;0&quot;</td><td>&quot;3&quot;</td><td>&quot;3&quot;</td><td>&quot;Central&quot;</td><td>&quot;3&quot;</td><td>false</td><td>&quot;False&quot;</td><td>true</td><td>&quot;Construction C…</td><td>&quot;False&quot;</td><td>810</td><td>17</td><td>1</td><td>23</td><td>23</td><td>2</td><td>3</td><td>1</td><td>2</td><td>1</td></tr><tr><td>219000.0</td><td>&quot;Mersin-Mezitli…</td><td>1489006800</td><td>195</td><td>&quot;3+1&quot;</td><td>&quot;4&quot;</td><td>&quot;4&quot;</td><td>&quot;5&quot;</td><td>&quot;Air Conditioni…</td><td>&quot;1&quot;</td><td>false</td><td>&quot;False&quot;</td><td>true</td><td>&quot;Real Estate Of…</td><td>&quot;False&quot;</td><td>2564</td><td>8</td><td>10</td><td>25</td><td>26</td><td>1</td><td>1</td><td>1</td><td>4</td><td>1</td></tr><tr><td>245000.0</td><td>&quot;Diyarbakır-Kay…</td><td>1489006800</td><td>255</td><td>&quot;4+1&quot;</td><td>&quot;4&quot;</td><td>&quot;4&quot;</td><td>&quot;11&quot;</td><td>&quot;Combi&quot;</td><td>&quot;2&quot;</td><td>false</td><td>&quot;True&quot;</td><td>true</td><td>&quot;Real Estate Of…</td><td>&quot;False&quot;</td><td>1284</td><td>10</td><td>10</td><td>25</td><td>3</td><td>3</td><td>2</td><td>3</td><td>4</td><td>1</td></tr><tr><td>319999.0</td><td>&quot;Ankara-Çankaya…</td><td>1489006800</td><td>120</td><td>&quot;3+1&quot;</td><td>&quot;16-20&quot;</td><td>&quot;2&quot;</td><td>&quot;2&quot;</td><td>&quot;Combi&quot;</td><td>&quot;1&quot;</td><td>false</td><td>&quot;False&quot;</td><td>true</td><td>&quot;Real Estate Of…</td><td>&quot;False&quot;</td><td>495</td><td>8</td><td>4</td><td>12</td><td>12</td><td>3</td><td>1</td><td>1</td><td>4</td><td>1</td></tr><tr><td>795000.0</td><td>&quot;Ankara-Çankaya…</td><td>1489006800</td><td>245</td><td>&quot;4+1&quot;</td><td>&quot;3&quot;</td><td>&quot;1&quot;</td><td>&quot;5&quot;</td><td>&quot;Combi&quot;</td><td>&quot;2&quot;</td><td>false</td><td>&quot;True&quot;</td><td>true</td><td>&quot;Real Estate Of…</td><td>&quot;False&quot;</td><td>496</td><td>10</td><td>8</td><td>1</td><td>26</td><td>3</td><td>2</td><td>3</td><td>4</td><td>1</td></tr><tr><td>169000.0</td><td>&quot;Ankara-Etimesg…</td><td>1489006800</td><td>180</td><td>&quot;5+1&quot;</td><td>&quot;11-15&quot;</td><td>&quot;3&quot;</td><td>&quot;3&quot;</td><td>&quot;Combi&quot;</td><td>&quot;2&quot;</td><td>false</td><td>&quot;False&quot;</td><td>true</td><td>&quot;Real Estate Of…</td><td>&quot;False&quot;</td><td>241</td><td>14</td><td>3</td><td>23</td><td>23</td><td>3</td><td>2</td><td>1</td><td>4</td><td>1</td></tr><tr><td>360000.0</td><td>&quot;İstanbul-Bahçe…</td><td>1489006800</td><td>80</td><td>&quot;2+1&quot;</td><td>&quot;0&quot;</td><td>&quot;2&quot;</td><td>&quot;5&quot;</td><td>&quot;Combi&quot;</td><td>&quot;1&quot;</td><td>false</td><td>&quot;False&quot;</td><td>true</td><td>&quot;Real Estate Of…</td><td>&quot;False&quot;</td><td>3516</td><td>6</td><td>1</td><td>12</td><td>26</td><td>3</td><td>1</td><td>1</td><td>4</td><td>1</td></tr><tr><td>475000.0</td><td>&quot;Kayseri-Talas-…</td><td>1489006800</td><td>180</td><td>&quot;3+1&quot;</td><td>&quot;4&quot;</td><td>&quot;13&quot;</td><td>&quot;14&quot;</td><td>&quot;Central&quot;</td><td>&quot;2&quot;</td><td>false</td><td>&quot;True&quot;</td><td>true</td><td>&quot;Owner&quot;</td><td>&quot;False&quot;</td><td>1920</td><td>8</td><td>10</td><td>5</td><td>6</td><td>2</td><td>2</td><td>3</td><td>3</td><td>1</td></tr><tr><td>375000.0</td><td>&quot;Ankara-Mamak-K…</td><td>1489006800</td><td>280</td><td>&quot;6+1&quot;</td><td>&quot;5-10&quot;</td><td>&quot;6&quot;</td><td>&quot;6&quot;</td><td>&quot;Combi&quot;</td><td>&quot;2&quot;</td><td>false</td><td>&quot;False&quot;</td><td>false</td><td>&quot;Real Estate Of…</td><td>&quot;False&quot;</td><td>338</td><td>17</td><td>11</td><td>27</td><td>27</td><td>3</td><td>2</td><td>1</td><td>4</td><td>1</td></tr><tr><td>289000.0</td><td>&quot;İstanbul-Bahçe…</td><td>1489006800</td><td>88</td><td>&quot;2+1&quot;</td><td>&quot;0&quot;</td><td>&quot;1&quot;</td><td>&quot;5&quot;</td><td>&quot;Combi&quot;</td><td>&quot;1&quot;</td><td>false</td><td>&quot;False&quot;</td><td>true</td><td>&quot;Real Estate Of…</td><td>&quot;False&quot;</td><td>3521</td><td>6</td><td>1</td><td>1</td><td>26</td><td>3</td><td>1</td><td>1</td><td>4</td><td>1</td></tr><tr><td>320000.0</td><td>&quot;İstanbul-Üsküd…</td><td>1489006800</td><td>85</td><td>&quot;2+1&quot;</td><td>&quot;5-10&quot;</td><td>&quot;Ground Floor&quot;</td><td>&quot;5&quot;</td><td>&quot;Combi&quot;</td><td>&quot;1&quot;</td><td>false</td><td>&quot;False&quot;</td><td>false</td><td>&quot;Real Estate Of…</td><td>&quot;False&quot;</td><td>4090</td><td>6</td><td>11</td><td>33</td><td>26</td><td>3</td><td>1</td><td>1</td><td>4</td><td>1</td></tr></tbody></table></div>"
      ],
      "text/plain": [
       "shape: (33_272, 25)\n",
       "┌──────────┬───────────────┬────────────┬─────┬───┬───────────┬────────────┬────────────┬──────────┐\n",
       "│ price_tr ┆ location      ┆ date       ┆ m2  ┆ … ┆ bath rank ┆ resid rank ┆ saler rank ┆ exc rank │\n",
       "│ ---      ┆ ---           ┆ ---        ┆ --- ┆   ┆ ---       ┆ ---        ┆ ---        ┆ ---      │\n",
       "│ f64      ┆ str           ┆ i64        ┆ i64 ┆   ┆ u32       ┆ u32        ┆ u32        ┆ u32      │\n",
       "╞══════════╪═══════════════╪════════════╪═════╪═══╪═══════════╪════════════╪════════════╪══════════╡\n",
       "│ 225000.0 ┆ İstanbul-Sanc ┆ 1469653200 ┆ 85  ┆ … ┆ 1         ┆ 2          ┆ 3          ┆ 3        │\n",
       "│          ┆ aktepe-Sarıga ┆            ┆     ┆   ┆           ┆            ┆            ┆          │\n",
       "│          ┆ zi Mah…       ┆            ┆     ┆   ┆           ┆            ┆            ┆          │\n",
       "│ 360000.0 ┆ İstanbul-Üskü ┆ 1469653200 ┆ 87  ┆ … ┆ 1         ┆ 3          ┆ 3          ┆ 1        │\n",
       "│          ┆ dar-Ünalan    ┆            ┆     ┆   ┆           ┆            ┆            ┆          │\n",
       "│          ┆ Mah.          ┆            ┆     ┆   ┆           ┆            ┆            ┆          │\n",
       "│ 335000.0 ┆ İstanbul-Arna ┆ 1469566800 ┆ 160 ┆ … ┆ 1         ┆ 3          ┆ 3          ┆ 1        │\n",
       "│          ┆ vutköy-Hastan ┆            ┆     ┆   ┆           ┆            ┆            ┆          │\n",
       "│          ┆ e Mah.        ┆            ┆     ┆   ┆           ┆            ┆            ┆          │\n",
       "│ 235000.0 ┆ Antalya-Murat ┆ 1469653200 ┆ 165 ┆ … ┆ 2         ┆ 1          ┆ 3          ┆ 2        │\n",
       "│          ┆ paşa-Yenigün  ┆            ┆     ┆   ┆           ┆            ┆            ┆          │\n",
       "│          ┆ Mah.          ┆            ┆     ┆   ┆           ┆            ┆            ┆          │\n",
       "│ …        ┆ …             ┆ …          ┆ …   ┆ … ┆ …         ┆ …          ┆ …          ┆ …        │\n",
       "│ 475000.0 ┆ Kayseri-Talas ┆ 1489006800 ┆ 180 ┆ … ┆ 2         ┆ 3          ┆ 3          ┆ 1        │\n",
       "│          ┆ -Bahçelievler ┆            ┆     ┆   ┆           ┆            ┆            ┆          │\n",
       "│          ┆ Mah.          ┆            ┆     ┆   ┆           ┆            ┆            ┆          │\n",
       "│ 375000.0 ┆ Ankara-Mamak- ┆ 1489006800 ┆ 280 ┆ … ┆ 2         ┆ 1          ┆ 4          ┆ 1        │\n",
       "│          ┆ Kazım Orbay   ┆            ┆     ┆   ┆           ┆            ┆            ┆          │\n",
       "│          ┆ Mah.          ┆            ┆     ┆   ┆           ┆            ┆            ┆          │\n",
       "│ 289000.0 ┆ İstanbul-Bahç ┆ 1489006800 ┆ 88  ┆ … ┆ 1         ┆ 1          ┆ 4          ┆ 1        │\n",
       "│          ┆ elievler-Şiri ┆            ┆     ┆   ┆           ┆            ┆            ┆          │\n",
       "│          ┆ nevler…       ┆            ┆     ┆   ┆           ┆            ┆            ┆          │\n",
       "│ 320000.0 ┆ İstanbul-Üskü ┆ 1489006800 ┆ 85  ┆ … ┆ 1         ┆ 1          ┆ 4          ┆ 1        │\n",
       "│          ┆ dar-Ferah     ┆            ┆     ┆   ┆           ┆            ┆            ┆          │\n",
       "│          ┆ Mah.          ┆            ┆     ┆   ┆           ┆            ┆            ┆          │\n",
       "└──────────┴───────────────┴────────────┴─────┴───┴───────────┴────────────┴────────────┴──────────┘"
      ]
     },
     "execution_count": 231,
     "metadata": {},
     "output_type": "execute_result"
    }
   ],
   "source": [
    "for d_type, column in zip(df_updated.dtypes, df_updated.columns):\n",
    "    if d_type == pl.String:\n",
    "        df_updated = set_rank(column, df_updated)\n",
    "df_updated"
   ]
  },
  {
   "cell_type": "markdown",
   "metadata": {},
   "source": [
    "## Create correlation matrix"
   ]
  },
  {
   "cell_type": "code",
   "execution_count": 232,
   "metadata": {},
   "outputs": [
    {
     "data": {
      "text/html": [
       "<div><style>\n",
       ".dataframe > thead > tr,\n",
       ".dataframe > tbody > tr {\n",
       "  text-align: right;\n",
       "  white-space: pre-wrap;\n",
       "}\n",
       "</style>\n",
       "<small>shape: (15, 15)</small><table border=\"1\" class=\"dataframe\"><thead><tr><th>price_tr</th><th>date</th><th>m2</th><th>furn</th><th>loan</th><th>location rank</th><th>rooms rank</th><th>age rank</th><th>floor rank</th><th>tfloor rank</th><th>heat rank</th><th>bath rank</th><th>resid rank</th><th>saler rank</th><th>exc rank</th></tr><tr><td>f64</td><td>f64</td><td>f64</td><td>f64</td><td>f64</td><td>f64</td><td>f64</td><td>f64</td><td>f64</td><td>f64</td><td>f64</td><td>f64</td><td>f64</td><td>f64</td><td>f64</td></tr></thead><tbody><tr><td>1.0</td><td>-0.049848</td><td>0.042006</td><td>-0.017407</td><td>-0.047808</td><td>0.186559</td><td>0.356566</td><td>0.045399</td><td>-0.016664</td><td>-0.035988</td><td>-0.046588</td><td>0.47196</td><td>0.103435</td><td>0.061564</td><td>-0.081027</td></tr><tr><td>-0.049848</td><td>1.0</td><td>-0.006444</td><td>-0.01563</td><td>0.039368</td><td>0.013376</td><td>-0.036593</td><td>-0.055586</td><td>-0.042431</td><td>-0.013291</td><td>-0.023068</td><td>-0.023013</td><td>-0.019371</td><td>0.1856</td><td>-0.030202</td></tr><tr><td>0.042006</td><td>-0.006444</td><td>1.0</td><td>-0.001303</td><td>-0.012765</td><td>-0.00277</td><td>0.022717</td><td>0.004944</td><td>0.001856</td><td>0.009543</td><td>0.000153</td><td>0.02172</td><td>0.012071</td><td>0.006609</td><td>0.001311</td></tr><tr><td>-0.017407</td><td>-0.01563</td><td>-0.001303</td><td>1.0</td><td>0.017394</td><td>-0.06033</td><td>-0.144526</td><td>0.104086</td><td>0.015828</td><td>-0.020912</td><td>-0.040435</td><td>-0.036387</td><td>0.066157</td><td>0.002007</td><td>0.024707</td></tr><tr><td>-0.047808</td><td>0.039368</td><td>-0.012765</td><td>0.017394</td><td>1.0</td><td>-0.014918</td><td>0.005157</td><td>-0.008322</td><td>-0.012195</td><td>0.017613</td><td>-0.029011</td><td>-0.001223</td><td>-0.050165</td><td>0.025347</td><td>0.022919</td></tr><tr><td>0.186559</td><td>0.013376</td><td>-0.00277</td><td>-0.06033</td><td>-0.014918</td><td>1.0</td><td>-0.056242</td><td>-0.034188</td><td>0.037853</td><td>0.075148</td><td>-0.004531</td><td>0.05692</td><td>-0.082737</td><td>-0.000757</td><td>-0.109397</td></tr><tr><td>0.356566</td><td>-0.036593</td><td>0.022717</td><td>-0.144526</td><td>0.005157</td><td>-0.056242</td><td>1.0</td><td>0.049753</td><td>0.022177</td><td>-0.020026</td><td>-0.005033</td><td>0.574695</td><td>0.042194</td><td>0.013599</td><td>0.01927</td></tr><tr><td>0.045399</td><td>-0.055586</td><td>0.004944</td><td>0.104086</td><td>-0.008322</td><td>-0.034188</td><td>0.049753</td><td>1.0</td><td>0.060847</td><td>0.01095</td><td>-0.018965</td><td>-0.028674</td><td>0.072394</td><td>0.128539</td><td>-0.101204</td></tr><tr><td>-0.016664</td><td>-0.042431</td><td>0.001856</td><td>0.015828</td><td>-0.012195</td><td>0.037853</td><td>0.022177</td><td>0.060847</td><td>1.0</td><td>0.111597</td><td>0.04684</td><td>0.012881</td><td>-0.02726</td><td>-0.023044</td><td>0.00212</td></tr><tr><td>-0.035988</td><td>-0.013291</td><td>0.009543</td><td>-0.020912</td><td>0.017613</td><td>0.075148</td><td>-0.020026</td><td>0.01095</td><td>0.111597</td><td>1.0</td><td>0.077738</td><td>-0.105012</td><td>-0.273988</td><td>-0.028107</td><td>0.016995</td></tr><tr><td>-0.046588</td><td>-0.023068</td><td>0.000153</td><td>-0.040435</td><td>-0.029011</td><td>-0.004531</td><td>-0.005033</td><td>-0.018965</td><td>0.04684</td><td>0.077738</td><td>1.0</td><td>-0.066504</td><td>-0.134654</td><td>-0.041806</td><td>0.034088</td></tr><tr><td>0.47196</td><td>-0.023013</td><td>0.02172</td><td>-0.036387</td><td>-0.001223</td><td>0.05692</td><td>0.574695</td><td>-0.028674</td><td>0.012881</td><td>-0.105012</td><td>-0.066504</td><td>1.0</td><td>0.183994</td><td>0.001133</td><td>0.00116</td></tr><tr><td>0.103435</td><td>-0.019371</td><td>0.012071</td><td>0.066157</td><td>-0.050165</td><td>-0.082737</td><td>0.042194</td><td>0.072394</td><td>-0.02726</td><td>-0.273988</td><td>-0.134654</td><td>0.183994</td><td>1.0</td><td>-0.02017</td><td>-0.003273</td></tr><tr><td>0.061564</td><td>0.1856</td><td>0.006609</td><td>0.002007</td><td>0.025347</td><td>-0.000757</td><td>0.013599</td><td>0.128539</td><td>-0.023044</td><td>-0.028107</td><td>-0.041806</td><td>0.001133</td><td>-0.02017</td><td>1.0</td><td>-0.220767</td></tr><tr><td>-0.081027</td><td>-0.030202</td><td>0.001311</td><td>0.024707</td><td>0.022919</td><td>-0.109397</td><td>0.01927</td><td>-0.101204</td><td>0.00212</td><td>0.016995</td><td>0.034088</td><td>0.00116</td><td>-0.003273</td><td>-0.220767</td><td>1.0</td></tr></tbody></table></div>"
      ],
      "text/plain": [
       "shape: (15, 15)\n",
       "┌───────────┬───────────┬───────────┬───────────┬───┬───────────┬───────────┬───────────┬──────────┐\n",
       "│ price_tr  ┆ date      ┆ m2        ┆ furn      ┆ … ┆ bath rank ┆ resid     ┆ saler     ┆ exc rank │\n",
       "│ ---       ┆ ---       ┆ ---       ┆ ---       ┆   ┆ ---       ┆ rank      ┆ rank      ┆ ---      │\n",
       "│ f64       ┆ f64       ┆ f64       ┆ f64       ┆   ┆ f64       ┆ ---       ┆ ---       ┆ f64      │\n",
       "│           ┆           ┆           ┆           ┆   ┆           ┆ f64       ┆ f64       ┆          │\n",
       "╞═══════════╪═══════════╪═══════════╪═══════════╪═══╪═══════════╪═══════════╪═══════════╪══════════╡\n",
       "│ 1.0       ┆ -0.049848 ┆ 0.042006  ┆ -0.017407 ┆ … ┆ 0.47196   ┆ 0.103435  ┆ 0.061564  ┆ -0.08102 │\n",
       "│           ┆           ┆           ┆           ┆   ┆           ┆           ┆           ┆ 7        │\n",
       "│ -0.049848 ┆ 1.0       ┆ -0.006444 ┆ -0.01563  ┆ … ┆ -0.023013 ┆ -0.019371 ┆ 0.1856    ┆ -0.03020 │\n",
       "│           ┆           ┆           ┆           ┆   ┆           ┆           ┆           ┆ 2        │\n",
       "│ 0.042006  ┆ -0.006444 ┆ 1.0       ┆ -0.001303 ┆ … ┆ 0.02172   ┆ 0.012071  ┆ 0.006609  ┆ 0.001311 │\n",
       "│ -0.017407 ┆ -0.01563  ┆ -0.001303 ┆ 1.0       ┆ … ┆ -0.036387 ┆ 0.066157  ┆ 0.002007  ┆ 0.024707 │\n",
       "│ …         ┆ …         ┆ …         ┆ …         ┆ … ┆ …         ┆ …         ┆ …         ┆ …        │\n",
       "│ 0.47196   ┆ -0.023013 ┆ 0.02172   ┆ -0.036387 ┆ … ┆ 1.0       ┆ 0.183994  ┆ 0.001133  ┆ 0.00116  │\n",
       "│ 0.103435  ┆ -0.019371 ┆ 0.012071  ┆ 0.066157  ┆ … ┆ 0.183994  ┆ 1.0       ┆ -0.02017  ┆ -0.00327 │\n",
       "│           ┆           ┆           ┆           ┆   ┆           ┆           ┆           ┆ 3        │\n",
       "│ 0.061564  ┆ 0.1856    ┆ 0.006609  ┆ 0.002007  ┆ … ┆ 0.001133  ┆ -0.02017  ┆ 1.0       ┆ -0.22076 │\n",
       "│           ┆           ┆           ┆           ┆   ┆           ┆           ┆           ┆ 7        │\n",
       "│ -0.081027 ┆ -0.030202 ┆ 0.001311  ┆ 0.024707  ┆ … ┆ 0.00116   ┆ -0.003273 ┆ -0.220767 ┆ 1.0      │\n",
       "└───────────┴───────────┴───────────┴───────────┴───┴───────────┴───────────┴───────────┴──────────┘"
      ]
     },
     "execution_count": 232,
     "metadata": {},
     "output_type": "execute_result"
    }
   ],
   "source": [
    "\n",
    "df_updated.drop_nulls().select(pl.exclude(pl.String)).corr()\n"
   ]
  },
  {
   "cell_type": "markdown",
   "metadata": {},
   "source": [
    "Room has  0.57 correlation with bath so we can fill null rooms using bath feature\n",
    "\n",
    "Heat has 0.077738 correlation with tfloor,  0.04684 corr with floor\n"
   ]
  },
  {
   "cell_type": "code",
   "execution_count": 233,
   "metadata": {},
   "outputs": [
    {
     "data": {
      "text/html": [
       "<div><style>\n",
       ".dataframe > thead > tr,\n",
       ".dataframe > tbody > tr {\n",
       "  text-align: right;\n",
       "  white-space: pre-wrap;\n",
       "}\n",
       "</style>\n",
       "<small>shape: (9, 26)</small><table border=\"1\" class=\"dataframe\"><thead><tr><th>describe</th><th>price_tr</th><th>location</th><th>date</th><th>m2</th><th>rooms</th><th>age</th><th>floor</th><th>tfloor</th><th>heat</th><th>bath</th><th>furn</th><th>resid</th><th>loan</th><th>saler</th><th>exc</th><th>location rank</th><th>rooms rank</th><th>age rank</th><th>floor rank</th><th>tfloor rank</th><th>heat rank</th><th>bath rank</th><th>resid rank</th><th>saler rank</th><th>exc rank</th></tr><tr><td>str</td><td>f64</td><td>str</td><td>f64</td><td>f64</td><td>str</td><td>str</td><td>str</td><td>str</td><td>str</td><td>str</td><td>str</td><td>str</td><td>str</td><td>str</td><td>str</td><td>f64</td><td>f64</td><td>f64</td><td>f64</td><td>f64</td><td>f64</td><td>f64</td><td>f64</td><td>f64</td><td>f64</td></tr></thead><tbody><tr><td>&quot;count&quot;</td><td>33272.0</td><td>&quot;33272&quot;</td><td>33272.0</td><td>33272.0</td><td>&quot;33270&quot;</td><td>&quot;33272&quot;</td><td>&quot;33272&quot;</td><td>&quot;33272&quot;</td><td>&quot;32698&quot;</td><td>&quot;33199&quot;</td><td>&quot;32657&quot;</td><td>&quot;33252&quot;</td><td>&quot;32597&quot;</td><td>&quot;33272&quot;</td><td>&quot;33272&quot;</td><td>33272.0</td><td>33272.0</td><td>33272.0</td><td>33272.0</td><td>33272.0</td><td>33272.0</td><td>33272.0</td><td>33252.0</td><td>33272.0</td><td>33272.0</td></tr><tr><td>&quot;null_count&quot;</td><td>0.0</td><td>&quot;0&quot;</td><td>0.0</td><td>0.0</td><td>&quot;2&quot;</td><td>&quot;0&quot;</td><td>&quot;0&quot;</td><td>&quot;0&quot;</td><td>&quot;574&quot;</td><td>&quot;73&quot;</td><td>&quot;615&quot;</td><td>&quot;20&quot;</td><td>&quot;675&quot;</td><td>&quot;0&quot;</td><td>&quot;0&quot;</td><td>0.0</td><td>0.0</td><td>0.0</td><td>0.0</td><td>0.0</td><td>0.0</td><td>0.0</td><td>20.0</td><td>0.0</td><td>0.0</td></tr><tr><td>&quot;mean&quot;</td><td>554842.77183</td><td>null</td><td>1.5018e9</td><td>671.963543</td><td>null</td><td>null</td><td>null</td><td>null</td><td>null</td><td>null</td><td>null</td><td>null</td><td>null</td><td>null</td><td>null</td><td>2613.816753</td><td>7.432766</td><td>4.436673</td><td>21.209155</td><td>22.188567</td><td>3.054941</td><td>1.470546</td><td>1.761969</td><td>3.682045</td><td>1.200589</td></tr><tr><td>&quot;std&quot;</td><td>1.3796e6</td><td>null</td><td>6.2417e6</td><td>17384.054832</td><td>null</td><td>null</td><td>null</td><td>null</td><td>null</td><td>null</td><td>null</td><td>null</td><td>null</td><td>null</td><td>null</td><td>1387.69872</td><td>2.66116</td><td>3.876387</td><td>11.285797</td><td>7.669805</td><td>1.747002</td><td>0.663821</td><td>0.971257</td><td>0.630622</td><td>0.400522</td></tr><tr><td>&quot;min&quot;</td><td>17000.0</td><td>&quot;Adana-Ceyhan-B…</td><td>1.4522e9</td><td>0.0</td><td>&quot;1+0 (Studio)&quot;</td><td>&quot;0&quot;</td><td>&quot;1&quot;</td><td>&quot;1&quot;</td><td>&quot;Air Conditioni…</td><td>&quot;1&quot;</td><td>&quot;False&quot;</td><td>&quot;False&quot;</td><td>&quot;False&quot;</td><td>&quot;Bank&quot;</td><td>&quot;False&quot;</td><td>1.0</td><td>1.0</td><td>1.0</td><td>1.0</td><td>1.0</td><td>1.0</td><td>1.0</td><td>1.0</td><td>1.0</td><td>1.0</td></tr><tr><td>&quot;25%&quot;</td><td>173000.0</td><td>null</td><td>1.5032e9</td><td>95.0</td><td>null</td><td>null</td><td>null</td><td>null</td><td>null</td><td>null</td><td>null</td><td>null</td><td>null</td><td>null</td><td>null</td><td>1246.0</td><td>6.0</td><td>1.0</td><td>12.0</td><td>23.0</td><td>2.0</td><td>1.0</td><td>1.0</td><td>4.0</td><td>1.0</td></tr><tr><td>&quot;50%&quot;</td><td>250000.0</td><td>null</td><td>1.5034e9</td><td>120.0</td><td>null</td><td>null</td><td>null</td><td>null</td><td>null</td><td>null</td><td>null</td><td>null</td><td>null</td><td>null</td><td>null</td><td>3154.0</td><td>8.0</td><td>3.0</td><td>25.0</td><td>25.0</td><td>3.0</td><td>1.0</td><td>1.0</td><td>4.0</td><td>1.0</td></tr><tr><td>&quot;75%&quot;</td><td>380000.0</td><td>null</td><td>1.5036e9</td><td>160.0</td><td>null</td><td>null</td><td>null</td><td>null</td><td>null</td><td>null</td><td>null</td><td>null</td><td>null</td><td>null</td><td>null</td><td>3811.0</td><td>8.0</td><td>8.0</td><td>30.0</td><td>26.0</td><td>3.0</td><td>2.0</td><td>3.0</td><td>4.0</td><td>1.0</td></tr><tr><td>&quot;max&quot;</td><td>1.7685e7</td><td>&quot;Şırnak-Merkez-…</td><td>1.5127e9</td><td>2.5e6</td><td>&quot;9+5&quot;</td><td>&quot;5-10&quot;</td><td>&quot;Villa Type&quot;</td><td>&quot;9&quot;</td><td>&quot;VRV&quot;</td><td>&quot;6+&quot;</td><td>&quot;True&quot;</td><td>&quot;True&quot;</td><td>&quot;True&quot;</td><td>&quot;Real Estate Of…</td><td>&quot;True.1&quot;</td><td>4499.0</td><td>29.0</td><td>11.0</td><td>41.0</td><td>30.0</td><td>12.0</td><td>7.0</td><td>3.0</td><td>4.0</td><td>3.0</td></tr></tbody></table></div>"
      ],
      "text/plain": [
       "shape: (9, 26)\n",
       "┌────────────┬───────────┬───────────┬──────────┬───┬───────────┬───────────┬───────────┬──────────┐\n",
       "│ describe   ┆ price_tr  ┆ location  ┆ date     ┆ … ┆ bath rank ┆ resid     ┆ saler     ┆ exc rank │\n",
       "│ ---        ┆ ---       ┆ ---       ┆ ---      ┆   ┆ ---       ┆ rank      ┆ rank      ┆ ---      │\n",
       "│ str        ┆ f64       ┆ str       ┆ f64      ┆   ┆ f64       ┆ ---       ┆ ---       ┆ f64      │\n",
       "│            ┆           ┆           ┆          ┆   ┆           ┆ f64       ┆ f64       ┆          │\n",
       "╞════════════╪═══════════╪═══════════╪══════════╪═══╪═══════════╪═══════════╪═══════════╪══════════╡\n",
       "│ count      ┆ 33272.0   ┆ 33272     ┆ 33272.0  ┆ … ┆ 33272.0   ┆ 33252.0   ┆ 33272.0   ┆ 33272.0  │\n",
       "│ null_count ┆ 0.0       ┆ 0         ┆ 0.0      ┆ … ┆ 0.0       ┆ 20.0      ┆ 0.0       ┆ 0.0      │\n",
       "│ mean       ┆ 554842.77 ┆ null      ┆ 1.5018e9 ┆ … ┆ 1.470546  ┆ 1.761969  ┆ 3.682045  ┆ 1.200589 │\n",
       "│            ┆ 183       ┆           ┆          ┆   ┆           ┆           ┆           ┆          │\n",
       "│ std        ┆ 1.3796e6  ┆ null      ┆ 6.2417e6 ┆ … ┆ 0.663821  ┆ 0.971257  ┆ 0.630622  ┆ 0.400522 │\n",
       "│ min        ┆ 17000.0   ┆ Adana-Cey ┆ 1.4522e9 ┆ … ┆ 1.0       ┆ 1.0       ┆ 1.0       ┆ 1.0      │\n",
       "│            ┆           ┆ han-Beled ┆          ┆   ┆           ┆           ┆           ┆          │\n",
       "│            ┆           ┆ iye       ┆          ┆   ┆           ┆           ┆           ┆          │\n",
       "│            ┆           ┆ Evleri    ┆          ┆   ┆           ┆           ┆           ┆          │\n",
       "│            ┆           ┆ Mah…      ┆          ┆   ┆           ┆           ┆           ┆          │\n",
       "│ 25%        ┆ 173000.0  ┆ null      ┆ 1.5032e9 ┆ … ┆ 1.0       ┆ 1.0       ┆ 4.0       ┆ 1.0      │\n",
       "│ 50%        ┆ 250000.0  ┆ null      ┆ 1.5034e9 ┆ … ┆ 1.0       ┆ 1.0       ┆ 4.0       ┆ 1.0      │\n",
       "│ 75%        ┆ 380000.0  ┆ null      ┆ 1.5036e9 ┆ … ┆ 2.0       ┆ 3.0       ┆ 4.0       ┆ 1.0      │\n",
       "│ max        ┆ 1.7685e7  ┆ Şırnak-Me ┆ 1.5127e9 ┆ … ┆ 7.0       ┆ 3.0       ┆ 4.0       ┆ 3.0      │\n",
       "│            ┆           ┆ rkez-Vakı ┆          ┆   ┆           ┆           ┆           ┆          │\n",
       "│            ┆           ┆ fkent     ┆          ┆   ┆           ┆           ┆           ┆          │\n",
       "│            ┆           ┆ Mah.      ┆          ┆   ┆           ┆           ┆           ┆          │\n",
       "└────────────┴───────────┴───────────┴──────────┴───┴───────────┴───────────┴───────────┴──────────┘"
      ]
     },
     "execution_count": 233,
     "metadata": {},
     "output_type": "execute_result"
    }
   ],
   "source": [
    "df_updated = df_updated.with_columns(pl.col(\"rooms rank\").map_elements(lambda s: s.fill_null(s.mode())).over(\"bath rank\")) \n",
    "df_updated = df_updated.with_columns(pl.col(\"heat rank\").map_elements(lambda s: s.fill_null(s.mode())).over(\"tfloor rank\")) \n",
    "df_updated = df_updated.with_columns(pl.col(\"bath rank\").map_elements(lambda s: s.fill_null(s.mode())).over(\"rooms rank\")) \n",
    "df_updated.describe()"
   ]
  },
  {
   "cell_type": "code",
   "execution_count": 234,
   "metadata": {},
   "outputs": [
    {
     "data": {
      "text/html": [
       "<div><style>\n",
       ".dataframe > thead > tr,\n",
       ".dataframe > tbody > tr {\n",
       "  text-align: right;\n",
       "  white-space: pre-wrap;\n",
       "}\n",
       "</style>\n",
       "<small>shape: (9, 13)</small><table border=\"1\" class=\"dataframe\"><thead><tr><th>describe</th><th>price_tr</th><th>date</th><th>m2</th><th>location rank</th><th>rooms rank</th><th>age rank</th><th>floor rank</th><th>tfloor rank</th><th>heat rank</th><th>bath rank</th><th>saler rank</th><th>exc rank</th></tr><tr><td>str</td><td>f64</td><td>f64</td><td>f64</td><td>f64</td><td>f64</td><td>f64</td><td>f64</td><td>f64</td><td>f64</td><td>f64</td><td>f64</td><td>f64</td></tr></thead><tbody><tr><td>&quot;count&quot;</td><td>33272.0</td><td>33272.0</td><td>33272.0</td><td>33272.0</td><td>33272.0</td><td>33272.0</td><td>33272.0</td><td>33272.0</td><td>33272.0</td><td>33272.0</td><td>33272.0</td><td>33272.0</td></tr><tr><td>&quot;null_count&quot;</td><td>0.0</td><td>0.0</td><td>0.0</td><td>0.0</td><td>0.0</td><td>0.0</td><td>0.0</td><td>0.0</td><td>0.0</td><td>0.0</td><td>0.0</td><td>0.0</td></tr><tr><td>&quot;mean&quot;</td><td>554842.77183</td><td>1.5018e9</td><td>671.963543</td><td>2613.816753</td><td>7.432766</td><td>4.436673</td><td>21.209155</td><td>22.188567</td><td>3.054941</td><td>1.470546</td><td>3.682045</td><td>1.200589</td></tr><tr><td>&quot;std&quot;</td><td>1.3796e6</td><td>6.2417e6</td><td>17384.054832</td><td>1387.69872</td><td>2.66116</td><td>3.876387</td><td>11.285797</td><td>7.669805</td><td>1.747002</td><td>0.663821</td><td>0.630622</td><td>0.400522</td></tr><tr><td>&quot;min&quot;</td><td>17000.0</td><td>1.4522e9</td><td>0.0</td><td>1.0</td><td>1.0</td><td>1.0</td><td>1.0</td><td>1.0</td><td>1.0</td><td>1.0</td><td>1.0</td><td>1.0</td></tr><tr><td>&quot;25%&quot;</td><td>173000.0</td><td>1.5032e9</td><td>95.0</td><td>1246.0</td><td>6.0</td><td>1.0</td><td>12.0</td><td>23.0</td><td>2.0</td><td>1.0</td><td>4.0</td><td>1.0</td></tr><tr><td>&quot;50%&quot;</td><td>250000.0</td><td>1.5034e9</td><td>120.0</td><td>3154.0</td><td>8.0</td><td>3.0</td><td>25.0</td><td>25.0</td><td>3.0</td><td>1.0</td><td>4.0</td><td>1.0</td></tr><tr><td>&quot;75%&quot;</td><td>380000.0</td><td>1.5036e9</td><td>160.0</td><td>3811.0</td><td>8.0</td><td>8.0</td><td>30.0</td><td>26.0</td><td>3.0</td><td>2.0</td><td>4.0</td><td>1.0</td></tr><tr><td>&quot;max&quot;</td><td>1.7685e7</td><td>1.5127e9</td><td>2.5e6</td><td>4499.0</td><td>29.0</td><td>11.0</td><td>41.0</td><td>30.0</td><td>12.0</td><td>7.0</td><td>4.0</td><td>3.0</td></tr></tbody></table></div>"
      ],
      "text/plain": [
       "shape: (9, 13)\n",
       "┌────────────┬───────────┬──────────┬───────────┬───┬───────────┬───────────┬───────────┬──────────┐\n",
       "│ describe   ┆ price_tr  ┆ date     ┆ m2        ┆ … ┆ heat rank ┆ bath rank ┆ saler     ┆ exc rank │\n",
       "│ ---        ┆ ---       ┆ ---      ┆ ---       ┆   ┆ ---       ┆ ---       ┆ rank      ┆ ---      │\n",
       "│ str        ┆ f64       ┆ f64      ┆ f64       ┆   ┆ f64       ┆ f64       ┆ ---       ┆ f64      │\n",
       "│            ┆           ┆          ┆           ┆   ┆           ┆           ┆ f64       ┆          │\n",
       "╞════════════╪═══════════╪══════════╪═══════════╪═══╪═══════════╪═══════════╪═══════════╪══════════╡\n",
       "│ count      ┆ 33272.0   ┆ 33272.0  ┆ 33272.0   ┆ … ┆ 33272.0   ┆ 33272.0   ┆ 33272.0   ┆ 33272.0  │\n",
       "│ null_count ┆ 0.0       ┆ 0.0      ┆ 0.0       ┆ … ┆ 0.0       ┆ 0.0       ┆ 0.0       ┆ 0.0      │\n",
       "│ mean       ┆ 554842.77 ┆ 1.5018e9 ┆ 671.96354 ┆ … ┆ 3.054941  ┆ 1.470546  ┆ 3.682045  ┆ 1.200589 │\n",
       "│            ┆ 183       ┆          ┆ 3         ┆   ┆           ┆           ┆           ┆          │\n",
       "│ std        ┆ 1.3796e6  ┆ 6.2417e6 ┆ 17384.054 ┆ … ┆ 1.747002  ┆ 0.663821  ┆ 0.630622  ┆ 0.400522 │\n",
       "│            ┆           ┆          ┆ 832       ┆   ┆           ┆           ┆           ┆          │\n",
       "│ min        ┆ 17000.0   ┆ 1.4522e9 ┆ 0.0       ┆ … ┆ 1.0       ┆ 1.0       ┆ 1.0       ┆ 1.0      │\n",
       "│ 25%        ┆ 173000.0  ┆ 1.5032e9 ┆ 95.0      ┆ … ┆ 2.0       ┆ 1.0       ┆ 4.0       ┆ 1.0      │\n",
       "│ 50%        ┆ 250000.0  ┆ 1.5034e9 ┆ 120.0     ┆ … ┆ 3.0       ┆ 1.0       ┆ 4.0       ┆ 1.0      │\n",
       "│ 75%        ┆ 380000.0  ┆ 1.5036e9 ┆ 160.0     ┆ … ┆ 3.0       ┆ 2.0       ┆ 4.0       ┆ 1.0      │\n",
       "│ max        ┆ 1.7685e7  ┆ 1.5127e9 ┆ 2.5e6     ┆ … ┆ 12.0      ┆ 7.0       ┆ 4.0       ┆ 3.0      │\n",
       "└────────────┴───────────┴──────────┴───────────┴───┴───────────┴───────────┴───────────┴──────────┘"
      ]
     },
     "execution_count": 234,
     "metadata": {},
     "output_type": "execute_result"
    }
   ],
   "source": [
    "df_updated = df_updated.select(pl.exclude(\"furn rank\", \"resid rank\", \"loan rank\", \"furn\", \"loan\"))\n",
    "df_updated.select(pl.exclude(pl.String)).describe()"
   ]
  },
  {
   "cell_type": "markdown",
   "metadata": {},
   "source": [
    "## Drop Outliers"
   ]
  },
  {
   "cell_type": "code",
   "execution_count": 235,
   "metadata": {},
   "outputs": [
    {
     "data": {
      "text/html": [
       "<div><style>\n",
       ".dataframe > thead > tr,\n",
       ".dataframe > tbody > tr {\n",
       "  text-align: right;\n",
       "  white-space: pre-wrap;\n",
       "}\n",
       "</style>\n",
       "<small>shape: (9, 23)</small><table border=\"1\" class=\"dataframe\"><thead><tr><th>describe</th><th>price_tr</th><th>location</th><th>date</th><th>m2</th><th>rooms</th><th>age</th><th>floor</th><th>tfloor</th><th>heat</th><th>bath</th><th>resid</th><th>saler</th><th>exc</th><th>location rank</th><th>rooms rank</th><th>age rank</th><th>floor rank</th><th>tfloor rank</th><th>heat rank</th><th>bath rank</th><th>saler rank</th><th>exc rank</th></tr><tr><td>str</td><td>f64</td><td>str</td><td>f64</td><td>f64</td><td>str</td><td>str</td><td>str</td><td>str</td><td>str</td><td>str</td><td>str</td><td>str</td><td>str</td><td>f64</td><td>f64</td><td>f64</td><td>f64</td><td>f64</td><td>f64</td><td>f64</td><td>f64</td><td>f64</td></tr></thead><tbody><tr><td>&quot;count&quot;</td><td>30115.0</td><td>&quot;30115&quot;</td><td>30115.0</td><td>30115.0</td><td>&quot;30114&quot;</td><td>&quot;30115&quot;</td><td>&quot;30115&quot;</td><td>&quot;30115&quot;</td><td>&quot;29551&quot;</td><td>&quot;30047&quot;</td><td>&quot;30106&quot;</td><td>&quot;30115&quot;</td><td>&quot;30115&quot;</td><td>30115.0</td><td>30115.0</td><td>30115.0</td><td>30115.0</td><td>30115.0</td><td>30115.0</td><td>30115.0</td><td>30115.0</td><td>30115.0</td></tr><tr><td>&quot;null_count&quot;</td><td>0.0</td><td>&quot;0&quot;</td><td>0.0</td><td>0.0</td><td>&quot;1&quot;</td><td>&quot;0&quot;</td><td>&quot;0&quot;</td><td>&quot;0&quot;</td><td>&quot;564&quot;</td><td>&quot;68&quot;</td><td>&quot;9&quot;</td><td>&quot;0&quot;</td><td>&quot;0&quot;</td><td>0.0</td><td>0.0</td><td>0.0</td><td>0.0</td><td>0.0</td><td>0.0</td><td>0.0</td><td>0.0</td><td>0.0</td></tr><tr><td>&quot;mean&quot;</td><td>261759.483877</td><td>null</td><td>1.5018e9</td><td>581.309049</td><td>null</td><td>null</td><td>null</td><td>null</td><td>null</td><td>null</td><td>null</td><td>null</td><td>null</td><td>2514.753379</td><td>7.167857</td><td>4.381272</td><td>21.258675</td><td>22.374498</td><td>3.083347</td><td>1.377885</td><td>3.667242</td><td>1.212784</td></tr><tr><td>&quot;std&quot;</td><td>133345.673338</td><td>null</td><td>6.3534e6</td><td>8936.11039</td><td>null</td><td>null</td><td>null</td><td>null</td><td>null</td><td>null</td><td>null</td><td>null</td><td>null</td><td>1398.19099</td><td>2.425584</td><td>3.8666</td><td>11.302613</td><td>7.479099</td><td>1.790283</td><td>0.542835</td><td>0.640201</td><td>0.409364</td></tr><tr><td>&quot;min&quot;</td><td>17000.0</td><td>&quot;Adana-Ceyhan-B…</td><td>1.4522e9</td><td>0.0</td><td>&quot;1+0 (Studio)&quot;</td><td>&quot;0&quot;</td><td>&quot;1&quot;</td><td>&quot;1&quot;</td><td>&quot;Air Conditioni…</td><td>&quot;1&quot;</td><td>&quot;False&quot;</td><td>&quot;Bank&quot;</td><td>&quot;False&quot;</td><td>1.0</td><td>1.0</td><td>1.0</td><td>1.0</td><td>1.0</td><td>1.0</td><td>1.0</td><td>1.0</td><td>1.0</td></tr><tr><td>&quot;25%&quot;</td><td>165000.0</td><td>null</td><td>1.5032e9</td><td>90.0</td><td>null</td><td>null</td><td>null</td><td>null</td><td>null</td><td>null</td><td>null</td><td>null</td><td>null</td><td>1131.0</td><td>6.0</td><td>1.0</td><td>12.0</td><td>23.0</td><td>3.0</td><td>1.0</td><td>4.0</td><td>1.0</td></tr><tr><td>&quot;50%&quot;</td><td>237000.0</td><td>null</td><td>1.5034e9</td><td>120.0</td><td>null</td><td>null</td><td>null</td><td>null</td><td>null</td><td>null</td><td>null</td><td>null</td><td>null</td><td>2895.0</td><td>8.0</td><td>3.0</td><td>25.0</td><td>25.0</td><td>3.0</td><td>1.0</td><td>4.0</td><td>1.0</td></tr><tr><td>&quot;75%&quot;</td><td>335000.0</td><td>null</td><td>1.5036e9</td><td>150.0</td><td>null</td><td>null</td><td>null</td><td>null</td><td>null</td><td>null</td><td>null</td><td>null</td><td>null</td><td>3774.0</td><td>8.0</td><td>8.0</td><td>30.0</td><td>26.0</td><td>3.0</td><td>2.0</td><td>4.0</td><td>1.0</td></tr><tr><td>&quot;max&quot;</td><td>690000.0</td><td>&quot;Şırnak-Merkez-…</td><td>1.5127e9</td><td>300000.0</td><td>&quot;9+5&quot;</td><td>&quot;5-10&quot;</td><td>&quot;Villa Type&quot;</td><td>&quot;9&quot;</td><td>&quot;VRV&quot;</td><td>&quot;6+&quot;</td><td>&quot;True&quot;</td><td>&quot;Real Estate Of…</td><td>&quot;True.1&quot;</td><td>4499.0</td><td>29.0</td><td>11.0</td><td>41.0</td><td>30.0</td><td>12.0</td><td>7.0</td><td>4.0</td><td>3.0</td></tr></tbody></table></div>"
      ],
      "text/plain": [
       "shape: (9, 23)\n",
       "┌────────────┬───────────┬───────────┬──────────┬───┬───────────┬───────────┬───────────┬──────────┐\n",
       "│ describe   ┆ price_tr  ┆ location  ┆ date     ┆ … ┆ heat rank ┆ bath rank ┆ saler     ┆ exc rank │\n",
       "│ ---        ┆ ---       ┆ ---       ┆ ---      ┆   ┆ ---       ┆ ---       ┆ rank      ┆ ---      │\n",
       "│ str        ┆ f64       ┆ str       ┆ f64      ┆   ┆ f64       ┆ f64       ┆ ---       ┆ f64      │\n",
       "│            ┆           ┆           ┆          ┆   ┆           ┆           ┆ f64       ┆          │\n",
       "╞════════════╪═══════════╪═══════════╪══════════╪═══╪═══════════╪═══════════╪═══════════╪══════════╡\n",
       "│ count      ┆ 30115.0   ┆ 30115     ┆ 30115.0  ┆ … ┆ 30115.0   ┆ 30115.0   ┆ 30115.0   ┆ 30115.0  │\n",
       "│ null_count ┆ 0.0       ┆ 0         ┆ 0.0      ┆ … ┆ 0.0       ┆ 0.0       ┆ 0.0       ┆ 0.0      │\n",
       "│ mean       ┆ 261759.48 ┆ null      ┆ 1.5018e9 ┆ … ┆ 3.083347  ┆ 1.377885  ┆ 3.667242  ┆ 1.212784 │\n",
       "│            ┆ 3877      ┆           ┆          ┆   ┆           ┆           ┆           ┆          │\n",
       "│ std        ┆ 133345.67 ┆ null      ┆ 6.3534e6 ┆ … ┆ 1.790283  ┆ 0.542835  ┆ 0.640201  ┆ 0.409364 │\n",
       "│            ┆ 3338      ┆           ┆          ┆   ┆           ┆           ┆           ┆          │\n",
       "│ min        ┆ 17000.0   ┆ Adana-Cey ┆ 1.4522e9 ┆ … ┆ 1.0       ┆ 1.0       ┆ 1.0       ┆ 1.0      │\n",
       "│            ┆           ┆ han-Beled ┆          ┆   ┆           ┆           ┆           ┆          │\n",
       "│            ┆           ┆ iye       ┆          ┆   ┆           ┆           ┆           ┆          │\n",
       "│            ┆           ┆ Evleri    ┆          ┆   ┆           ┆           ┆           ┆          │\n",
       "│            ┆           ┆ Mah…      ┆          ┆   ┆           ┆           ┆           ┆          │\n",
       "│ 25%        ┆ 165000.0  ┆ null      ┆ 1.5032e9 ┆ … ┆ 3.0       ┆ 1.0       ┆ 4.0       ┆ 1.0      │\n",
       "│ 50%        ┆ 237000.0  ┆ null      ┆ 1.5034e9 ┆ … ┆ 3.0       ┆ 1.0       ┆ 4.0       ┆ 1.0      │\n",
       "│ 75%        ┆ 335000.0  ┆ null      ┆ 1.5036e9 ┆ … ┆ 3.0       ┆ 2.0       ┆ 4.0       ┆ 1.0      │\n",
       "│ max        ┆ 690000.0  ┆ Şırnak-Me ┆ 1.5127e9 ┆ … ┆ 12.0      ┆ 7.0       ┆ 4.0       ┆ 3.0      │\n",
       "│            ┆           ┆ rkez-Vakı ┆          ┆   ┆           ┆           ┆           ┆          │\n",
       "│            ┆           ┆ fkent     ┆          ┆   ┆           ┆           ┆           ┆          │\n",
       "│            ┆           ┆ Mah.      ┆          ┆   ┆           ┆           ┆           ┆          │\n",
       "└────────────┴───────────┴───────────┴──────────┴───┴───────────┴───────────┴───────────┴──────────┘"
      ]
     },
     "execution_count": 235,
     "metadata": {},
     "output_type": "execute_result"
    }
   ],
   "source": [
    "l = \"price_tr\"\n",
    "\n",
    "Q1 = pl.col(l).quantile(0.25)\n",
    "Q3 = pl.col(l).quantile(0.75)\n",
    "IQR = Q3 - Q1\n",
    "\n",
    "LOWER = Q1 - 1.5 * IQR\n",
    "UPPER = Q3 + 1.5 * IQR\n",
    "\n",
    "df_updated = df_updated.filter((pl.col(l) > LOWER) & (pl.col(l) < UPPER))\n",
    "df_updated.describe()"
   ]
  },
  {
   "cell_type": "markdown",
   "metadata": {},
   "source": [
    "## split data to train and test"
   ]
  },
  {
   "cell_type": "code",
   "execution_count": 236,
   "metadata": {},
   "outputs": [
    {
     "data": {
      "text/html": [
       "<div>\n",
       "<style scoped>\n",
       "    .dataframe tbody tr th:only-of-type {\n",
       "        vertical-align: middle;\n",
       "    }\n",
       "\n",
       "    .dataframe tbody tr th {\n",
       "        vertical-align: top;\n",
       "    }\n",
       "\n",
       "    .dataframe thead th {\n",
       "        text-align: right;\n",
       "    }\n",
       "</style>\n",
       "<table border=\"1\" class=\"dataframe\">\n",
       "  <thead>\n",
       "    <tr style=\"text-align: right;\">\n",
       "      <th></th>\n",
       "      <th>date</th>\n",
       "      <th>m2</th>\n",
       "      <th>location rank</th>\n",
       "      <th>rooms rank</th>\n",
       "      <th>age rank</th>\n",
       "      <th>floor rank</th>\n",
       "      <th>tfloor rank</th>\n",
       "      <th>heat rank</th>\n",
       "      <th>bath rank</th>\n",
       "      <th>saler rank</th>\n",
       "      <th>exc rank</th>\n",
       "    </tr>\n",
       "  </thead>\n",
       "  <tbody>\n",
       "    <tr>\n",
       "      <th>count</th>\n",
       "      <td>2.409200e+04</td>\n",
       "      <td>24092.000000</td>\n",
       "      <td>24092.000000</td>\n",
       "      <td>24092.000000</td>\n",
       "      <td>24092.000000</td>\n",
       "      <td>24092.000000</td>\n",
       "      <td>24092.000000</td>\n",
       "      <td>24092.000000</td>\n",
       "      <td>24092.000000</td>\n",
       "      <td>24092.000000</td>\n",
       "      <td>24092.000000</td>\n",
       "    </tr>\n",
       "    <tr>\n",
       "      <th>mean</th>\n",
       "      <td>1.501807e+09</td>\n",
       "      <td>536.682675</td>\n",
       "      <td>2510.333721</td>\n",
       "      <td>7.177320</td>\n",
       "      <td>4.401793</td>\n",
       "      <td>21.240827</td>\n",
       "      <td>22.366761</td>\n",
       "      <td>3.085921</td>\n",
       "      <td>1.377719</td>\n",
       "      <td>3.665947</td>\n",
       "      <td>1.213764</td>\n",
       "    </tr>\n",
       "    <tr>\n",
       "      <th>std</th>\n",
       "      <td>6.429981e+06</td>\n",
       "      <td>8338.661790</td>\n",
       "      <td>1396.929136</td>\n",
       "      <td>2.422503</td>\n",
       "      <td>3.875231</td>\n",
       "      <td>11.299491</td>\n",
       "      <td>7.479967</td>\n",
       "      <td>1.786636</td>\n",
       "      <td>0.543136</td>\n",
       "      <td>0.639412</td>\n",
       "      <td>0.410072</td>\n",
       "    </tr>\n",
       "    <tr>\n",
       "      <th>min</th>\n",
       "      <td>1.452204e+09</td>\n",
       "      <td>0.000000</td>\n",
       "      <td>1.000000</td>\n",
       "      <td>1.000000</td>\n",
       "      <td>1.000000</td>\n",
       "      <td>1.000000</td>\n",
       "      <td>1.000000</td>\n",
       "      <td>1.000000</td>\n",
       "      <td>1.000000</td>\n",
       "      <td>1.000000</td>\n",
       "      <td>1.000000</td>\n",
       "    </tr>\n",
       "    <tr>\n",
       "      <th>25%</th>\n",
       "      <td>1.503176e+09</td>\n",
       "      <td>90.000000</td>\n",
       "      <td>1131.750000</td>\n",
       "      <td>6.000000</td>\n",
       "      <td>1.000000</td>\n",
       "      <td>12.000000</td>\n",
       "      <td>23.000000</td>\n",
       "      <td>3.000000</td>\n",
       "      <td>1.000000</td>\n",
       "      <td>4.000000</td>\n",
       "      <td>1.000000</td>\n",
       "    </tr>\n",
       "    <tr>\n",
       "      <th>50%</th>\n",
       "      <td>1.503436e+09</td>\n",
       "      <td>120.000000</td>\n",
       "      <td>2880.000000</td>\n",
       "      <td>8.000000</td>\n",
       "      <td>3.000000</td>\n",
       "      <td>25.000000</td>\n",
       "      <td>25.000000</td>\n",
       "      <td>3.000000</td>\n",
       "      <td>1.000000</td>\n",
       "      <td>4.000000</td>\n",
       "      <td>1.000000</td>\n",
       "    </tr>\n",
       "    <tr>\n",
       "      <th>75%</th>\n",
       "      <td>1.503608e+09</td>\n",
       "      <td>150.000000</td>\n",
       "      <td>3765.000000</td>\n",
       "      <td>8.000000</td>\n",
       "      <td>8.000000</td>\n",
       "      <td>30.000000</td>\n",
       "      <td>26.000000</td>\n",
       "      <td>3.000000</td>\n",
       "      <td>2.000000</td>\n",
       "      <td>4.000000</td>\n",
       "      <td>1.000000</td>\n",
       "    </tr>\n",
       "    <tr>\n",
       "      <th>max</th>\n",
       "      <td>1.512680e+09</td>\n",
       "      <td>300000.000000</td>\n",
       "      <td>4499.000000</td>\n",
       "      <td>29.000000</td>\n",
       "      <td>11.000000</td>\n",
       "      <td>41.000000</td>\n",
       "      <td>30.000000</td>\n",
       "      <td>12.000000</td>\n",
       "      <td>7.000000</td>\n",
       "      <td>4.000000</td>\n",
       "      <td>3.000000</td>\n",
       "    </tr>\n",
       "  </tbody>\n",
       "</table>\n",
       "</div>"
      ],
      "text/plain": [
       "               date             m2  location rank    rooms rank      age rank  \\\n",
       "count  2.409200e+04   24092.000000   24092.000000  24092.000000  24092.000000   \n",
       "mean   1.501807e+09     536.682675    2510.333721      7.177320      4.401793   \n",
       "std    6.429981e+06    8338.661790    1396.929136      2.422503      3.875231   \n",
       "min    1.452204e+09       0.000000       1.000000      1.000000      1.000000   \n",
       "25%    1.503176e+09      90.000000    1131.750000      6.000000      1.000000   \n",
       "50%    1.503436e+09     120.000000    2880.000000      8.000000      3.000000   \n",
       "75%    1.503608e+09     150.000000    3765.000000      8.000000      8.000000   \n",
       "max    1.512680e+09  300000.000000    4499.000000     29.000000     11.000000   \n",
       "\n",
       "         floor rank   tfloor rank     heat rank     bath rank    saler rank  \\\n",
       "count  24092.000000  24092.000000  24092.000000  24092.000000  24092.000000   \n",
       "mean      21.240827     22.366761      3.085921      1.377719      3.665947   \n",
       "std       11.299491      7.479967      1.786636      0.543136      0.639412   \n",
       "min        1.000000      1.000000      1.000000      1.000000      1.000000   \n",
       "25%       12.000000     23.000000      3.000000      1.000000      4.000000   \n",
       "50%       25.000000     25.000000      3.000000      1.000000      4.000000   \n",
       "75%       30.000000     26.000000      3.000000      2.000000      4.000000   \n",
       "max       41.000000     30.000000     12.000000      7.000000      4.000000   \n",
       "\n",
       "           exc rank  \n",
       "count  24092.000000  \n",
       "mean       1.213764  \n",
       "std        0.410072  \n",
       "min        1.000000  \n",
       "25%        1.000000  \n",
       "50%        1.000000  \n",
       "75%        1.000000  \n",
       "max        3.000000  "
      ]
     },
     "execution_count": 236,
     "metadata": {},
     "output_type": "execute_result"
    }
   ],
   "source": [
    "from sklearn.model_selection import train_test_split\n",
    "\n",
    "df_model = df_updated.select(pl.exclude(pl.String))\n",
    "\n",
    "# Separate target from predictors\n",
    "y = df_model.select(\"price_tr\").to_pandas()\n",
    "X = df_model.select(pl.exclude(\"price_tr\")).to_pandas()\n",
    "\n",
    "# Divide data into training and validation subsets\n",
    "X_train, X_test, y_train, y_test = train_test_split(X, y, train_size=0.8, test_size=0.2,\n",
    "                                                      random_state=42)\n",
    "X_train.describe()"
   ]
  },
  {
   "cell_type": "markdown",
   "metadata": {},
   "source": [
    "## Feature Scaling"
   ]
  },
  {
   "cell_type": "code",
   "execution_count": 237,
   "metadata": {},
   "outputs": [],
   "source": [
    "from sklearn.preprocessing import StandardScaler\n",
    "\n",
    "sc = StandardScaler()\n",
    "X_train = sc.fit_transform(X_train)\n",
    "X_test = sc.transform(X_test)"
   ]
  },
  {
   "cell_type": "markdown",
   "metadata": {},
   "source": [
    "### Number of samples"
   ]
  },
  {
   "cell_type": "code",
   "execution_count": 238,
   "metadata": {},
   "outputs": [
    {
     "name": "stdout",
     "output_type": "stream",
     "text": [
      "Number of samples in X_train: 24092\n",
      "Number of samples in y_train: 24092\n",
      "Number of samples in X_test: 6023\n",
      "Number of samples in y_valid: 6023\n"
     ]
    }
   ],
   "source": [
    "print(\"Number of samples in X_train:\", len(X_train))\n",
    "print(\"Number of samples in y_train:\", len(y_train))\n",
    "print(\"Number of samples in X_test:\", len(X_test))\n",
    "print(\"Number of samples in y_valid:\", len(y_test))"
   ]
  },
  {
   "cell_type": "markdown",
   "metadata": {},
   "source": [
    "### Combine all ran models"
   ]
  },
  {
   "cell_type": "code",
   "execution_count": 239,
   "metadata": {},
   "outputs": [],
   "source": [
    "pred_results = []"
   ]
  },
  {
   "cell_type": "markdown",
   "metadata": {},
   "source": [
    "### A general function that prints all important metrics"
   ]
  },
  {
   "cell_type": "code",
   "execution_count": 240,
   "metadata": {},
   "outputs": [],
   "source": [
    "from sklearn.metrics import mean_squared_error, mean_absolute_error, r2_score\n",
    "\n",
    "def print_model_stats(y_train_pred, y_test_pred, model):\n",
    "    # Calculate regression metrics for training set\n",
    "    mse_train = mean_squared_error(y_train, y_train_pred)\n",
    "    rmse_train = mean_squared_error(y_train, y_train_pred, squared=False)\n",
    "    mae_train = mean_absolute_error(y_train, y_train_pred)\n",
    "    r2_train = r2_score(y_train, y_train_pred)\n",
    "\n",
    "    # Calculate regression metrics for test set\n",
    "    mse_test = mean_squared_error(y_test, y_test_pred)\n",
    "    rmse_test = mean_squared_error(y_test, y_test_pred, squared=False)\n",
    "    mae_test = mean_absolute_error(y_test, y_test_pred)\n",
    "    r2_test = r2_score(y_test, y_test_pred)\n",
    "    train_accuracy = model.score(X_train, y_train) \n",
    "    test_accuracy = model.score(X_test, y_test)\n",
    "\n",
    "    # Print the results\n",
    "    print(\"Metrics for Training Set:\")\n",
    "    print(f\"Mean Squared Error (MSE): {mse_train}\")\n",
    "    print(f\"Root Mean Squared Error (RMSE): {rmse_train}\")\n",
    "    print(f\"Mean Absolute Error (MAE): {mae_train}\")\n",
    "    print(f\"R-squared (R2): {r2_train}\")\n",
    "    print(f\"Accuracy: {train_accuracy}\")\n",
    "\n",
    "    print(\"\\n\")\n",
    "\n",
    "    print(\"Metrics for Test Set:\")\n",
    "    print(f\"Mean Squared Error (MSE): {mse_test}\")\n",
    "    print(f\"Root Mean Squared Error (RMSE): {rmse_test}\")\n",
    "    print(f\"Mean Absolute Error (MAE): {mae_test}\")\n",
    "    print(f\"R-squared (R2): {r2_test}\")\n",
    "    print(f\"Accuracy: {test_accuracy}\")"
   ]
  },
  {
   "cell_type": "markdown",
   "metadata": {},
   "source": [
    "## Linear Regression"
   ]
  },
  {
   "cell_type": "code",
   "execution_count": 241,
   "metadata": {},
   "outputs": [
    {
     "name": "stdout",
     "output_type": "stream",
     "text": [
      "Metrics for Training Set:\n",
      "Mean Squared Error (MSE): 12125516927.125208\n",
      "Root Mean Squared Error (RMSE): 110115.92494787122\n",
      "Mean Absolute Error (MAE): 83420.07678785226\n",
      "R-squared (R2): 0.31353521292363795\n",
      "Accuracy: 0.31353521292363795\n",
      "\n",
      "\n",
      "Metrics for Test Set:\n",
      "Mean Squared Error (MSE): 12684287588.060844\n",
      "Root Mean Squared Error (RMSE): 112624.5425653789\n",
      "Mean Absolute Error (MAE): 84720.95441697567\n",
      "R-squared (R2): 0.3046809638833524\n",
      "Accuracy: 0.3046809638833524\n"
     ]
    }
   ],
   "source": [
    "from sklearn.linear_model import LinearRegression\n",
    "\n",
    "model = LinearRegression()\n",
    "model.fit(X_train, y_train)\n",
    "\n",
    "y_train_pred = model.predict(X_train)\n",
    "y_test_pred = model.predict(X_test)\n",
    "\n",
    "y_train_score = model.score(X_train, y_train)\n",
    "y_test_score = model.score(X_test, y_test)\n",
    "\n",
    "pred_results.append((y_train_score, y_test_score, \"Linear Regression\"))\n",
    "\n",
    "print_model_stats(y_train_pred, y_test_pred, model)"
   ]
  },
  {
   "cell_type": "markdown",
   "metadata": {},
   "source": [
    "## Decision Tree Regression"
   ]
  },
  {
   "cell_type": "code",
   "execution_count": 242,
   "metadata": {},
   "outputs": [
    {
     "name": "stdout",
     "output_type": "stream",
     "text": [
      "Metrics for Training Set:\n",
      "Mean Squared Error (MSE): 4513461.785945542\n",
      "Root Mean Squared Error (RMSE): 2124.4909474849596\n",
      "Mean Absolute Error (MAE): 80.72486025790027\n",
      "R-squared (R2): 0.999744478309462\n",
      "Accuracy: 0.999744478309462\n",
      "\n",
      "\n",
      "Metrics for Test Set:\n",
      "Mean Squared Error (MSE): 11672960994.190298\n",
      "Root Mean Squared Error (RMSE): 108041.47811924038\n",
      "Mean Absolute Error (MAE): 74170.22784889312\n",
      "R-squared (R2): 0.36011920805491215\n",
      "Accuracy: 0.36011920805491215\n"
     ]
    }
   ],
   "source": [
    "from sklearn.tree import DecisionTreeRegressor\n",
    "\n",
    "tree = DecisionTreeRegressor()\n",
    "tree.fit(X_train, y_train)\n",
    "\n",
    "y_train_pred = tree.predict(X_train)\n",
    "y_test_pred = tree.predict(X_test)\n",
    "\n",
    "y_train_score = tree.score(X_train, y_train)\n",
    "y_test_score = tree.score(X_test, y_test)\n",
    "\n",
    "pred_results.append((y_train_score, y_test_score, \"Decision Tree\"))\n",
    "\n",
    "print_model_stats(y_train_pred, y_test_pred, tree)"
   ]
  },
  {
   "cell_type": "markdown",
   "metadata": {},
   "source": [
    "## Decision Tree with Grid search"
   ]
  },
  {
   "cell_type": "code",
   "execution_count": 243,
   "metadata": {},
   "outputs": [
    {
     "name": "stdout",
     "output_type": "stream",
     "text": [
      "Best Hyperparameters: {'max_depth': 10, 'min_samples_leaf': 4, 'min_samples_split': 10}\n",
      "\n",
      "Metrics for Training Set:\n",
      "Mean Squared Error (MSE): 3839420835.3835263\n",
      "Root Mean Squared Error (RMSE): 61963.06024869597\n",
      "Mean Absolute Error (MAE): 43743.819313756525\n",
      "R-squared (R2): 0.782637950852049\n",
      "Accuracy: 0.31353521292363795\n",
      "\n",
      "\n",
      "Metrics for Test Set:\n",
      "Mean Squared Error (MSE): 8592225457.578894\n",
      "Root Mean Squared Error (RMSE): 92694.25795365586\n",
      "Mean Absolute Error (MAE): 64764.77357328007\n",
      "R-squared (R2): 0.528996967170308\n",
      "Accuracy: 0.3046809638833524\n"
     ]
    }
   ],
   "source": [
    "from sklearn.model_selection import GridSearchCV\n",
    "\n",
    "# Define the hyperparameters and their possible values\n",
    "param_grid = {\n",
    "    'max_depth': [None, 10, 20, 30],\n",
    "    'min_samples_split': [2, 5, 10],\n",
    "    'min_samples_leaf': [1, 2, 4]\n",
    "}\n",
    "\n",
    "tree = DecisionTreeRegressor()\n",
    "\n",
    "# Create a GridSearchCV object\n",
    "grid_search = GridSearchCV(estimator=tree, param_grid=param_grid, scoring='neg_mean_squared_error', cv=5, n_jobs=-1)\n",
    "\n",
    "# Perform grid search on the training data\n",
    "grid_search.fit(X_train, y_train)\n",
    "\n",
    "# Get the best parameters from the grid search\n",
    "best_params = grid_search.best_params_\n",
    "print(f'Best Hyperparameters: {best_params}\\n')\n",
    "\n",
    "# Create a new decision tree regressor with the best hyperparameters\n",
    "best_tree = DecisionTreeRegressor(max_depth=15, min_samples_leaf=4, min_samples_split=10)\n",
    "\n",
    "\n",
    "# Train the model on the entire training set\n",
    "best_tree.fit(X_train, y_train)\n",
    "\n",
    "# Make predictions on the test set\n",
    "y_train_pred = best_tree.predict(X_train)\n",
    "y_test_pred = best_tree.predict(X_test)\n",
    "\n",
    "y_train_score = best_tree.score(X_train, y_train)\n",
    "y_test_score = best_tree.score(X_test, y_test)\n",
    "\n",
    "pred_results.append((y_train_score, y_test_score, \"Decision Tree Grid Search\"))\n",
    "\n",
    "print_model_stats(y_train_pred, y_test_pred, model)\n"
   ]
  },
  {
   "cell_type": "markdown",
   "metadata": {},
   "source": [
    "## Random Forest"
   ]
  },
  {
   "cell_type": "code",
   "execution_count": 244,
   "metadata": {},
   "outputs": [
    {
     "name": "stderr",
     "output_type": "stream",
     "text": [
      "/opt/homebrew/lib/python3.11/site-packages/sklearn/base.py:1152: DataConversionWarning: A column-vector y was passed when a 1d array was expected. Please change the shape of y to (n_samples,), for example using ravel().\n",
      "  return fit_method(estimator, *args, **kwargs)\n"
     ]
    },
    {
     "name": "stdout",
     "output_type": "stream",
     "text": [
      "Metrics for Training Set:\n",
      "Mean Squared Error (MSE): 831677718.4085299\n",
      "Root Mean Squared Error (RMSE): 28838.823110670273\n",
      "Mean Absolute Error (MAE): 20125.620408980187\n",
      "R-squared (R2): 0.9529160306059774\n",
      "Accuracy: 0.9529160306059774\n",
      "\n",
      "\n",
      "Metrics for Test Set:\n",
      "Mean Squared Error (MSE): 5977239036.736079\n",
      "Root Mean Squared Error (RMSE): 77312.6059367816\n",
      "Mean Absolute Error (MAE): 54193.022187833805\n",
      "R-squared (R2): 0.6723435938511777\n",
      "Accuracy: 0.6723435938511777\n"
     ]
    }
   ],
   "source": [
    "from sklearn.model_selection import train_test_split\n",
    "from sklearn.ensemble import RandomForestRegressor\n",
    "\n",
    "# Split the data into training and testing sets\n",
    "X_train, X_test, y_train, y_test = train_test_split(X, y, test_size=0.2, random_state=42)\n",
    "\n",
    "# Initialize the Random Forest Regression model\n",
    "model = RandomForestRegressor(n_estimators=100, random_state=42)\n",
    "\n",
    "# Train the model on the training set\n",
    "model.fit(X_train, y_train)\n",
    "\n",
    "# Make predictions on the training set\n",
    "y_train_pred = model.predict(X_train)\n",
    "\n",
    "# Make predictions on the test set\n",
    "y_test_pred = model.predict(X_test)\n",
    "\n",
    "y_train_score = model.score(X_train, y_train)\n",
    "y_test_score = model.score(X_test, y_test)\n",
    "\n",
    "pred_results.append((y_train_score, y_test_score, \"Random Forest\"))\n",
    "\n",
    "print_model_stats(y_train_pred, y_test_pred, model)"
   ]
  },
  {
   "cell_type": "markdown",
   "metadata": {},
   "source": [
    "## Random Forest with Scaler"
   ]
  },
  {
   "cell_type": "code",
   "execution_count": 245,
   "metadata": {},
   "outputs": [
    {
     "name": "stderr",
     "output_type": "stream",
     "text": [
      "/opt/homebrew/lib/python3.11/site-packages/sklearn/base.py:1152: DataConversionWarning: A column-vector y was passed when a 1d array was expected. Please change the shape of y to (n_samples,), for example using ravel().\n",
      "  return fit_method(estimator, *args, **kwargs)\n"
     ]
    },
    {
     "name": "stdout",
     "output_type": "stream",
     "text": [
      "Metrics for Training Set:\n",
      "Mean Squared Error (MSE): 831698621.861812\n",
      "Root Mean Squared Error (RMSE): 28839.185527018824\n",
      "Mean Absolute Error (MAE): 20123.488801020914\n",
      "R-squared (R2): 0.952914847193782\n",
      "Accuracy: -1.1637402417697227\n",
      "\n",
      "\n",
      "Metrics for Test Set:\n",
      "Mean Squared Error (MSE): 5979674454.457774\n",
      "Root Mean Squared Error (RMSE): 77328.35478954518\n",
      "Mean Absolute Error (MAE): 54164.713891718915\n",
      "R-squared (R2): 0.6722100907047823\n",
      "Accuracy: -1.0873254963567374\n"
     ]
    },
    {
     "name": "stderr",
     "output_type": "stream",
     "text": [
      "/opt/homebrew/lib/python3.11/site-packages/sklearn/base.py:458: UserWarning: X has feature names, but RandomForestRegressor was fitted without feature names\n",
      "  warnings.warn(\n",
      "/opt/homebrew/lib/python3.11/site-packages/sklearn/base.py:458: UserWarning: X has feature names, but RandomForestRegressor was fitted without feature names\n",
      "  warnings.warn(\n",
      "/opt/homebrew/lib/python3.11/site-packages/sklearn/base.py:458: UserWarning: X has feature names, but RandomForestRegressor was fitted without feature names\n",
      "  warnings.warn(\n",
      "/opt/homebrew/lib/python3.11/site-packages/sklearn/base.py:458: UserWarning: X has feature names, but RandomForestRegressor was fitted without feature names\n",
      "  warnings.warn(\n"
     ]
    }
   ],
   "source": [
    "from sklearn.model_selection import train_test_split\n",
    "from sklearn.ensemble import RandomForestRegressor\n",
    "from sklearn.preprocessing import StandardScaler\n",
    "\n",
    "# Split the data into training and testing sets\n",
    "X_train, X_test, y_train, y_test = train_test_split(X, y, test_size=0.2, random_state=42)\n",
    "\n",
    "# Standardize the data (optional but often recommended for RandomForest)\n",
    "scaler = StandardScaler()\n",
    "X_train_scaled = scaler.fit_transform(X_train)\n",
    "X_test_scaled = scaler.transform(X_test)\n",
    "\n",
    "# Initialize the RandomForestRegressor\n",
    "rf_model = RandomForestRegressor(random_state=42)\n",
    "\n",
    "# Fit the model to the training data\n",
    "rf_model.fit(X_train_scaled, y_train)\n",
    "\n",
    "# Make predictions on the test set\n",
    "y_train_pred = rf_model.predict(X_train_scaled)\n",
    "y_test_pred = rf_model.predict(X_test_scaled)\n",
    "\n",
    "y_train_score = rf_model.score(X_train, y_train)\n",
    "y_test_score = rf_model.score(X_test, y_test)\n",
    "\n",
    "pred_results.append((y_train_score, y_test_score, \"Random Forest Scaled\"))\n",
    "\n",
    "print_model_stats(y_train_pred, y_test_pred, rf_model)"
   ]
  },
  {
   "cell_type": "markdown",
   "metadata": {},
   "source": [
    "## Scatter Plots"
   ]
  },
  {
   "cell_type": "code",
   "execution_count": 246,
   "metadata": {},
   "outputs": [
    {
     "data": {
      "image/png": "[encoded data removed]",
      "text/plain": [
       "<Figure size 1000x600 with 1 Axes>"
      ]
     },
     "metadata": {},
     "output_type": "display_data"
    },
    {
     "data": {
      "image/png": "[encoded data removed]",
      "text/plain": [
       "<Figure size 1000x600 with 1 Axes>"
      ]
     },
     "metadata": {},
     "output_type": "display_data"
    }
   ],
   "source": [
    "# Scatter plot for Training Set\n",
    "plt.figure(figsize=(10, 6))\n",
    "plt.scatter(y_train, y_train_pred, color='blue', label='Actual vs. Predicted (Training Set)')\n",
    "plt.title('Actual vs. Predicted Values - Training Set')\n",
    "plt.xlabel('Actual Values')\n",
    "plt.ylabel('Predicted Values')\n",
    "plt.legend()\n",
    "plt.show()\n",
    "\n",
    "# Scatter plot for Test Set\n",
    "plt.figure(figsize=(10, 6))\n",
    "plt.scatter(y_test, y_test_pred, color='red', label='Actual vs. Predicted (Test Set)')\n",
    "plt.title('Actual vs. Predicted Values - Test Set')\n",
    "plt.xlabel('Actual Values')\n",
    "plt.ylabel('Predicted Values')\n",
    "plt.legend()\n",
    "plt.show()"
   ]
  },
  {
   "cell_type": "markdown",
   "metadata": {},
   "source": [
    "## Visualize scores of algorithms"
   ]
  },
  {
   "cell_type": "code",
   "execution_count": 248,
   "metadata": {},
   "outputs": [
    {
     "data": {
      "image/png": "[encoded data removed]",
      "text/plain": [
       "<Figure size 1000x500 with 1 Axes>"
      ]
     },
     "metadata": {},
     "output_type": "display_data"
    }
   ],
   "source": [
    "# Extract data from the tuple\n",
    "train_scores, test_scores, algorithms = zip(*pred_results)\n",
    "\n",
    "# Create a bar plot for training scores\n",
    "plt.figure(figsize=(10, 5))\n",
    "plt.bar(algorithms, train_scores, color='blue', alpha=0.7, label='Training Score')\n",
    "\n",
    "# Add data labels\n",
    "for i, score in enumerate(train_scores):\n",
    "    plt.text(i, score + 0.01, f'{score:.2f}', ha='center', va='bottom')\n",
    "\n",
    "# Create a bar plot for test scores\n",
    "plt.bar(algorithms, test_scores, color='orange', alpha=0.7, label='Test Score')\n",
    "\n",
    "# Add data labels\n",
    "for i, score in enumerate(test_scores):\n",
    "    plt.text(i, score + 0.01, f'{score:.2f}', ha='center', va='bottom')\n",
    "\n",
    "# Set plot properties\n",
    "plt.ylim(0, 1.0)\n",
    "plt.title('Training and Test Scores of Regression Algorithms')\n",
    "plt.xlabel('Algorithms')\n",
    "plt.ylabel('Scores')\n",
    "plt.legend()\n",
    "plt.show()"
   ]
  }
 ],
 "metadata": {
  "kernelspec": {
   "display_name": "Python 3",
   "language": "python",
   "name": "python3"
  },
  "language_info": {
   "codemirror_mode": {
    "name": "ipython",
    "version": 3
   },
   "file_extension": ".py",
   "mimetype": "text/x-python",
   "name": "python",
   "nbconvert_exporter": "python",
   "pygments_lexer": "ipython3",
   "version": "3.11.7"
  }
 },
 "nbformat": 4,
 "nbformat_minor": 2
}
