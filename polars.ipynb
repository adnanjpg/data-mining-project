{
 "cells": [
  {
   "cell_type": "markdown",
   "metadata": {},
   "source": [
    "# preprocessing\n",
    "- find null values\n",
    "- replace with feature mean\n",
    "- find outliers (especially m2)\n",
    "- enumarate categorical features\n",
    "- drop title col\n",
    "- drop id col\n",
    "- convert all prices to try\n",
    "- drop lat lon\n",
    "- convert date values to be of the same race\n",
    "- drop type (bcz all values are flat)\n",
    "- drop currency\n",
    "- remove outlier prices (25000 TL, 8500000TL)"
   ]
  },
  {
   "cell_type": "code",
   "execution_count": 1,
   "metadata": {},
   "outputs": [],
   "source": [
    "import polars as pl\n",
    "import matplotlib.pyplot as plt"
   ]
  },
  {
   "cell_type": "code",
   "execution_count": 2,
   "metadata": {},
   "outputs": [
    {
     "data": {
      "text/html": [
       "<div><style>\n",
       ".dataframe > thead > tr,\n",
       ".dataframe > tbody > tr {\n",
       "  text-align: right;\n",
       "  white-space: pre-wrap;\n",
       "}\n",
       "</style>\n",
       "<small>shape: (5, 25)</small><table border=\"1\" class=\"dataframe\"><thead><tr><th>title</th><th>Id</th><th>price</th><th>currency</th><th>loc city</th><th>loc county</th><th>loc dist</th><th>lat</th><th>lon</th><th>date</th><th>type</th><th>m2</th><th>rooms</th><th>age</th><th>floor</th><th>tfloor</th><th>heat</th><th>bath</th><th>furn</th><th>status</th><th>resid</th><th>due</th><th>loan</th><th>saler</th><th>exc</th></tr><tr><td>str</td><td>i64</td><td>i64</td><td>str</td><td>str</td><td>str</td><td>str</td><td>f64</td><td>f64</td><td>str</td><td>str</td><td>i64</td><td>str</td><td>str</td><td>str</td><td>str</td><td>str</td><td>str</td><td>bool</td><td>str</td><td>str</td><td>i64</td><td>bool</td><td>str</td><td>str</td></tr></thead><tbody><tr><td>&quot;SAHİBİNDEN-%10…</td><td>323589399</td><td>225000</td><td>&quot;Turkish Lira&quot;</td><td>&quot;İstanbul&quot;</td><td>&quot;Sancaktepe&quot;</td><td>&quot;Sarıgazi Mah.&quot;</td><td>41.003838</td><td>29.213019</td><td>&quot;28 Temmuz 2016…</td><td>&quot;Flat&quot;</td><td>85</td><td>&quot;2+1&quot;</td><td>&quot;5-10&quot;</td><td>&quot;High Entrance&quot;</td><td>&quot;5&quot;</td><td>&quot;Combi&quot;</td><td>&quot;1&quot;</td><td>false</td><td>&quot;Tenant&quot;</td><td>&quot;False.1&quot;</td><td>0</td><td>true</td><td>&quot;Owner&quot;</td><td>&quot;True.1&quot;</td></tr><tr><td>&quot;İSTANBULUN MER…</td><td>323599659</td><td>360000</td><td>&quot;Turkish Lira&quot;</td><td>&quot;İstanbul&quot;</td><td>&quot;Üsküdar&quot;</td><td>&quot;Ünalan Mah.&quot;</td><td>41.005051</td><td>29.062934</td><td>&quot;28 Temmuz 2016…</td><td>&quot;Flat&quot;</td><td>87</td><td>&quot;2+1&quot;</td><td>&quot;0&quot;</td><td>&quot;Ground Floor&quot;</td><td>&quot;9&quot;</td><td>&quot;Combi&quot;</td><td>&quot;1&quot;</td><td>false</td><td>&quot;Empty&quot;</td><td>&quot;True&quot;</td><td>null</td><td>true</td><td>&quot;Owner&quot;</td><td>&quot;False&quot;</td></tr><tr><td>&quot;Merkezde 4+1 Ş…</td><td>323536105</td><td>335000</td><td>&quot;Turkish Lira&quot;</td><td>&quot;İstanbul&quot;</td><td>&quot;Arnavutköy&quot;</td><td>&quot;Hastane Mah.&quot;</td><td>41.15349</td><td>28.619143</td><td>&quot;27 Temmuz 2016…</td><td>&quot;Flat&quot;</td><td>160</td><td>&quot;4+1&quot;</td><td>&quot;0&quot;</td><td>&quot;4&quot;</td><td>&quot;5&quot;</td><td>&quot;Combi&quot;</td><td>&quot;1&quot;</td><td>false</td><td>&quot;Empty&quot;</td><td>&quot;True&quot;</td><td>null</td><td>true</td><td>&quot;Owner&quot;</td><td>&quot;False&quot;</td></tr><tr><td>&quot;kelepir büyük …</td><td>323709392</td><td>235000</td><td>&quot;Turkish Lira&quot;</td><td>&quot;Antalya&quot;</td><td>&quot;Muratpaşa&quot;</td><td>&quot;Yenigün Mah.&quot;</td><td>36.902681</td><td>30.721658</td><td>&quot;28 Temmuz 2016…</td><td>&quot;Flat&quot;</td><td>165</td><td>&quot;4+1&quot;</td><td>&quot;5-10&quot;</td><td>&quot;Rise 4&quot;</td><td>&quot;4&quot;</td><td>&quot;Floor Calorie&quot;</td><td>&quot;2&quot;</td><td>false</td><td>&quot;Tenant&quot;</td><td>&quot;False&quot;</td><td>25</td><td>true</td><td>&quot;Owner&quot;</td><td>&quot;True&quot;</td></tr><tr><td>&quot;ACİL SAHİBİNDE…</td><td>323730617</td><td>229000</td><td>&quot;Turkish Lira&quot;</td><td>&quot;Manisa&quot;</td><td>&quot;Yunusemre&quot;</td><td>&quot;Muradiye&quot;</td><td>38.638822</td><td>27.346087</td><td>&quot;28 Temmuz 2016…</td><td>&quot;Flat&quot;</td><td>208</td><td>&quot;5+1&quot;</td><td>&quot;0&quot;</td><td>&quot;Rise 4&quot;</td><td>&quot;5&quot;</td><td>&quot;Combi&quot;</td><td>&quot;2&quot;</td><td>false</td><td>&quot;Tenant&quot;</td><td>&quot;False&quot;</td><td>null</td><td>true</td><td>&quot;Owner&quot;</td><td>&quot;False&quot;</td></tr></tbody></table></div>"
      ],
      "text/plain": [
       "shape: (5, 25)\n",
       "┌───────────────────────────┬───────────┬────────┬──────────────┬───┬──────┬──────┬───────┬────────┐\n",
       "│ title                     ┆ Id        ┆ price  ┆ currency     ┆ … ┆ due  ┆ loan ┆ saler ┆ exc    │\n",
       "│ ---                       ┆ ---       ┆ ---    ┆ ---          ┆   ┆ ---  ┆ ---  ┆ ---   ┆ ---    │\n",
       "│ str                       ┆ i64       ┆ i64    ┆ str          ┆   ┆ i64  ┆ bool ┆ str   ┆ str    │\n",
       "╞═══════════════════════════╪═══════════╪════════╪══════════════╪═══╪══════╪══════╪═══════╪════════╡\n",
       "│ SAHİBİNDEN-%10            ┆ 323589399 ┆ 225000 ┆ Turkish Lira ┆ … ┆ 0    ┆ true ┆ Owner ┆ True.1 │\n",
       "│ İNDİRİM-225.000 T…        ┆           ┆        ┆              ┆   ┆      ┆      ┆       ┆        │\n",
       "│ İSTANBULUN MERKEZİ        ┆ 323599659 ┆ 360000 ┆ Turkish Lira ┆ … ┆ null ┆ true ┆ Owner ┆ False  │\n",
       "│ Merkezde 4+1 Şömineli     ┆ 323536105 ┆ 335000 ┆ Turkish Lira ┆ … ┆ null ┆ true ┆ Owner ┆ False  │\n",
       "│ Ultra Lüks…               ┆           ┆        ┆              ┆   ┆      ┆      ┆       ┆        │\n",
       "│ kelepir büyük dublex acil ┆ 323709392 ┆ 235000 ┆ Turkish Lira ┆ … ┆ 25   ┆ true ┆ Owner ┆ True   │\n",
       "│ pazarl…                   ┆           ┆        ┆              ┆   ┆      ┆      ┆       ┆        │\n",
       "│ ACİL SAHİBİNDEN MANİSA    ┆ 323730617 ┆ 229000 ┆ Turkish Lira ┆ … ┆ null ┆ true ┆ Owner ┆ False  │\n",
       "│ MURADİYE …                ┆           ┆        ┆              ┆   ┆      ┆      ┆       ┆        │\n",
       "└───────────────────────────┴───────────┴────────┴──────────────┴───┴──────┴──────┴───────┴────────┘"
      ]
     },
     "execution_count": 2,
     "metadata": {},
     "output_type": "execute_result"
    }
   ],
   "source": [
    "df = pl.read_csv(\"real_estate_data.csv\", null_values=[\"Unknown\", \"None\"])\n",
    "df.head()"
   ]
  },
  {
   "cell_type": "markdown",
   "metadata": {},
   "source": [
    "| Tmp  | Tmp | \n",
    "| ---  | --- | \n",
    "| TITLE      | title of the ad |\n",
    "| ID         | identification number of the ad |\n",
    "| PRICE      | price of the flat |\n",
    "| CURRENCY   | currency of the price     |\n",
    "| LOCCITY    | city of the building |\n",
    "| LOCOUNTY   | county of the building |\n",
    "| LOCDIST    | distirct of the building |\n",
    "| LAT        | latitude of the location of the building |\n",
    "| LON        | longitude of the location of the building |\n",
    "| DATE      | ad release date |\n",
    "| TYPE      | type of the ad |\n",
    "| M2        | size of the flat in meters |\n",
    "| ROOMS     | Rooms in flat |\n",
    "| AGE       | age of the building |\n",
    "| FLOOR     | floor number of the flat |\n",
    "| TFLOOR    | number of floors in building |\n",
    "| HEAT      | heating type of the building |\n",
    "| BATH      | number of bathrooms in the building |\n",
    "| FURN      | flat is furnitured or not |\n",
    "| STATUS    | occupied by owner, lessee or empty |\n",
    "| RESID     | building is in residence or not |\n",
    "| DUE       | monthly dues of the building |\n",
    "| LOAN      | flat is available for loan or not |\n",
    "| SALER     | saler of the flat is owner, real estate office or construction company |\n",
    "| EXC       | exchange is possible or not |"
   ]
  },
  {
   "cell_type": "markdown",
   "metadata": {},
   "source": [
    "## Enumerate Function\n"
   ]
  },
  {
   "cell_type": "code",
   "execution_count": 3,
   "metadata": {},
   "outputs": [],
   "source": [
    "def set_rank(feature: str, df: pl.DataFrame) -> pl.DataFrame:\n",
    "    new_name = f\"{feature} rank\"\n",
    "    if new_name not in df.columns:\n",
    "        return df.with_columns(pl.col(feature).rank(\"dense\").alias(new_name))\n",
    "    return df"
   ]
  },
  {
   "cell_type": "code",
   "execution_count": 4,
   "metadata": {},
   "outputs": [
    {
     "data": {
      "text/html": [
       "<div><style>\n",
       ".dataframe > thead > tr,\n",
       ".dataframe > tbody > tr {\n",
       "  text-align: right;\n",
       "  white-space: pre-wrap;\n",
       "}\n",
       "</style>\n",
       "<small>shape: (1, 25)</small><table border=\"1\" class=\"dataframe\"><thead><tr><th>title</th><th>Id</th><th>price</th><th>currency</th><th>loc city</th><th>loc county</th><th>loc dist</th><th>lat</th><th>lon</th><th>date</th><th>type</th><th>m2</th><th>rooms</th><th>age</th><th>floor</th><th>tfloor</th><th>heat</th><th>bath</th><th>furn</th><th>status</th><th>resid</th><th>due</th><th>loan</th><th>saler</th><th>exc</th></tr><tr><td>u32</td><td>u32</td><td>u32</td><td>u32</td><td>u32</td><td>u32</td><td>u32</td><td>u32</td><td>u32</td><td>u32</td><td>u32</td><td>u32</td><td>u32</td><td>u32</td><td>u32</td><td>u32</td><td>u32</td><td>u32</td><td>u32</td><td>u32</td><td>u32</td><td>u32</td><td>u32</td><td>u32</td><td>u32</td></tr></thead><tbody><tr><td>0</td><td>0</td><td>0</td><td>0</td><td>0</td><td>0</td><td>0</td><td>80</td><td>80</td><td>0</td><td>0</td><td>0</td><td>2</td><td>0</td><td>0</td><td>0</td><td>574</td><td>73</td><td>615</td><td>4</td><td>20</td><td>21252</td><td>675</td><td>0</td><td>0</td></tr></tbody></table></div>"
      ],
      "text/plain": [
       "shape: (1, 25)\n",
       "┌───────┬─────┬───────┬──────────┬───┬───────┬──────┬───────┬─────┐\n",
       "│ title ┆ Id  ┆ price ┆ currency ┆ … ┆ due   ┆ loan ┆ saler ┆ exc │\n",
       "│ ---   ┆ --- ┆ ---   ┆ ---      ┆   ┆ ---   ┆ ---  ┆ ---   ┆ --- │\n",
       "│ u32   ┆ u32 ┆ u32   ┆ u32      ┆   ┆ u32   ┆ u32  ┆ u32   ┆ u32 │\n",
       "╞═══════╪═════╪═══════╪══════════╪═══╪═══════╪══════╪═══════╪═════╡\n",
       "│ 0     ┆ 0   ┆ 0     ┆ 0        ┆ … ┆ 21252 ┆ 675  ┆ 0     ┆ 0   │\n",
       "└───────┴─────┴───────┴──────────┴───┴───────┴──────┴───────┴─────┘"
      ]
     },
     "execution_count": 4,
     "metadata": {},
     "output_type": "execute_result"
    }
   ],
   "source": [
    "df.null_count()"
   ]
  },
  {
   "cell_type": "code",
   "execution_count": 5,
   "metadata": {},
   "outputs": [
    {
     "data": {
      "text/html": [
       "<div><style>\n",
       ".dataframe > thead > tr,\n",
       ".dataframe > tbody > tr {\n",
       "  text-align: right;\n",
       "  white-space: pre-wrap;\n",
       "}\n",
       "</style>\n",
       "<small>shape: (9, 26)</small><table border=\"1\" class=\"dataframe\"><thead><tr><th>describe</th><th>title</th><th>Id</th><th>price</th><th>currency</th><th>loc city</th><th>loc county</th><th>loc dist</th><th>lat</th><th>lon</th><th>date</th><th>type</th><th>m2</th><th>rooms</th><th>age</th><th>floor</th><th>tfloor</th><th>heat</th><th>bath</th><th>furn</th><th>status</th><th>resid</th><th>due</th><th>loan</th><th>saler</th><th>exc</th></tr><tr><td>str</td><td>str</td><td>f64</td><td>f64</td><td>str</td><td>str</td><td>str</td><td>str</td><td>f64</td><td>f64</td><td>str</td><td>str</td><td>f64</td><td>str</td><td>str</td><td>str</td><td>str</td><td>str</td><td>str</td><td>str</td><td>str</td><td>str</td><td>f64</td><td>str</td><td>str</td><td>str</td></tr></thead><tbody><tr><td>&quot;count&quot;</td><td>&quot;33272&quot;</td><td>33272.0</td><td>33272.0</td><td>&quot;33272&quot;</td><td>&quot;33272&quot;</td><td>&quot;33272&quot;</td><td>&quot;33272&quot;</td><td>33192.0</td><td>33192.0</td><td>&quot;33272&quot;</td><td>&quot;33272&quot;</td><td>33272.0</td><td>&quot;33270&quot;</td><td>&quot;33272&quot;</td><td>&quot;33272&quot;</td><td>&quot;33272&quot;</td><td>&quot;32698&quot;</td><td>&quot;33199&quot;</td><td>&quot;32657&quot;</td><td>&quot;33268&quot;</td><td>&quot;33252&quot;</td><td>12020.0</td><td>&quot;32597&quot;</td><td>&quot;33272&quot;</td><td>&quot;33272&quot;</td></tr><tr><td>&quot;null_count&quot;</td><td>&quot;0&quot;</td><td>0.0</td><td>0.0</td><td>&quot;0&quot;</td><td>&quot;0&quot;</td><td>&quot;0&quot;</td><td>&quot;0&quot;</td><td>80.0</td><td>80.0</td><td>&quot;0&quot;</td><td>&quot;0&quot;</td><td>0.0</td><td>&quot;2&quot;</td><td>&quot;0&quot;</td><td>&quot;0&quot;</td><td>&quot;0&quot;</td><td>&quot;574&quot;</td><td>&quot;73&quot;</td><td>&quot;615&quot;</td><td>&quot;4&quot;</td><td>&quot;20&quot;</td><td>21252.0</td><td>&quot;675&quot;</td><td>&quot;0&quot;</td><td>&quot;0&quot;</td></tr><tr><td>&quot;mean&quot;</td><td>null</td><td>4.3658e8</td><td>392147.060862</td><td>null</td><td>null</td><td>null</td><td>null</td><td>39.75082</td><td>30.532574</td><td>null</td><td>null</td><td>671.963543</td><td>null</td><td>null</td><td>null</td><td>null</td><td>null</td><td>null</td><td>null</td><td>null</td><td>null</td><td>113.376705</td><td>null</td><td>null</td><td>null</td></tr><tr><td>&quot;std&quot;</td><td>null</td><td>5.5570e7</td><td>622345.248211</td><td>null</td><td>null</td><td>null</td><td>null</td><td>1.531269</td><td>3.248306</td><td>null</td><td>null</td><td>17384.054832</td><td>null</td><td>null</td><td>null</td><td>null</td><td>null</td><td>null</td><td>null</td><td>null</td><td>null</td><td>1101.26955</td><td>null</td><td>null</td><td>null</td></tr><tr><td>&quot;min&quot;</td><td>&quot;! ! ! FIRSAT D…</td><td>9.394397e6</td><td>17000.0</td><td>&quot;British Pound&quot;</td><td>&quot;Adana&quot;</td><td>&quot;Acıpayam&quot;</td><td>&quot;1 Nolu Beşirli…</td><td>36.078714</td><td>25.915707</td><td>&quot;01 Ağustos 201…</td><td>&quot;Flat&quot;</td><td>0.0</td><td>&quot;1+0 (Studio)&quot;</td><td>&quot;0&quot;</td><td>&quot;1&quot;</td><td>&quot;1&quot;</td><td>&quot;Air Conditioni…</td><td>&quot;1&quot;</td><td>&quot;False&quot;</td><td>&quot;Empty&quot;</td><td>&quot;False&quot;</td><td>0.0</td><td>&quot;False&quot;</td><td>&quot;Bank&quot;</td><td>&quot;False&quot;</td></tr><tr><td>&quot;25%&quot;</td><td>null</td><td>4.22607676e8</td><td>170000.0</td><td>null</td><td>null</td><td>null</td><td>null</td><td>38.39765</td><td>28.721244</td><td>null</td><td>null</td><td>95.0</td><td>null</td><td>null</td><td>null</td><td>null</td><td>null</td><td>null</td><td>null</td><td>null</td><td>null</td><td>15.0</td><td>null</td><td>null</td><td>null</td></tr><tr><td>&quot;50%&quot;</td><td>null</td><td>4.64277408e8</td><td>250000.0</td><td>null</td><td>null</td><td>null</td><td>null</td><td>40.433758</td><td>29.121923</td><td>null</td><td>null</td><td>120.0</td><td>null</td><td>null</td><td>null</td><td>null</td><td>null</td><td>null</td><td>null</td><td>null</td><td>null</td><td>30.0</td><td>null</td><td>null</td><td>null</td></tr><tr><td>&quot;75%&quot;</td><td>null</td><td>4.72774972e8</td><td>380000.0</td><td>null</td><td>null</td><td>null</td><td>null</td><td>41.011123</td><td>32.511549</td><td>null</td><td>null</td><td>160.0</td><td>null</td><td>null</td><td>null</td><td>null</td><td>null</td><td>null</td><td>null</td><td>null</td><td>null</td><td>90.0</td><td>null</td><td>null</td><td>null</td></tr><tr><td>&quot;max&quot;</td><td>&quot;【ＫＯÇＡＫ】&#x27;tan ⭐️…</td><td>4.77549169e8</td><td>1.4e7</td><td>&quot;US Dollar&quot;</td><td>&quot;Şırnak&quot;</td><td>&quot;Şişli&quot;</td><td>&quot;Şıralık Mah.&quot;</td><td>42.035103</td><td>44.048744</td><td>&quot;31 Temmuz 2017…</td><td>&quot;Flat&quot;</td><td>2.5e6</td><td>&quot;9+5&quot;</td><td>&quot;5-10&quot;</td><td>&quot;Villa Type&quot;</td><td>&quot;9&quot;</td><td>&quot;VRV&quot;</td><td>&quot;6+&quot;</td><td>&quot;True&quot;</td><td>&quot;Tenant&quot;</td><td>&quot;True&quot;</td><td>88000.0</td><td>&quot;True&quot;</td><td>&quot;Real Estate Of…</td><td>&quot;True.1&quot;</td></tr></tbody></table></div>"
      ],
      "text/plain": [
       "shape: (9, 26)\n",
       "┌────────────┬──────────────┬─────────────┬─────────────┬───┬────────────┬───────┬────────┬────────┐\n",
       "│ describe   ┆ title        ┆ Id          ┆ price       ┆ … ┆ due        ┆ loan  ┆ saler  ┆ exc    │\n",
       "│ ---        ┆ ---          ┆ ---         ┆ ---         ┆   ┆ ---        ┆ ---   ┆ ---    ┆ ---    │\n",
       "│ str        ┆ str          ┆ f64         ┆ f64         ┆   ┆ f64        ┆ str   ┆ str    ┆ str    │\n",
       "╞════════════╪══════════════╪═════════════╪═════════════╪═══╪════════════╪═══════╪════════╪════════╡\n",
       "│ count      ┆ 33272        ┆ 33272.0     ┆ 33272.0     ┆ … ┆ 12020.0    ┆ 32597 ┆ 33272  ┆ 33272  │\n",
       "│ null_count ┆ 0            ┆ 0.0         ┆ 0.0         ┆ … ┆ 21252.0    ┆ 675   ┆ 0      ┆ 0      │\n",
       "│ mean       ┆ null         ┆ 4.3658e8    ┆ 392147.0608 ┆ … ┆ 113.376705 ┆ null  ┆ null   ┆ null   │\n",
       "│            ┆              ┆             ┆ 62          ┆   ┆            ┆       ┆        ┆        │\n",
       "│ std        ┆ null         ┆ 5.5570e7    ┆ 622345.2482 ┆ … ┆ 1101.26955 ┆ null  ┆ null   ┆ null   │\n",
       "│            ┆              ┆             ┆ 11          ┆   ┆            ┆       ┆        ┆        │\n",
       "│ min        ┆ ! ! ! FIRSAT ┆ 9.394397e6  ┆ 17000.0     ┆ … ┆ 0.0        ┆ False ┆ Bank   ┆ False  │\n",
       "│            ┆ DAİRE ! ! !  ┆             ┆             ┆   ┆            ┆       ┆        ┆        │\n",
       "│ 25%        ┆ null         ┆ 4.22607676e ┆ 170000.0    ┆ … ┆ 15.0       ┆ null  ┆ null   ┆ null   │\n",
       "│            ┆              ┆ 8           ┆             ┆   ┆            ┆       ┆        ┆        │\n",
       "│ 50%        ┆ null         ┆ 4.64277408e ┆ 250000.0    ┆ … ┆ 30.0       ┆ null  ┆ null   ┆ null   │\n",
       "│            ┆              ┆ 8           ┆             ┆   ┆            ┆       ┆        ┆        │\n",
       "│ 75%        ┆ null         ┆ 4.72774972e ┆ 380000.0    ┆ … ┆ 90.0       ┆ null  ┆ null   ┆ null   │\n",
       "│            ┆              ┆ 8           ┆             ┆   ┆            ┆       ┆        ┆        │\n",
       "│ max        ┆ 【ＫＯÇＡＫ  ┆ 4.77549169e ┆ 1.4e7       ┆ … ┆ 88000.0    ┆ True  ┆ Real   ┆ True.1 │\n",
       "│            ┆ 】'tan ⭐️Kc  ┆ 8           ┆             ┆   ┆            ┆       ┆ Estate ┆        │\n",
       "│            ┆ Lale Evleri  ┆             ┆             ┆   ┆            ┆       ┆ Office ┆        │\n",
       "│            ┆ ⭐️ …         ┆             ┆             ┆   ┆            ┆       ┆        ┆        │\n",
       "└────────────┴──────────────┴─────────────┴─────────────┴───┴────────────┴───────┴────────┴────────┘"
      ]
     },
     "execution_count": 5,
     "metadata": {},
     "output_type": "execute_result"
    }
   ],
   "source": [
    "df.describe()"
   ]
  },
  {
   "cell_type": "markdown",
   "metadata": {},
   "source": [
    "## Enumerate features ()"
   ]
  },
  {
   "cell_type": "code",
   "execution_count": 6,
   "metadata": {},
   "outputs": [
    {
     "data": {
      "text/plain": [
       "['title',\n",
       " 'Id',\n",
       " 'price',\n",
       " 'currency',\n",
       " 'loc city',\n",
       " 'loc county',\n",
       " 'loc dist',\n",
       " 'lat',\n",
       " 'lon',\n",
       " 'date',\n",
       " 'type',\n",
       " 'm2',\n",
       " 'rooms',\n",
       " 'age',\n",
       " 'floor',\n",
       " 'tfloor',\n",
       " 'heat',\n",
       " 'bath',\n",
       " 'furn',\n",
       " 'status',\n",
       " 'resid',\n",
       " 'due',\n",
       " 'loan',\n",
       " 'saler',\n",
       " 'exc']"
      ]
     },
     "execution_count": 6,
     "metadata": {},
     "output_type": "execute_result"
    }
   ],
   "source": [
    "df.columns"
   ]
  },
  {
   "cell_type": "markdown",
   "metadata": {},
   "source": [
    "## Drop unnecessary Features lat - lon - type - title - id - due and Status features from dataframe"
   ]
  },
  {
   "cell_type": "code",
   "execution_count": 7,
   "metadata": {},
   "outputs": [
    {
     "data": {
      "text/plain": [
       "['price',\n",
       " 'currency',\n",
       " 'loc city',\n",
       " 'loc county',\n",
       " 'loc dist',\n",
       " 'date',\n",
       " 'm2',\n",
       " 'rooms',\n",
       " 'age',\n",
       " 'floor',\n",
       " 'tfloor',\n",
       " 'heat',\n",
       " 'bath',\n",
       " 'furn',\n",
       " 'resid',\n",
       " 'loan',\n",
       " 'saler',\n",
       " 'exc']"
      ]
     },
     "execution_count": 7,
     "metadata": {},
     "output_type": "execute_result"
    }
   ],
   "source": [
    "df_updated = df.select(pl.col(\"*\").exclude(\"lat\", \"lon\", \"type\", \"title\", \"Id\", \"due\",\"status\", ))\n",
    "df_updated.columns"
   ]
  },
  {
   "cell_type": "markdown",
   "metadata": {},
   "source": [
    "## Merge all loc * to location column"
   ]
  },
  {
   "cell_type": "code",
   "execution_count": 8,
   "metadata": {},
   "outputs": [
    {
     "data": {
      "text/html": [
       "<div><style>\n",
       ".dataframe > thead > tr,\n",
       ".dataframe > tbody > tr {\n",
       "  text-align: right;\n",
       "  white-space: pre-wrap;\n",
       "}\n",
       "</style>\n",
       "<small>shape: (33_272, 16)</small><table border=\"1\" class=\"dataframe\"><thead><tr><th>location</th><th>price</th><th>currency</th><th>date</th><th>m2</th><th>rooms</th><th>age</th><th>floor</th><th>tfloor</th><th>heat</th><th>bath</th><th>furn</th><th>resid</th><th>loan</th><th>saler</th><th>exc</th></tr><tr><td>str</td><td>i64</td><td>str</td><td>str</td><td>i64</td><td>str</td><td>str</td><td>str</td><td>str</td><td>str</td><td>str</td><td>bool</td><td>str</td><td>bool</td><td>str</td><td>str</td></tr></thead><tbody><tr><td>&quot;İstanbul-Sanca…</td><td>225000</td><td>&quot;Turkish Lira&quot;</td><td>&quot;28 Temmuz 2016…</td><td>85</td><td>&quot;2+1&quot;</td><td>&quot;5-10&quot;</td><td>&quot;High Entrance&quot;</td><td>&quot;5&quot;</td><td>&quot;Combi&quot;</td><td>&quot;1&quot;</td><td>false</td><td>&quot;False.1&quot;</td><td>true</td><td>&quot;Owner&quot;</td><td>&quot;True.1&quot;</td></tr><tr><td>&quot;İstanbul-Üsküd…</td><td>360000</td><td>&quot;Turkish Lira&quot;</td><td>&quot;28 Temmuz 2016…</td><td>87</td><td>&quot;2+1&quot;</td><td>&quot;0&quot;</td><td>&quot;Ground Floor&quot;</td><td>&quot;9&quot;</td><td>&quot;Combi&quot;</td><td>&quot;1&quot;</td><td>false</td><td>&quot;True&quot;</td><td>true</td><td>&quot;Owner&quot;</td><td>&quot;False&quot;</td></tr><tr><td>&quot;İstanbul-Arnav…</td><td>335000</td><td>&quot;Turkish Lira&quot;</td><td>&quot;27 Temmuz 2016…</td><td>160</td><td>&quot;4+1&quot;</td><td>&quot;0&quot;</td><td>&quot;4&quot;</td><td>&quot;5&quot;</td><td>&quot;Combi&quot;</td><td>&quot;1&quot;</td><td>false</td><td>&quot;True&quot;</td><td>true</td><td>&quot;Owner&quot;</td><td>&quot;False&quot;</td></tr><tr><td>&quot;Antalya-Muratp…</td><td>235000</td><td>&quot;Turkish Lira&quot;</td><td>&quot;28 Temmuz 2016…</td><td>165</td><td>&quot;4+1&quot;</td><td>&quot;5-10&quot;</td><td>&quot;Rise 4&quot;</td><td>&quot;4&quot;</td><td>&quot;Floor Calorie&quot;</td><td>&quot;2&quot;</td><td>false</td><td>&quot;False&quot;</td><td>true</td><td>&quot;Owner&quot;</td><td>&quot;True&quot;</td></tr><tr><td>&quot;Manisa-Yunusem…</td><td>229000</td><td>&quot;Turkish Lira&quot;</td><td>&quot;28 Temmuz 2016…</td><td>208</td><td>&quot;5+1&quot;</td><td>&quot;0&quot;</td><td>&quot;Rise 4&quot;</td><td>&quot;5&quot;</td><td>&quot;Combi&quot;</td><td>&quot;2&quot;</td><td>false</td><td>&quot;False&quot;</td><td>true</td><td>&quot;Owner&quot;</td><td>&quot;False&quot;</td></tr><tr><td>&quot;Hatay-Belen-Fa…</td><td>300000</td><td>&quot;Turkish Lira&quot;</td><td>&quot;28 Temmuz 2016…</td><td>220</td><td>&quot;4+2&quot;</td><td>&quot;0&quot;</td><td>&quot;6&quot;</td><td>&quot;6&quot;</td><td>&quot;Combi&quot;</td><td>&quot;2&quot;</td><td>false</td><td>&quot;True&quot;</td><td>true</td><td>&quot;Owner&quot;</td><td>&quot;False&quot;</td></tr><tr><td>&quot;Ankara-Çankaya…</td><td>370000</td><td>&quot;Turkish Lira&quot;</td><td>&quot;28 Temmuz 2016…</td><td>100</td><td>&quot;3+1&quot;</td><td>&quot;21-25&quot;</td><td>&quot;3&quot;</td><td>&quot;3&quot;</td><td>&quot;Combi&quot;</td><td>&quot;1&quot;</td><td>false</td><td>&quot;False&quot;</td><td>true</td><td>&quot;Owner&quot;</td><td>&quot;False&quot;</td></tr><tr><td>&quot;Nevşehir-Merke…</td><td>315000</td><td>&quot;Turkish Lira&quot;</td><td>&quot;28 Temmuz 2016…</td><td>276</td><td>&quot;5+2&quot;</td><td>&quot;0&quot;</td><td>&quot;Rise 4&quot;</td><td>&quot;4&quot;</td><td>&quot;Combi&quot;</td><td>&quot;4&quot;</td><td>false</td><td>&quot;True&quot;</td><td>false</td><td>&quot;Owner&quot;</td><td>&quot;True&quot;</td></tr><tr><td>&quot;İstanbul-Eseny…</td><td>1650000</td><td>&quot;Turkish Lira&quot;</td><td>&quot;28 Temmuz 2016…</td><td>210</td><td>&quot;4+1&quot;</td><td>&quot;0&quot;</td><td>&quot;22&quot;</td><td>&quot;30+&quot;</td><td>&quot;Central&quot;</td><td>&quot;3&quot;</td><td>false</td><td>&quot;True&quot;</td><td>false</td><td>&quot;Owner&quot;</td><td>&quot;False&quot;</td></tr><tr><td>&quot;Aydın-Didim-Ça…</td><td>220000</td><td>&quot;Turkish Lira&quot;</td><td>&quot;28 Temmuz 2016…</td><td>80</td><td>&quot;2+1&quot;</td><td>&quot;3&quot;</td><td>&quot;2&quot;</td><td>&quot;3&quot;</td><td>&quot;Air Conditioni…</td><td>&quot;1&quot;</td><td>true</td><td>&quot;False&quot;</td><td>null</td><td>&quot;Owner&quot;</td><td>&quot;False&quot;</td></tr><tr><td>&quot;İstanbul-Eseny…</td><td>350000</td><td>&quot;Turkish Lira&quot;</td><td>&quot;28 Temmuz 2016…</td><td>125</td><td>&quot;2+1&quot;</td><td>&quot;0&quot;</td><td>&quot;2&quot;</td><td>&quot;25&quot;</td><td>&quot;Combi&quot;</td><td>&quot;2&quot;</td><td>false</td><td>&quot;True&quot;</td><td>true</td><td>&quot;Owner&quot;</td><td>&quot;True&quot;</td></tr><tr><td>&quot;İstanbul-Pendi…</td><td>265000</td><td>&quot;Turkish Lira&quot;</td><td>&quot;28 Temmuz 2016…</td><td>94</td><td>&quot;2+1&quot;</td><td>&quot;5-10&quot;</td><td>&quot;4&quot;</td><td>&quot;5&quot;</td><td>&quot;Combi&quot;</td><td>&quot;1&quot;</td><td>false</td><td>&quot;False&quot;</td><td>true</td><td>&quot;Owner&quot;</td><td>&quot;False&quot;</td></tr><tr><td>&hellip;</td><td>&hellip;</td><td>&hellip;</td><td>&hellip;</td><td>&hellip;</td><td>&hellip;</td><td>&hellip;</td><td>&hellip;</td><td>&hellip;</td><td>&hellip;</td><td>&hellip;</td><td>&hellip;</td><td>&hellip;</td><td>&hellip;</td><td>&hellip;</td><td>&hellip;</td></tr><tr><td>&quot;Konya-Karatay-…</td><td>195000</td><td>&quot;Turkish Lira&quot;</td><td>&quot;2017-09-03&quot;</td><td>155</td><td>&quot;3+1&quot;</td><td>&quot;0&quot;</td><td>&quot;1&quot;</td><td>&quot;5&quot;</td><td>&quot;Combi&quot;</td><td>&quot;1&quot;</td><td>false</td><td>&quot;True&quot;</td><td>true</td><td>&quot;Real Estate Of…</td><td>&quot;False&quot;</td></tr><tr><td>&quot;Aydın-İncirlio…</td><td>260000</td><td>&quot;Turkish Lira&quot;</td><td>&quot;2017-09-03&quot;</td><td>260</td><td>&quot;6+1&quot;</td><td>&quot;0&quot;</td><td>&quot;3&quot;</td><td>&quot;3&quot;</td><td>&quot;Central&quot;</td><td>&quot;3&quot;</td><td>false</td><td>&quot;False&quot;</td><td>true</td><td>&quot;Construction C…</td><td>&quot;False&quot;</td></tr><tr><td>&quot;Mersin-Mezitli…</td><td>219000</td><td>&quot;Turkish Lira&quot;</td><td>&quot;2017-09-03&quot;</td><td>195</td><td>&quot;3+1&quot;</td><td>&quot;4&quot;</td><td>&quot;4&quot;</td><td>&quot;5&quot;</td><td>&quot;Air Conditioni…</td><td>&quot;1&quot;</td><td>false</td><td>&quot;False&quot;</td><td>true</td><td>&quot;Real Estate Of…</td><td>&quot;False&quot;</td></tr><tr><td>&quot;Diyarbakır-Kay…</td><td>245000</td><td>&quot;Turkish Lira&quot;</td><td>&quot;2017-09-03&quot;</td><td>255</td><td>&quot;4+1&quot;</td><td>&quot;4&quot;</td><td>&quot;4&quot;</td><td>&quot;11&quot;</td><td>&quot;Combi&quot;</td><td>&quot;2&quot;</td><td>false</td><td>&quot;True&quot;</td><td>true</td><td>&quot;Real Estate Of…</td><td>&quot;False&quot;</td></tr><tr><td>&quot;Ankara-Çankaya…</td><td>319999</td><td>&quot;Turkish Lira&quot;</td><td>&quot;2017-09-03&quot;</td><td>120</td><td>&quot;3+1&quot;</td><td>&quot;16-20&quot;</td><td>&quot;2&quot;</td><td>&quot;2&quot;</td><td>&quot;Combi&quot;</td><td>&quot;1&quot;</td><td>false</td><td>&quot;False&quot;</td><td>true</td><td>&quot;Real Estate Of…</td><td>&quot;False&quot;</td></tr><tr><td>&quot;Ankara-Çankaya…</td><td>795000</td><td>&quot;Turkish Lira&quot;</td><td>&quot;2017-09-03&quot;</td><td>245</td><td>&quot;4+1&quot;</td><td>&quot;3&quot;</td><td>&quot;1&quot;</td><td>&quot;5&quot;</td><td>&quot;Combi&quot;</td><td>&quot;2&quot;</td><td>false</td><td>&quot;True&quot;</td><td>true</td><td>&quot;Real Estate Of…</td><td>&quot;False&quot;</td></tr><tr><td>&quot;Ankara-Etimesg…</td><td>169000</td><td>&quot;Turkish Lira&quot;</td><td>&quot;2017-09-03&quot;</td><td>180</td><td>&quot;5+1&quot;</td><td>&quot;11-15&quot;</td><td>&quot;3&quot;</td><td>&quot;3&quot;</td><td>&quot;Combi&quot;</td><td>&quot;2&quot;</td><td>false</td><td>&quot;False&quot;</td><td>true</td><td>&quot;Real Estate Of…</td><td>&quot;False&quot;</td></tr><tr><td>&quot;İstanbul-Bahçe…</td><td>360000</td><td>&quot;Turkish Lira&quot;</td><td>&quot;2017-09-03&quot;</td><td>80</td><td>&quot;2+1&quot;</td><td>&quot;0&quot;</td><td>&quot;2&quot;</td><td>&quot;5&quot;</td><td>&quot;Combi&quot;</td><td>&quot;1&quot;</td><td>false</td><td>&quot;False&quot;</td><td>true</td><td>&quot;Real Estate Of…</td><td>&quot;False&quot;</td></tr><tr><td>&quot;Kayseri-Talas-…</td><td>475000</td><td>&quot;Turkish Lira&quot;</td><td>&quot;2017-09-03&quot;</td><td>180</td><td>&quot;3+1&quot;</td><td>&quot;4&quot;</td><td>&quot;13&quot;</td><td>&quot;14&quot;</td><td>&quot;Central&quot;</td><td>&quot;2&quot;</td><td>false</td><td>&quot;True&quot;</td><td>true</td><td>&quot;Owner&quot;</td><td>&quot;False&quot;</td></tr><tr><td>&quot;Ankara-Mamak-K…</td><td>375000</td><td>&quot;Turkish Lira&quot;</td><td>&quot;2017-09-03&quot;</td><td>280</td><td>&quot;6+1&quot;</td><td>&quot;5-10&quot;</td><td>&quot;6&quot;</td><td>&quot;6&quot;</td><td>&quot;Combi&quot;</td><td>&quot;2&quot;</td><td>false</td><td>&quot;False&quot;</td><td>false</td><td>&quot;Real Estate Of…</td><td>&quot;False&quot;</td></tr><tr><td>&quot;İstanbul-Bahçe…</td><td>289000</td><td>&quot;Turkish Lira&quot;</td><td>&quot;2017-09-03&quot;</td><td>88</td><td>&quot;2+1&quot;</td><td>&quot;0&quot;</td><td>&quot;1&quot;</td><td>&quot;5&quot;</td><td>&quot;Combi&quot;</td><td>&quot;1&quot;</td><td>false</td><td>&quot;False&quot;</td><td>true</td><td>&quot;Real Estate Of…</td><td>&quot;False&quot;</td></tr><tr><td>&quot;İstanbul-Üsküd…</td><td>320000</td><td>&quot;Turkish Lira&quot;</td><td>&quot;2017-09-03&quot;</td><td>85</td><td>&quot;2+1&quot;</td><td>&quot;5-10&quot;</td><td>&quot;Ground Floor&quot;</td><td>&quot;5&quot;</td><td>&quot;Combi&quot;</td><td>&quot;1&quot;</td><td>false</td><td>&quot;False&quot;</td><td>false</td><td>&quot;Real Estate Of…</td><td>&quot;False&quot;</td></tr></tbody></table></div>"
      ],
      "text/plain": [
       "shape: (33_272, 16)\n",
       "┌────────────────────┬────────┬──────────┬────────────┬───┬─────────┬───────┬─────────────┬────────┐\n",
       "│ location           ┆ price  ┆ currency ┆ date       ┆ … ┆ resid   ┆ loan  ┆ saler       ┆ exc    │\n",
       "│ ---                ┆ ---    ┆ ---      ┆ ---        ┆   ┆ ---     ┆ ---   ┆ ---         ┆ ---    │\n",
       "│ str                ┆ i64    ┆ str      ┆ str        ┆   ┆ str     ┆ bool  ┆ str         ┆ str    │\n",
       "╞════════════════════╪════════╪══════════╪════════════╪═══╪═════════╪═══════╪═════════════╪════════╡\n",
       "│ İstanbul-Sancaktep ┆ 225000 ┆ Turkish  ┆ 28 Temmuz  ┆ … ┆ False.1 ┆ true  ┆ Owner       ┆ True.1 │\n",
       "│ e-Sarıgazi Mah…    ┆        ┆ Lira     ┆ 2016       ┆   ┆         ┆       ┆             ┆        │\n",
       "│ İstanbul-Üsküdar-Ü ┆ 360000 ┆ Turkish  ┆ 28 Temmuz  ┆ … ┆ True    ┆ true  ┆ Owner       ┆ False  │\n",
       "│ nalan Mah.         ┆        ┆ Lira     ┆ 2016       ┆   ┆         ┆       ┆             ┆        │\n",
       "│ İstanbul-Arnavutkö ┆ 335000 ┆ Turkish  ┆ 27 Temmuz  ┆ … ┆ True    ┆ true  ┆ Owner       ┆ False  │\n",
       "│ y-Hastane Mah.     ┆        ┆ Lira     ┆ 2016       ┆   ┆         ┆       ┆             ┆        │\n",
       "│ Antalya-Muratpaşa- ┆ 235000 ┆ Turkish  ┆ 28 Temmuz  ┆ … ┆ False   ┆ true  ┆ Owner       ┆ True   │\n",
       "│ Yenigün Mah.       ┆        ┆ Lira     ┆ 2016       ┆   ┆         ┆       ┆             ┆        │\n",
       "│ …                  ┆ …      ┆ …        ┆ …          ┆ … ┆ …       ┆ …     ┆ …           ┆ …      │\n",
       "│ Kayseri-Talas-Bahç ┆ 475000 ┆ Turkish  ┆ 2017-09-03 ┆ … ┆ True    ┆ true  ┆ Owner       ┆ False  │\n",
       "│ elievler Mah.      ┆        ┆ Lira     ┆            ┆   ┆         ┆       ┆             ┆        │\n",
       "│ Ankara-Mamak-Kazım ┆ 375000 ┆ Turkish  ┆ 2017-09-03 ┆ … ┆ False   ┆ false ┆ Real Estate ┆ False  │\n",
       "│ Orbay Mah.         ┆        ┆ Lira     ┆            ┆   ┆         ┆       ┆ Office      ┆        │\n",
       "│ İstanbul-Bahçeliev ┆ 289000 ┆ Turkish  ┆ 2017-09-03 ┆ … ┆ False   ┆ true  ┆ Real Estate ┆ False  │\n",
       "│ ler-Şirinevler…    ┆        ┆ Lira     ┆            ┆   ┆         ┆       ┆ Office      ┆        │\n",
       "│ İstanbul-Üsküdar-F ┆ 320000 ┆ Turkish  ┆ 2017-09-03 ┆ … ┆ False   ┆ false ┆ Real Estate ┆ False  │\n",
       "│ erah Mah.          ┆        ┆ Lira     ┆            ┆   ┆         ┆       ┆ Office      ┆        │\n",
       "└────────────────────┴────────┴──────────┴────────────┴───┴─────────┴───────┴─────────────┴────────┘"
      ]
     },
     "execution_count": 8,
     "metadata": {},
     "output_type": "execute_result"
    }
   ],
   "source": [
    "if \"loc city\" in df_updated.columns:\n",
    "    df_updated = df_updated.select(pl.struct([\"loc city\", \"loc county\", \"loc dist\"]).map_elements(lambda x: f'{x[\"loc city\"]}-{x[\"loc county\"]}-{x[\"loc dist\"]}').alias(\"location\"), pl.exclude([\"loc city\", \"loc county\", \"loc dist\"]))\n",
    "df_updated\n",
    "    "
   ]
  },
  {
   "cell_type": "code",
   "execution_count": 9,
   "metadata": {},
   "outputs": [
    {
     "data": {
      "text/html": [
       "<div><style>\n",
       ".dataframe > thead > tr,\n",
       ".dataframe > tbody > tr {\n",
       "  text-align: right;\n",
       "  white-space: pre-wrap;\n",
       "}\n",
       "</style>\n",
       "<small>shape: (4_499, 2)</small><table border=\"1\" class=\"dataframe\"><thead><tr><th>location</th><th>count</th></tr><tr><td>str</td><td>u32</td></tr></thead><tbody><tr><td>&quot;Çanakkale-Merk…</td><td>17</td></tr><tr><td>&quot;Uşak-Merkez-At…</td><td>5</td></tr><tr><td>&quot;Hatay-Belen-Sa…</td><td>2</td></tr><tr><td>&quot;Konya-Selçuklu…</td><td>22</td></tr><tr><td>&quot;Kilis-Merkez-A…</td><td>3</td></tr><tr><td>&quot;Kayseri-Pınarb…</td><td>1</td></tr><tr><td>&quot;Ankara-Etimesg…</td><td>16</td></tr><tr><td>&quot;Trabzon-Ortahi…</td><td>2</td></tr><tr><td>&quot;Antalya-Kepez-…</td><td>5</td></tr><tr><td>&quot;Düzce-Merkez-Ş…</td><td>4</td></tr><tr><td>&quot;İstanbul-Bağcı…</td><td>7</td></tr><tr><td>&quot;Antalya-Kepez-…</td><td>35</td></tr><tr><td>&hellip;</td><td>&hellip;</td></tr><tr><td>&quot;İstanbul-Küçük…</td><td>3</td></tr><tr><td>&quot;Ankara-Çankaya…</td><td>6</td></tr><tr><td>&quot;Adana-Sarıçam-…</td><td>16</td></tr><tr><td>&quot;Kayseri-Melikg…</td><td>1</td></tr><tr><td>&quot;Konya-Meram-Ka…</td><td>3</td></tr><tr><td>&quot;Trabzon-Ortahi…</td><td>2</td></tr><tr><td>&quot;Kahramanmaraş-…</td><td>6</td></tr><tr><td>&quot;Mersin-Yenişeh…</td><td>7</td></tr><tr><td>&quot;Tokat-Merkez-K…</td><td>2</td></tr><tr><td>&quot;Antalya-Kepez-…</td><td>20</td></tr><tr><td>&quot;Kayseri-Kocasi…</td><td>1</td></tr><tr><td>&quot;İzmir-Bornova-…</td><td>2</td></tr></tbody></table></div>"
      ],
      "text/plain": [
       "shape: (4_499, 2)\n",
       "┌──────────────────────────────────┬───────┐\n",
       "│ location                         ┆ count │\n",
       "│ ---                              ┆ ---   │\n",
       "│ str                              ┆ u32   │\n",
       "╞══════════════════════════════════╪═══════╡\n",
       "│ Çanakkale-Merkez-Cevat Paşa Mah. ┆ 17    │\n",
       "│ Uşak-Merkez-Atatürk Mah.         ┆ 5     │\n",
       "│ Hatay-Belen-Sarımazı Mah.        ┆ 2     │\n",
       "│ Konya-Selçuklu-Kosova            ┆ 22    │\n",
       "│ …                                ┆ …     │\n",
       "│ Tokat-Merkez-Kümbet Mah.         ┆ 2     │\n",
       "│ Antalya-Kepez-Gündoğdu Mah.      ┆ 20    │\n",
       "│ Kayseri-Kocasinan-Yavuz Mah.     ┆ 1     │\n",
       "│ İzmir-Bornova-Meriç Mah.         ┆ 2     │\n",
       "└──────────────────────────────────┴───────┘"
      ]
     },
     "execution_count": 9,
     "metadata": {},
     "output_type": "execute_result"
    }
   ],
   "source": [
    "df_updated.group_by(\"location\").count()"
   ]
  },
  {
   "cell_type": "markdown",
   "metadata": {},
   "source": [
    "\n",
    "## Eliminate currency feature \n"
   ]
  },
  {
   "cell_type": "code",
   "execution_count": 10,
   "metadata": {},
   "outputs": [
    {
     "data": {
      "text/html": [
       "<div><style>\n",
       ".dataframe > thead > tr,\n",
       ".dataframe > tbody > tr {\n",
       "  text-align: right;\n",
       "  white-space: pre-wrap;\n",
       "}\n",
       "</style>\n",
       "<small>shape: (4, 2)</small><table border=\"1\" class=\"dataframe\"><thead><tr><th>currency</th><th>count</th></tr><tr><td>str</td><td>u32</td></tr></thead><tbody><tr><td>&quot;Turkish Lira&quot;</td><td>32004</td></tr><tr><td>&quot;Euro&quot;</td><td>167</td></tr><tr><td>&quot;US Dollar&quot;</td><td>1076</td></tr><tr><td>&quot;British Pound&quot;</td><td>25</td></tr></tbody></table></div>"
      ],
      "text/plain": [
       "shape: (4, 2)\n",
       "┌───────────────┬───────┐\n",
       "│ currency      ┆ count │\n",
       "│ ---           ┆ ---   │\n",
       "│ str           ┆ u32   │\n",
       "╞═══════════════╪═══════╡\n",
       "│ Turkish Lira  ┆ 32004 │\n",
       "│ Euro          ┆ 167   │\n",
       "│ US Dollar     ┆ 1076  │\n",
       "│ British Pound ┆ 25    │\n",
       "└───────────────┴───────┘"
      ]
     },
     "execution_count": 10,
     "metadata": {},
     "output_type": "execute_result"
    }
   ],
   "source": [
    "df_updated.group_by(\"currency\").count()"
   ]
  },
  {
   "cell_type": "code",
   "execution_count": 11,
   "metadata": {},
   "outputs": [],
   "source": [
    "# 02.01.2017 Günü Saat 15:30'da Belirlenen Gösterge Niteliğindeki Türkiye Cumhuriyet Merkez Bankası Kurları\n",
    "# https://www.tcmb.gov.tr/kurlar/kurlar_tr.html\n",
    "\n",
    "dolar_buy = 3.5338\n",
    "dolar_sell = 3.5402\n",
    "dolar = (dolar_buy + dolar_sell) / 2\n",
    "\n",
    "euro_buy = 3.7086\n",
    "euro_sell = 3.7153\n",
    "euro = (euro_buy + euro_sell) / 2\n",
    "\n",
    "brit_buy = 4.3488\n",
    "brit_sell = 4.3715\n",
    "brit = (brit_buy + brit_sell) / 2\n",
    "\n",
    "\n",
    "currency_dict = {\"Euro\": euro, \"US Dollar\": dolar, \"British Pound\": brit, \"Turkish Lira\": 1.0}"
   ]
  },
  {
   "cell_type": "code",
   "execution_count": 12,
   "metadata": {},
   "outputs": [
    {
     "data": {
      "text/html": [
       "<div><style>\n",
       ".dataframe > thead > tr,\n",
       ".dataframe > tbody > tr {\n",
       "  text-align: right;\n",
       "  white-space: pre-wrap;\n",
       "}\n",
       "</style>\n",
       "<small>shape: (33_272, 15)</small><table border=\"1\" class=\"dataframe\"><thead><tr><th>price_tr</th><th>location</th><th>date</th><th>m2</th><th>rooms</th><th>age</th><th>floor</th><th>tfloor</th><th>heat</th><th>bath</th><th>furn</th><th>resid</th><th>loan</th><th>saler</th><th>exc</th></tr><tr><td>f64</td><td>str</td><td>str</td><td>i64</td><td>str</td><td>str</td><td>str</td><td>str</td><td>str</td><td>str</td><td>bool</td><td>str</td><td>bool</td><td>str</td><td>str</td></tr></thead><tbody><tr><td>225000.0</td><td>&quot;İstanbul-Sanca…</td><td>&quot;28 Temmuz 2016…</td><td>85</td><td>&quot;2+1&quot;</td><td>&quot;5-10&quot;</td><td>&quot;High Entrance&quot;</td><td>&quot;5&quot;</td><td>&quot;Combi&quot;</td><td>&quot;1&quot;</td><td>false</td><td>&quot;False.1&quot;</td><td>true</td><td>&quot;Owner&quot;</td><td>&quot;True.1&quot;</td></tr><tr><td>360000.0</td><td>&quot;İstanbul-Üsküd…</td><td>&quot;28 Temmuz 2016…</td><td>87</td><td>&quot;2+1&quot;</td><td>&quot;0&quot;</td><td>&quot;Ground Floor&quot;</td><td>&quot;9&quot;</td><td>&quot;Combi&quot;</td><td>&quot;1&quot;</td><td>false</td><td>&quot;True&quot;</td><td>true</td><td>&quot;Owner&quot;</td><td>&quot;False&quot;</td></tr><tr><td>335000.0</td><td>&quot;İstanbul-Arnav…</td><td>&quot;27 Temmuz 2016…</td><td>160</td><td>&quot;4+1&quot;</td><td>&quot;0&quot;</td><td>&quot;4&quot;</td><td>&quot;5&quot;</td><td>&quot;Combi&quot;</td><td>&quot;1&quot;</td><td>false</td><td>&quot;True&quot;</td><td>true</td><td>&quot;Owner&quot;</td><td>&quot;False&quot;</td></tr><tr><td>235000.0</td><td>&quot;Antalya-Muratp…</td><td>&quot;28 Temmuz 2016…</td><td>165</td><td>&quot;4+1&quot;</td><td>&quot;5-10&quot;</td><td>&quot;Rise 4&quot;</td><td>&quot;4&quot;</td><td>&quot;Floor Calorie&quot;</td><td>&quot;2&quot;</td><td>false</td><td>&quot;False&quot;</td><td>true</td><td>&quot;Owner&quot;</td><td>&quot;True&quot;</td></tr><tr><td>229000.0</td><td>&quot;Manisa-Yunusem…</td><td>&quot;28 Temmuz 2016…</td><td>208</td><td>&quot;5+1&quot;</td><td>&quot;0&quot;</td><td>&quot;Rise 4&quot;</td><td>&quot;5&quot;</td><td>&quot;Combi&quot;</td><td>&quot;2&quot;</td><td>false</td><td>&quot;False&quot;</td><td>true</td><td>&quot;Owner&quot;</td><td>&quot;False&quot;</td></tr><tr><td>300000.0</td><td>&quot;Hatay-Belen-Fa…</td><td>&quot;28 Temmuz 2016…</td><td>220</td><td>&quot;4+2&quot;</td><td>&quot;0&quot;</td><td>&quot;6&quot;</td><td>&quot;6&quot;</td><td>&quot;Combi&quot;</td><td>&quot;2&quot;</td><td>false</td><td>&quot;True&quot;</td><td>true</td><td>&quot;Owner&quot;</td><td>&quot;False&quot;</td></tr><tr><td>370000.0</td><td>&quot;Ankara-Çankaya…</td><td>&quot;28 Temmuz 2016…</td><td>100</td><td>&quot;3+1&quot;</td><td>&quot;21-25&quot;</td><td>&quot;3&quot;</td><td>&quot;3&quot;</td><td>&quot;Combi&quot;</td><td>&quot;1&quot;</td><td>false</td><td>&quot;False&quot;</td><td>true</td><td>&quot;Owner&quot;</td><td>&quot;False&quot;</td></tr><tr><td>315000.0</td><td>&quot;Nevşehir-Merke…</td><td>&quot;28 Temmuz 2016…</td><td>276</td><td>&quot;5+2&quot;</td><td>&quot;0&quot;</td><td>&quot;Rise 4&quot;</td><td>&quot;4&quot;</td><td>&quot;Combi&quot;</td><td>&quot;4&quot;</td><td>false</td><td>&quot;True&quot;</td><td>false</td><td>&quot;Owner&quot;</td><td>&quot;True&quot;</td></tr><tr><td>1.65e6</td><td>&quot;İstanbul-Eseny…</td><td>&quot;28 Temmuz 2016…</td><td>210</td><td>&quot;4+1&quot;</td><td>&quot;0&quot;</td><td>&quot;22&quot;</td><td>&quot;30+&quot;</td><td>&quot;Central&quot;</td><td>&quot;3&quot;</td><td>false</td><td>&quot;True&quot;</td><td>false</td><td>&quot;Owner&quot;</td><td>&quot;False&quot;</td></tr><tr><td>220000.0</td><td>&quot;Aydın-Didim-Ça…</td><td>&quot;28 Temmuz 2016…</td><td>80</td><td>&quot;2+1&quot;</td><td>&quot;3&quot;</td><td>&quot;2&quot;</td><td>&quot;3&quot;</td><td>&quot;Air Conditioni…</td><td>&quot;1&quot;</td><td>true</td><td>&quot;False&quot;</td><td>null</td><td>&quot;Owner&quot;</td><td>&quot;False&quot;</td></tr><tr><td>350000.0</td><td>&quot;İstanbul-Eseny…</td><td>&quot;28 Temmuz 2016…</td><td>125</td><td>&quot;2+1&quot;</td><td>&quot;0&quot;</td><td>&quot;2&quot;</td><td>&quot;25&quot;</td><td>&quot;Combi&quot;</td><td>&quot;2&quot;</td><td>false</td><td>&quot;True&quot;</td><td>true</td><td>&quot;Owner&quot;</td><td>&quot;True&quot;</td></tr><tr><td>265000.0</td><td>&quot;İstanbul-Pendi…</td><td>&quot;28 Temmuz 2016…</td><td>94</td><td>&quot;2+1&quot;</td><td>&quot;5-10&quot;</td><td>&quot;4&quot;</td><td>&quot;5&quot;</td><td>&quot;Combi&quot;</td><td>&quot;1&quot;</td><td>false</td><td>&quot;False&quot;</td><td>true</td><td>&quot;Owner&quot;</td><td>&quot;False&quot;</td></tr><tr><td>&hellip;</td><td>&hellip;</td><td>&hellip;</td><td>&hellip;</td><td>&hellip;</td><td>&hellip;</td><td>&hellip;</td><td>&hellip;</td><td>&hellip;</td><td>&hellip;</td><td>&hellip;</td><td>&hellip;</td><td>&hellip;</td><td>&hellip;</td><td>&hellip;</td></tr><tr><td>195000.0</td><td>&quot;Konya-Karatay-…</td><td>&quot;2017-09-03&quot;</td><td>155</td><td>&quot;3+1&quot;</td><td>&quot;0&quot;</td><td>&quot;1&quot;</td><td>&quot;5&quot;</td><td>&quot;Combi&quot;</td><td>&quot;1&quot;</td><td>false</td><td>&quot;True&quot;</td><td>true</td><td>&quot;Real Estate Of…</td><td>&quot;False&quot;</td></tr><tr><td>260000.0</td><td>&quot;Aydın-İncirlio…</td><td>&quot;2017-09-03&quot;</td><td>260</td><td>&quot;6+1&quot;</td><td>&quot;0&quot;</td><td>&quot;3&quot;</td><td>&quot;3&quot;</td><td>&quot;Central&quot;</td><td>&quot;3&quot;</td><td>false</td><td>&quot;False&quot;</td><td>true</td><td>&quot;Construction C…</td><td>&quot;False&quot;</td></tr><tr><td>219000.0</td><td>&quot;Mersin-Mezitli…</td><td>&quot;2017-09-03&quot;</td><td>195</td><td>&quot;3+1&quot;</td><td>&quot;4&quot;</td><td>&quot;4&quot;</td><td>&quot;5&quot;</td><td>&quot;Air Conditioni…</td><td>&quot;1&quot;</td><td>false</td><td>&quot;False&quot;</td><td>true</td><td>&quot;Real Estate Of…</td><td>&quot;False&quot;</td></tr><tr><td>245000.0</td><td>&quot;Diyarbakır-Kay…</td><td>&quot;2017-09-03&quot;</td><td>255</td><td>&quot;4+1&quot;</td><td>&quot;4&quot;</td><td>&quot;4&quot;</td><td>&quot;11&quot;</td><td>&quot;Combi&quot;</td><td>&quot;2&quot;</td><td>false</td><td>&quot;True&quot;</td><td>true</td><td>&quot;Real Estate Of…</td><td>&quot;False&quot;</td></tr><tr><td>319999.0</td><td>&quot;Ankara-Çankaya…</td><td>&quot;2017-09-03&quot;</td><td>120</td><td>&quot;3+1&quot;</td><td>&quot;16-20&quot;</td><td>&quot;2&quot;</td><td>&quot;2&quot;</td><td>&quot;Combi&quot;</td><td>&quot;1&quot;</td><td>false</td><td>&quot;False&quot;</td><td>true</td><td>&quot;Real Estate Of…</td><td>&quot;False&quot;</td></tr><tr><td>795000.0</td><td>&quot;Ankara-Çankaya…</td><td>&quot;2017-09-03&quot;</td><td>245</td><td>&quot;4+1&quot;</td><td>&quot;3&quot;</td><td>&quot;1&quot;</td><td>&quot;5&quot;</td><td>&quot;Combi&quot;</td><td>&quot;2&quot;</td><td>false</td><td>&quot;True&quot;</td><td>true</td><td>&quot;Real Estate Of…</td><td>&quot;False&quot;</td></tr><tr><td>169000.0</td><td>&quot;Ankara-Etimesg…</td><td>&quot;2017-09-03&quot;</td><td>180</td><td>&quot;5+1&quot;</td><td>&quot;11-15&quot;</td><td>&quot;3&quot;</td><td>&quot;3&quot;</td><td>&quot;Combi&quot;</td><td>&quot;2&quot;</td><td>false</td><td>&quot;False&quot;</td><td>true</td><td>&quot;Real Estate Of…</td><td>&quot;False&quot;</td></tr><tr><td>360000.0</td><td>&quot;İstanbul-Bahçe…</td><td>&quot;2017-09-03&quot;</td><td>80</td><td>&quot;2+1&quot;</td><td>&quot;0&quot;</td><td>&quot;2&quot;</td><td>&quot;5&quot;</td><td>&quot;Combi&quot;</td><td>&quot;1&quot;</td><td>false</td><td>&quot;False&quot;</td><td>true</td><td>&quot;Real Estate Of…</td><td>&quot;False&quot;</td></tr><tr><td>475000.0</td><td>&quot;Kayseri-Talas-…</td><td>&quot;2017-09-03&quot;</td><td>180</td><td>&quot;3+1&quot;</td><td>&quot;4&quot;</td><td>&quot;13&quot;</td><td>&quot;14&quot;</td><td>&quot;Central&quot;</td><td>&quot;2&quot;</td><td>false</td><td>&quot;True&quot;</td><td>true</td><td>&quot;Owner&quot;</td><td>&quot;False&quot;</td></tr><tr><td>375000.0</td><td>&quot;Ankara-Mamak-K…</td><td>&quot;2017-09-03&quot;</td><td>280</td><td>&quot;6+1&quot;</td><td>&quot;5-10&quot;</td><td>&quot;6&quot;</td><td>&quot;6&quot;</td><td>&quot;Combi&quot;</td><td>&quot;2&quot;</td><td>false</td><td>&quot;False&quot;</td><td>false</td><td>&quot;Real Estate Of…</td><td>&quot;False&quot;</td></tr><tr><td>289000.0</td><td>&quot;İstanbul-Bahçe…</td><td>&quot;2017-09-03&quot;</td><td>88</td><td>&quot;2+1&quot;</td><td>&quot;0&quot;</td><td>&quot;1&quot;</td><td>&quot;5&quot;</td><td>&quot;Combi&quot;</td><td>&quot;1&quot;</td><td>false</td><td>&quot;False&quot;</td><td>true</td><td>&quot;Real Estate Of…</td><td>&quot;False&quot;</td></tr><tr><td>320000.0</td><td>&quot;İstanbul-Üsküd…</td><td>&quot;2017-09-03&quot;</td><td>85</td><td>&quot;2+1&quot;</td><td>&quot;5-10&quot;</td><td>&quot;Ground Floor&quot;</td><td>&quot;5&quot;</td><td>&quot;Combi&quot;</td><td>&quot;1&quot;</td><td>false</td><td>&quot;False&quot;</td><td>false</td><td>&quot;Real Estate Of…</td><td>&quot;False&quot;</td></tr></tbody></table></div>"
      ],
      "text/plain": [
       "shape: (33_272, 15)\n",
       "┌──────────┬───────────────────┬────────────────┬─────┬───┬─────────┬───────┬─────────────┬────────┐\n",
       "│ price_tr ┆ location          ┆ date           ┆ m2  ┆ … ┆ resid   ┆ loan  ┆ saler       ┆ exc    │\n",
       "│ ---      ┆ ---               ┆ ---            ┆ --- ┆   ┆ ---     ┆ ---   ┆ ---         ┆ ---    │\n",
       "│ f64      ┆ str               ┆ str            ┆ i64 ┆   ┆ str     ┆ bool  ┆ str         ┆ str    │\n",
       "╞══════════╪═══════════════════╪════════════════╪═════╪═══╪═════════╪═══════╪═════════════╪════════╡\n",
       "│ 225000.0 ┆ İstanbul-Sancakte ┆ 28 Temmuz 2016 ┆ 85  ┆ … ┆ False.1 ┆ true  ┆ Owner       ┆ True.1 │\n",
       "│          ┆ pe-Sarıgazi Mah…  ┆                ┆     ┆   ┆         ┆       ┆             ┆        │\n",
       "│ 360000.0 ┆ İstanbul-Üsküdar- ┆ 28 Temmuz 2016 ┆ 87  ┆ … ┆ True    ┆ true  ┆ Owner       ┆ False  │\n",
       "│          ┆ Ünalan Mah.       ┆                ┆     ┆   ┆         ┆       ┆             ┆        │\n",
       "│ 335000.0 ┆ İstanbul-Arnavutk ┆ 27 Temmuz 2016 ┆ 160 ┆ … ┆ True    ┆ true  ┆ Owner       ┆ False  │\n",
       "│          ┆ öy-Hastane Mah.   ┆                ┆     ┆   ┆         ┆       ┆             ┆        │\n",
       "│ 235000.0 ┆ Antalya-Muratpaşa ┆ 28 Temmuz 2016 ┆ 165 ┆ … ┆ False   ┆ true  ┆ Owner       ┆ True   │\n",
       "│          ┆ -Yenigün Mah.     ┆                ┆     ┆   ┆         ┆       ┆             ┆        │\n",
       "│ …        ┆ …                 ┆ …              ┆ …   ┆ … ┆ …       ┆ …     ┆ …           ┆ …      │\n",
       "│ 475000.0 ┆ Kayseri-Talas-Bah ┆ 2017-09-03     ┆ 180 ┆ … ┆ True    ┆ true  ┆ Owner       ┆ False  │\n",
       "│          ┆ çelievler Mah.    ┆                ┆     ┆   ┆         ┆       ┆             ┆        │\n",
       "│ 375000.0 ┆ Ankara-Mamak-Kazı ┆ 2017-09-03     ┆ 280 ┆ … ┆ False   ┆ false ┆ Real Estate ┆ False  │\n",
       "│          ┆ m Orbay Mah.      ┆                ┆     ┆   ┆         ┆       ┆ Office      ┆        │\n",
       "│ 289000.0 ┆ İstanbul-Bahçelie ┆ 2017-09-03     ┆ 88  ┆ … ┆ False   ┆ true  ┆ Real Estate ┆ False  │\n",
       "│          ┆ vler-Şirinevler…  ┆                ┆     ┆   ┆         ┆       ┆ Office      ┆        │\n",
       "│ 320000.0 ┆ İstanbul-Üsküdar- ┆ 2017-09-03     ┆ 85  ┆ … ┆ False   ┆ false ┆ Real Estate ┆ False  │\n",
       "│          ┆ Ferah Mah.        ┆                ┆     ┆   ┆         ┆       ┆ Office      ┆        │\n",
       "└──────────┴───────────────────┴────────────────┴─────┴───┴─────────┴───────┴─────────────┴────────┘"
      ]
     },
     "execution_count": 12,
     "metadata": {},
     "output_type": "execute_result"
    }
   ],
   "source": [
    "# update currency column\n",
    "if \"currency\" in df_updated.columns: \n",
    "    df_updated = df_updated.select(pl.struct([\"currency\", \"price\"]).map_elements(lambda x: currency_dict[x[\"currency\"]] * x[\"price\"]).alias(\"price_tr\"), pl.col(\"*\").exclude(\"currency\", \"price\"))\n",
    "df_updated"
   ]
  },
  {
   "cell_type": "code",
   "execution_count": 13,
   "metadata": {},
   "outputs": [
    {
     "data": {
      "text/html": [
       "<div><style>\n",
       ".dataframe > thead > tr,\n",
       ".dataframe > tbody > tr {\n",
       "  text-align: right;\n",
       "  white-space: pre-wrap;\n",
       "}\n",
       "</style>\n",
       "<small>shape: (10, 15)</small><table border=\"1\" class=\"dataframe\"><thead><tr><th>price_tr</th><th>location</th><th>date</th><th>m2</th><th>rooms</th><th>age</th><th>floor</th><th>tfloor</th><th>heat</th><th>bath</th><th>furn</th><th>resid</th><th>loan</th><th>saler</th><th>exc</th></tr><tr><td>f64</td><td>str</td><td>str</td><td>i64</td><td>str</td><td>str</td><td>str</td><td>str</td><td>str</td><td>str</td><td>bool</td><td>str</td><td>bool</td><td>str</td><td>str</td></tr></thead><tbody><tr><td>255000.0</td><td>&quot;İstanbul-Malte…</td><td>&quot;2017-09-03&quot;</td><td>90</td><td>&quot;2+1&quot;</td><td>&quot;0&quot;</td><td>&quot;High Entrance&quot;</td><td>&quot;4&quot;</td><td>&quot;Combi&quot;</td><td>&quot;1&quot;</td><td>false</td><td>&quot;False&quot;</td><td>true</td><td>&quot;Real Estate Of…</td><td>&quot;False&quot;</td></tr><tr><td>175000.0</td><td>&quot;Manisa-Yunusem…</td><td>&quot;2017-08-28&quot;</td><td>75</td><td>&quot;1+1&quot;</td><td>&quot;0&quot;</td><td>&quot;3&quot;</td><td>&quot;3&quot;</td><td>&quot;Combi&quot;</td><td>&quot;1&quot;</td><td>false</td><td>&quot;True&quot;</td><td>true</td><td>&quot;Real Estate Of…</td><td>&quot;False&quot;</td></tr><tr><td>200000.0</td><td>&quot;İstanbul-Bahçe…</td><td>&quot;2017-08-28&quot;</td><td>85</td><td>&quot;2+1&quot;</td><td>&quot;5-10&quot;</td><td>&quot;High Entrance&quot;</td><td>&quot;5&quot;</td><td>&quot;Combi&quot;</td><td>&quot;1&quot;</td><td>false</td><td>&quot;False&quot;</td><td>true</td><td>&quot;Real Estate Of…</td><td>&quot;False&quot;</td></tr><tr><td>135000.0</td><td>&quot;Şanlıurfa-Hali…</td><td>&quot;2017-08-23&quot;</td><td>170</td><td>&quot;3+1&quot;</td><td>&quot;2&quot;</td><td>&quot;Rise 1&quot;</td><td>&quot;1&quot;</td><td>&quot;Stove&quot;</td><td>&quot;1&quot;</td><td>false</td><td>&quot;False&quot;</td><td>true</td><td>&quot;Owner&quot;</td><td>&quot;True&quot;</td></tr><tr><td>190000.0</td><td>&quot;İstanbul-Sanca…</td><td>&quot;2017-09-03&quot;</td><td>110</td><td>&quot;3+1&quot;</td><td>&quot;0&quot;</td><td>&quot;1&quot;</td><td>&quot;5&quot;</td><td>&quot;Combi&quot;</td><td>&quot;2&quot;</td><td>false</td><td>&quot;False&quot;</td><td>true</td><td>&quot;Real Estate Of…</td><td>&quot;False&quot;</td></tr><tr><td>260000.0</td><td>&quot;İstanbul-Tuzla…</td><td>&quot;2017-08-20&quot;</td><td>85</td><td>&quot;2+1&quot;</td><td>&quot;0&quot;</td><td>&quot;4&quot;</td><td>&quot;4&quot;</td><td>&quot;Combi&quot;</td><td>&quot;1&quot;</td><td>null</td><td>&quot;False&quot;</td><td>true</td><td>&quot;Owner&quot;</td><td>&quot;False&quot;</td></tr><tr><td>140000.0</td><td>&quot;Antalya-Serik-…</td><td>&quot;2017-08-28&quot;</td><td>61</td><td>&quot;1+1&quot;</td><td>&quot;5-10&quot;</td><td>&quot;1&quot;</td><td>&quot;1&quot;</td><td>&quot;Combi&quot;</td><td>&quot;1&quot;</td><td>false</td><td>&quot;True&quot;</td><td>true</td><td>&quot;Bank&quot;</td><td>&quot;False&quot;</td></tr><tr><td>230000.0</td><td>&quot;Kocaeli-Çayıro…</td><td>&quot;2017-08-21&quot;</td><td>120</td><td>&quot;3+1&quot;</td><td>&quot;5-10&quot;</td><td>&quot;5&quot;</td><td>&quot;6&quot;</td><td>&quot;Combi&quot;</td><td>&quot;1&quot;</td><td>false</td><td>&quot;False&quot;</td><td>true</td><td>&quot;Bank&quot;</td><td>&quot;False&quot;</td></tr><tr><td>390000.0</td><td>&quot;İstanbul-Ümran…</td><td>&quot;2017-08-23&quot;</td><td>95</td><td>&quot;2+1&quot;</td><td>&quot;5-10&quot;</td><td>&quot;2&quot;</td><td>&quot;5&quot;</td><td>&quot;Combi&quot;</td><td>&quot;2&quot;</td><td>false</td><td>&quot;True&quot;</td><td>true</td><td>&quot;Real Estate Of…</td><td>&quot;True&quot;</td></tr><tr><td>257000.0</td><td>&quot;Kocaeli-Derinc…</td><td>&quot;2017-08-26&quot;</td><td>180</td><td>&quot;3+1&quot;</td><td>&quot;3&quot;</td><td>&quot;Penthouse&quot;</td><td>&quot;5&quot;</td><td>&quot;Combi&quot;</td><td>&quot;2&quot;</td><td>false</td><td>&quot;False&quot;</td><td>true</td><td>&quot;Owner&quot;</td><td>&quot;True&quot;</td></tr></tbody></table></div>"
      ],
      "text/plain": [
       "shape: (10, 15)\n",
       "┌──────────┬────────────────────┬────────────┬─────┬───┬───────┬──────┬────────────────────┬───────┐\n",
       "│ price_tr ┆ location           ┆ date       ┆ m2  ┆ … ┆ resid ┆ loan ┆ saler              ┆ exc   │\n",
       "│ ---      ┆ ---                ┆ ---        ┆ --- ┆   ┆ ---   ┆ ---  ┆ ---                ┆ ---   │\n",
       "│ f64      ┆ str                ┆ str        ┆ i64 ┆   ┆ str   ┆ bool ┆ str                ┆ str   │\n",
       "╞══════════╪════════════════════╪════════════╪═════╪═══╪═══════╪══════╪════════════════════╪═══════╡\n",
       "│ 255000.0 ┆ İstanbul-Maltepe-F ┆ 2017-09-03 ┆ 90  ┆ … ┆ False ┆ true ┆ Real Estate Office ┆ False │\n",
       "│          ┆ ındıklı Mah.       ┆            ┆     ┆   ┆       ┆      ┆                    ┆       │\n",
       "│ 175000.0 ┆ Manisa-Yunusemre-K ┆ 2017-08-28 ┆ 75  ┆ … ┆ True  ┆ true ┆ Real Estate Office ┆ False │\n",
       "│          ┆ araali Köyü        ┆            ┆     ┆   ┆       ┆      ┆                    ┆       │\n",
       "│ 200000.0 ┆ İstanbul-Bahçeliev ┆ 2017-08-28 ┆ 85  ┆ … ┆ False ┆ true ┆ Real Estate Office ┆ False │\n",
       "│          ┆ ler-Soğanlı Ma…    ┆            ┆     ┆   ┆       ┆      ┆                    ┆       │\n",
       "│ 135000.0 ┆ Şanlıurfa-Haliliye ┆ 2017-08-23 ┆ 170 ┆ … ┆ False ┆ true ┆ Owner              ┆ True  │\n",
       "│          ┆ -Ahmet Yesevi …    ┆            ┆     ┆   ┆       ┆      ┆                    ┆       │\n",
       "│ …        ┆ …                  ┆ …          ┆ …   ┆ … ┆ …     ┆ …    ┆ …                  ┆ …     │\n",
       "│ 140000.0 ┆ Antalya-Serik-Bele ┆ 2017-08-28 ┆ 61  ┆ … ┆ True  ┆ true ┆ Bank               ┆ False │\n",
       "│          ┆ k Bld.             ┆            ┆     ┆   ┆       ┆      ┆                    ┆       │\n",
       "│ 230000.0 ┆ Kocaeli-Çayırova-A ┆ 2017-08-21 ┆ 120 ┆ … ┆ False ┆ true ┆ Bank               ┆ False │\n",
       "│          ┆ kse Mah.           ┆            ┆     ┆   ┆       ┆      ┆                    ┆       │\n",
       "│ 390000.0 ┆ İstanbul-Ümraniye- ┆ 2017-08-23 ┆ 95  ┆ … ┆ True  ┆ true ┆ Real Estate Office ┆ True  │\n",
       "│          ┆ İnkılap Mah.       ┆            ┆     ┆   ┆       ┆      ┆                    ┆       │\n",
       "│ 257000.0 ┆ Kocaeli-Derince-Ya ┆ 2017-08-26 ┆ 180 ┆ … ┆ False ┆ true ┆ Owner              ┆ True  │\n",
       "│          ┆ vuz Sultan Mah…    ┆            ┆     ┆   ┆       ┆      ┆                    ┆       │\n",
       "└──────────┴────────────────────┴────────────┴─────┴───┴───────┴──────┴────────────────────┴───────┘"
      ]
     },
     "execution_count": 13,
     "metadata": {},
     "output_type": "execute_result"
    }
   ],
   "source": [
    "df_updated.sample(10)"
   ]
  },
  {
   "cell_type": "code",
   "execution_count": 14,
   "metadata": {},
   "outputs": [
    {
     "data": {
      "text/plain": [
       "['price_tr',\n",
       " 'location',\n",
       " 'date',\n",
       " 'm2',\n",
       " 'rooms',\n",
       " 'age',\n",
       " 'floor',\n",
       " 'tfloor',\n",
       " 'heat',\n",
       " 'bath',\n",
       " 'furn',\n",
       " 'resid',\n",
       " 'loan',\n",
       " 'saler',\n",
       " 'exc']"
      ]
     },
     "execution_count": 14,
     "metadata": {},
     "output_type": "execute_result"
    }
   ],
   "source": [
    "df_updated.columns"
   ]
  },
  {
   "cell_type": "markdown",
   "metadata": {},
   "source": [
    "## Update dates with timestamp"
   ]
  },
  {
   "cell_type": "code",
   "execution_count": 15,
   "metadata": {},
   "outputs": [],
   "source": [
    "aylar = {\"Ocak\": \"01\", \"Şubat\": \"02\", \"Mart\": \"03\", \"Nisan\": \"04\", \"Mayıs\": \"05\", \"Haziran\": \"06\",\n",
    "             \"Temmuz\": \"07\", \"Ağustos\": \"08\", \"Eylül\": \"09\", \"Ekim\": \"10\", \"Kasım\": \"11\", \"Aralık\": \"12\"}\n",
    "\n",
    "def transform_date(date):\n",
    "    match date:\n",
    "        case str():\n",
    "            result = '-'.join(date.split()[::-1])\n",
    "            for ay, ay_kodu in aylar.items():\n",
    "                result = result.replace(ay, ay_kodu)\n",
    "            \n",
    "            return result\n",
    "        case _:\n",
    "            return date\n",
    "\n",
    "def transform_date_to_ms(date_str) -> int:\n",
    "    from dateutil import parser\n",
    "\n",
    "    match date_str:\n",
    "        case str():\n",
    "            return parser.parse(date_str, dayfirst=True).timestamp().__floor__()\n",
    "        case _:\n",
    "            return int(date_str)\n",
    "\n",
    "df_updated = df_updated.with_columns(pl.col(\"date\").map_elements(transform_date).map_elements(transform_date_to_ms))\n",
    "df_updated\n"
   ]
  },
  {
   "cell_type": "markdown",
   "metadata": {},
   "source": [
    "## Bath transformation"
   ]
  },
  {
   "cell_type": "code",
   "execution_count": null,
   "metadata": {},
   "outputs": [],
   "source": [
    "df_updated.describe()"
   ]
  },
  {
   "cell_type": "markdown",
   "metadata": {},
   "source": [
    "## Enumeration Process"
   ]
  },
  {
   "cell_type": "code",
   "execution_count": null,
   "metadata": {},
   "outputs": [],
   "source": [
    "for d_type, column in zip(df_updated.dtypes, df_updated.columns):\n",
    "    if d_type == pl.String:\n",
    "        df_updated = set_rank(column, df_updated)\n",
    "df_updated"
   ]
  },
  {
   "cell_type": "markdown",
   "metadata": {},
   "source": [
    "## Create correlation matrix"
   ]
  },
  {
   "cell_type": "code",
   "execution_count": null,
   "metadata": {},
   "outputs": [],
   "source": [
    "\n",
    "df_updated.drop_nulls().select(pl.exclude(pl.String)).corr()\n"
   ]
  },
  {
   "cell_type": "markdown",
   "metadata": {},
   "source": [
    "Room has  0.57 correlation with bath so we can fill null rooms using bath feature\n",
    "\n",
    "Heat has 0.077738 correlation with tfloor,  0.04684 corr with floor\n"
   ]
  },
  {
   "cell_type": "code",
   "execution_count": null,
   "metadata": {},
   "outputs": [],
   "source": [
    "df_updated = df_updated.with_columns(pl.col(\"rooms rank\").map_elements(lambda s: s.fill_null(s.mode())).over(\"bath rank\")) \n",
    "df_updated = df_updated.with_columns(pl.col(\"heat rank\").map_elements(lambda s: s.fill_null(s.mode())).over(\"tfloor rank\")) \n",
    "df_updated = df_updated.with_columns(pl.col(\"bath rank\").map_elements(lambda s: s.fill_null(s.mode())).over(\"rooms rank\")) \n",
    "df_updated.describe()"
   ]
  },
  {
   "cell_type": "code",
   "execution_count": null,
   "metadata": {},
   "outputs": [],
   "source": [
    "df_updated = df_updated.select(pl.exclude(\"furn rank\", \"resid rank\", \"loan rank\", \"furn\", \"loan\"))\n",
    "df_updated.select(pl.exclude(pl.String)).describe()"
   ]
  },
  {
   "cell_type": "markdown",
   "metadata": {},
   "source": [
    "## Drop Outliers"
   ]
  },
  {
   "cell_type": "code",
   "execution_count": null,
   "metadata": {},
   "outputs": [],
   "source": [
    "l = \"price_tr\"\n",
    "\n",
    "Q1 = pl.col(l).quantile(0.25)\n",
    "Q3 = pl.col(l).quantile(0.75)\n",
    "IQR = Q3 - Q1\n",
    "\n",
    "LOWER = Q1 - 1.5 * IQR\n",
    "UPPER = Q3 + 1.5 * IQR\n",
    "\n",
    "df_updated = df_updated.filter((pl.col(l) > LOWER) & (pl.col(l) < UPPER))\n",
    "df_updated.describe()"
   ]
  },
  {
   "cell_type": "markdown",
   "metadata": {},
   "source": [
    "## split data to train and test"
   ]
  },
  {
   "cell_type": "code",
   "execution_count": null,
   "metadata": {},
   "outputs": [],
   "source": [
    "from sklearn.model_selection import train_test_split\n",
    "\n",
    "df_model = df_updated.select(pl.exclude(pl.String))\n",
    "\n",
    "# Separate target from predictors\n",
    "y = df_model.select(\"price_tr\").to_pandas()\n",
    "X = df_model.select(pl.exclude(\"price_tr\")).to_pandas()\n",
    "\n",
    "# Divide data into training and validation subsets\n",
    "X_train, X_test, y_train, y_test = train_test_split(X, y, train_size=0.8, test_size=0.2,\n",
    "                                                      random_state=42)\n",
    "X_train.describe()"
   ]
  },
  {
   "cell_type": "markdown",
   "metadata": {},
   "source": [
    "## Feature Scaling"
   ]
  },
  {
   "cell_type": "code",
   "execution_count": null,
   "metadata": {},
   "outputs": [],
   "source": [
    "from sklearn.preprocessing import StandardScaler\n",
    "\n",
    "sc = StandardScaler()\n",
    "X_train = sc.fit_transform(X_train)\n",
    "X_test = sc.transform(X_test)"
   ]
  },
  {
   "cell_type": "markdown",
   "metadata": {},
   "source": [
    "### Number of samples"
   ]
  },
  {
   "cell_type": "code",
   "execution_count": null,
   "metadata": {},
   "outputs": [],
   "source": [
    "print(\"Number of samples in X_train:\", len(X_train))\n",
    "print(\"Number of samples in y_train:\", len(y_train))\n",
    "print(\"Number of samples in X_test:\", len(X_test))\n",
    "print(\"Number of samples in y_valid:\", len(y_test))"
   ]
  },
  {
   "cell_type": "markdown",
   "metadata": {},
   "source": [
    "### Combine all ran models"
   ]
  },
  {
   "cell_type": "code",
   "execution_count": null,
   "metadata": {},
   "outputs": [],
   "source": [
    "pred_results = []"
   ]
  },
  {
   "cell_type": "markdown",
   "metadata": {},
   "source": [
    "### A general function that prints all important metrics"
   ]
  },
  {
   "cell_type": "code",
   "execution_count": null,
   "metadata": {},
   "outputs": [],
   "source": [
    "from sklearn.metrics import mean_squared_error, mean_absolute_error, r2_score\n",
    "\n",
    "def print_model_stats(y_train_pred, y_test_pred, model):\n",
    "    # Calculate regression metrics for training set\n",
    "    mse_train = mean_squared_error(y_train, y_train_pred)\n",
    "    rmse_train = mean_squared_error(y_train, y_train_pred, squared=False)\n",
    "    mae_train = mean_absolute_error(y_train, y_train_pred)\n",
    "    r2_train = r2_score(y_train, y_train_pred)\n",
    "\n",
    "    # Calculate regression metrics for test set\n",
    "    mse_test = mean_squared_error(y_test, y_test_pred)\n",
    "    rmse_test = mean_squared_error(y_test, y_test_pred, squared=False)\n",
    "    mae_test = mean_absolute_error(y_test, y_test_pred)\n",
    "    r2_test = r2_score(y_test, y_test_pred)\n",
    "    train_accuracy = model.score(X_train, y_train) \n",
    "    test_accuracy = model.score(X_test, y_test)\n",
    "\n",
    "    # Print the results\n",
    "    print(\"Metrics for Training Set:\")\n",
    "    print(f\"Mean Squared Error (MSE): {mse_train}\")\n",
    "    print(f\"Root Mean Squared Error (RMSE): {rmse_train}\")\n",
    "    print(f\"Mean Absolute Error (MAE): {mae_train}\")\n",
    "    print(f\"R-squared (R2): {r2_train}\")\n",
    "    print(f\"Accuracy: {train_accuracy}\")\n",
    "\n",
    "    print(\"\\n\")\n",
    "\n",
    "    print(\"Metrics for Test Set:\")\n",
    "    print(f\"Mean Squared Error (MSE): {mse_test}\")\n",
    "    print(f\"Root Mean Squared Error (RMSE): {rmse_test}\")\n",
    "    print(f\"Mean Absolute Error (MAE): {mae_test}\")\n",
    "    print(f\"R-squared (R2): {r2_test}\")\n",
    "    print(f\"Accuracy: {test_accuracy}\")\n",
    "\n",
    "    # visualize\n",
    "    plt.scatter(y_train, y_train_pred, label='Training Set')\n",
    "    plt.scatter(y_test, y_test_pred, label='Test Set', alpha=0.5)  # Use alpha to control point transparency\n",
    "    plt.xlabel('Actual Values')\n",
    "    plt.ylabel('Predicted Values')\n",
    "    plt.legend()\n",
    "    plt.title('Actual vs. Predicted Values')\n",
    "    plt.show()"
   ]
  },
  {
   "cell_type": "markdown",
   "metadata": {},
   "source": [
    "## Linear Regression"
   ]
  },
  {
   "cell_type": "code",
   "execution_count": null,
   "metadata": {},
   "outputs": [],
   "source": [
    "from sklearn.linear_model import LinearRegression\n",
    "\n",
    "model = LinearRegression()\n",
    "model.fit(X_train, y_train)\n",
    "\n",
    "y_train_pred = model.predict(X_train)\n",
    "y_test_pred = model.predict(X_test)\n",
    "\n",
    "y_train_score = model.score(X_train, y_train)\n",
    "y_test_score = model.score(X_test, y_test)\n",
    "\n",
    "pred_results.append((y_train_score, y_test_score, \"Linear Regression\"))\n",
    "\n",
    "print_model_stats(y_train_pred, y_test_pred, model)"
   ]
  },
  {
   "cell_type": "markdown",
   "metadata": {},
   "source": [
    "## Decision Tree Regression"
   ]
  },
  {
   "cell_type": "code",
   "execution_count": null,
   "metadata": {},
   "outputs": [],
   "source": [
    "from sklearn.tree import DecisionTreeRegressor\n",
    "\n",
    "tree = DecisionTreeRegressor()\n",
    "tree.fit(X_train, y_train)\n",
    "\n",
    "y_train_pred = tree.predict(X_train)\n",
    "y_test_pred = tree.predict(X_test)\n",
    "\n",
    "y_train_score = tree.score(X_train, y_train)\n",
    "y_test_score = tree.score(X_test, y_test)\n",
    "\n",
    "pred_results.append((y_train_score, y_test_score, \"DT\"))\n",
    "\n",
    "print_model_stats(y_train_pred, y_test_pred, tree)"
   ]
  },
  {
   "cell_type": "markdown",
   "metadata": {},
   "source": [
    "## Decision Tree Regression with Cross Validation"
   ]
  },
  {
   "cell_type": "code",
   "execution_count": null,
   "metadata": {},
   "outputs": [],
   "source": [
    "from sklearn.tree import DecisionTreeRegressor\n",
    "from sklearn.model_selection import cross_val_score\n",
    "import numpy as np\n",
    "\n",
    "tree = DecisionTreeRegressor()\n",
    "\n",
    "# Combine the training and test data for cross-validation\n",
    "X_combined = np.vstack((X_train, X_test))\n",
    "y_combined = np.concatenate((y_train, y_test))\n",
    "\n",
    "# Perform cross-validation with 5 folds\n",
    "cv_scores = cross_val_score(tree, X_combined, y_combined, cv=5)\n",
    "\n",
    "# Fit the model on the entire training set\n",
    "tree.fit(X_combined, y_combined)\n",
    "\n",
    "# Make predictions on the training and test sets\n",
    "y_train_pred = tree.predict(X_train)\n",
    "y_test_pred = tree.predict(X_test)\n",
    "\n",
    "# Compute scores\n",
    "y_train_score = tree.score(X_train, y_train)\n",
    "y_test_score = tree.score(X_test, y_test)\n",
    "\n",
    "pred_results.append((y_train_score, y_test_score, \"DT CV\"))\n",
    "\n",
    "print_model_stats(y_train_pred, y_test_pred, tree)"
   ]
  },
  {
   "cell_type": "markdown",
   "metadata": {},
   "source": [
    "## Decision Tree with Grid search"
   ]
  },
  {
   "cell_type": "code",
   "execution_count": null,
   "metadata": {},
   "outputs": [],
   "source": [
    "from sklearn.model_selection import GridSearchCV\n",
    "\n",
    "# Define the hyperparameters and their possible values\n",
    "param_grid = {\n",
    "    'max_depth': [None, 10, 20, 30],\n",
    "    'min_samples_split': [2, 5, 10],\n",
    "    'min_samples_leaf': [1, 2, 4]\n",
    "}\n",
    "\n",
    "tree = DecisionTreeRegressor()\n",
    "\n",
    "# Create a GridSearchCV object\n",
    "grid_search = GridSearchCV(estimator=tree, param_grid=param_grid, scoring='neg_mean_squared_error', cv=5, n_jobs=-1)\n",
    "\n",
    "# Perform grid search on the training data\n",
    "grid_search.fit(X_train, y_train)\n",
    "\n",
    "# Get the best parameters from the grid search\n",
    "best_params = grid_search.best_params_\n",
    "print(f'Best Hyperparameters: {best_params}\\n')\n",
    "\n",
    "# Create a new decision tree regressor with the best hyperparameters\n",
    "best_tree = DecisionTreeRegressor(max_depth=15, min_samples_leaf=4, min_samples_split=10)\n",
    "\n",
    "\n",
    "# Train the model on the entire training set\n",
    "best_tree.fit(X_train, y_train)\n",
    "\n",
    "# Make predictions on the test set\n",
    "y_train_pred = best_tree.predict(X_train)\n",
    "y_test_pred = best_tree.predict(X_test)\n",
    "\n",
    "y_train_score = best_tree.score(X_train, y_train)\n",
    "y_test_score = best_tree.score(X_test, y_test)\n",
    "\n",
    "pred_results.append((y_train_score, y_test_score, \"DT Grid Search\"))\n",
    "\n",
    "print_model_stats(y_train_pred, y_test_pred, model)\n"
   ]
  },
  {
   "cell_type": "markdown",
   "metadata": {},
   "source": [
    "## Random Forest"
   ]
  },
  {
   "cell_type": "code",
   "execution_count": null,
   "metadata": {},
   "outputs": [],
   "source": [
    "from sklearn.model_selection import train_test_split\n",
    "from sklearn.ensemble import RandomForestRegressor\n",
    "\n",
    "# Split the data into training and testing sets\n",
    "X_train, X_test, y_train, y_test = train_test_split(X, y, test_size=0.2, random_state=42)\n",
    "\n",
    "# Initialize the Random Forest Regression model\n",
    "model = RandomForestRegressor(n_estimators=100, random_state=42)\n",
    "\n",
    "# Train the model on the training set\n",
    "model.fit(X_train, y_train)\n",
    "\n",
    "# Make predictions on the training set\n",
    "y_train_pred = model.predict(X_train)\n",
    "\n",
    "# Make predictions on the test set\n",
    "y_test_pred = model.predict(X_test)\n",
    "\n",
    "y_train_score = model.score(X_train, y_train)\n",
    "y_test_score = model.score(X_test, y_test)\n",
    "\n",
    "pred_results.append((y_train_score, y_test_score, \"RF\"))\n",
    "\n",
    "print_model_stats(y_train_pred, y_test_pred, model)"
   ]
  },
  {
   "cell_type": "markdown",
   "metadata": {},
   "source": [
    "## Random Forest with Scaler"
   ]
  },
  {
   "cell_type": "code",
   "execution_count": null,
   "metadata": {},
   "outputs": [],
   "source": [
    "from sklearn.model_selection import train_test_split\n",
    "from sklearn.ensemble import RandomForestRegressor\n",
    "from sklearn.preprocessing import StandardScaler\n",
    "\n",
    "# Split the data into training and testing sets\n",
    "X_train, X_test, y_train, y_test = train_test_split(X, y, test_size=0.2, random_state=42)\n",
    "\n",
    "# Standardize the data (optional but often recommended for RandomForest)\n",
    "scaler = StandardScaler()\n",
    "X_train_scaled = scaler.fit_transform(X_train)\n",
    "X_test_scaled = scaler.transform(X_test)\n",
    "\n",
    "# Initialize the RandomForestRegressor\n",
    "rf_model = RandomForestRegressor(random_state=42)\n",
    "\n",
    "# Fit the model to the training data\n",
    "rf_model.fit(X_train_scaled, y_train)\n",
    "\n",
    "# Make predictions on the test set\n",
    "y_train_pred = rf_model.predict(X_train_scaled)\n",
    "y_test_pred = rf_model.predict(X_test_scaled)\n",
    "\n",
    "y_train_score = rf_model.score(X_train, y_train)\n",
    "y_test_score = rf_model.score(X_test, y_test)\n",
    "\n",
    "pred_results.append((y_train_score, y_test_score, \"RF Scaled\"))\n",
    "\n",
    "print_model_stats(y_train_pred, y_test_pred, rf_model)"
   ]
  },
  {
   "cell_type": "markdown",
   "metadata": {},
   "source": [
    "## Scatter Plots"
   ]
  },
  {
   "cell_type": "code",
   "execution_count": null,
   "metadata": {},
   "outputs": [],
   "source": [
    "# Scatter plot for Training Set\n",
    "plt.figure(figsize=(10, 6))\n",
    "plt.scatter(y_train, y_train_pred, color='blue', label='Actual vs. Predicted (Training Set)')\n",
    "plt.title('Actual vs. Predicted Values - Training Set')\n",
    "plt.xlabel('Actual Values')\n",
    "plt.ylabel('Predicted Values')\n",
    "plt.legend()\n",
    "plt.show()\n",
    "\n",
    "# Scatter plot for Test Set\n",
    "plt.figure(figsize=(10, 6))\n",
    "plt.scatter(y_test, y_test_pred, color='red', label='Actual vs. Predicted (Test Set)')\n",
    "plt.title('Actual vs. Predicted Values - Test Set')\n",
    "plt.xlabel('Actual Values')\n",
    "plt.ylabel('Predicted Values')\n",
    "plt.legend()\n",
    "plt.show()"
   ]
  },
  {
   "cell_type": "markdown",
   "metadata": {},
   "source": [
    "## Visualize scores of algorithms"
   ]
  },
  {
   "cell_type": "code",
   "execution_count": null,
   "metadata": {},
   "outputs": [],
   "source": [
    "# remove last from pred_results\n",
    "new_pred_results = pred_results[:-1]\n",
    "\n",
    "\n",
    "# Extract data from the tuple\n",
    "train_scores, test_scores, algorithms = zip(*new_pred_results)\n",
    "\n",
    "# Create a bar plot for training scores\n",
    "plt.figure(figsize=(10, 5))\n",
    "plt.bar(algorithms, train_scores, color='blue', alpha=0.7, label='Training Score')\n",
    "\n",
    "# Add data labels\n",
    "for i, score in enumerate(train_scores):\n",
    "    plt.text(i, score + 0.01, f'{score:.2f}', ha='center', va='bottom')\n",
    "\n",
    "# Create a bar plot for test scores\n",
    "plt.bar(algorithms, test_scores, color='orange', alpha=0.7, label='Test Score')\n",
    "\n",
    "# Add data labels\n",
    "for i, score in enumerate(test_scores):\n",
    "    plt.text(i, score + 0.01, f'{score:.2f}', ha='center', va='bottom')\n",
    "\n",
    "# Set plot properties\n",
    "plt.ylim(0, 1.0)\n",
    "plt.title('Training and Test Scores of Regression Algorithms')\n",
    "plt.xlabel('Algorithms')\n",
    "plt.ylabel('Scores')\n",
    "plt.legend()\n",
    "plt.show()"
   ]
  }
 ],
 "metadata": {
  "kernelspec": {
   "display_name": "Python 3",
   "language": "python",
   "name": "python3"
  },
  "language_info": {
   "codemirror_mode": {
    "name": "ipython",
    "version": 3
   },
   "file_extension": ".py",
   "mimetype": "text/x-python",
   "name": "python",
   "nbconvert_exporter": "python",
   "pygments_lexer": "ipython3",
   "version": "3.11.7"
  }
 },
 "nbformat": 4,
 "nbformat_minor": 2
}
