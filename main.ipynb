{
 "cells": [
  {
   "cell_type": "markdown",
   "metadata": {},
   "source": [
    "# preprocessing\n",
    "- find null values\n",
    "- replace with feature mean\n",
    "- find outliers (especially m2)\n",
    "- enumarate categorical features\n",
    "- drop title col\n",
    "- drop id col\n",
    "- convert all prices to try\n",
    "- drop lat lon\n",
    "- convert date values to be of the same race\n",
    "- drop type (bcz all values are flat)\n",
    "- drop currency\n",
    "-"
   ]
  },
  {
   "cell_type": "code",
   "execution_count": 59,
   "metadata": {},
   "outputs": [
    {
     "name": "stdout",
     "output_type": "stream",
     "text": [
      "test\n"
     ]
    }
   ],
   "source": [
    "\n",
    "import pandas as pd\n",
    "import numpy as np\n",
    "import seaborn as sns\n",
    "import matplotlib.pyplot as plt\n",
    "print(\"test\")"
   ]
  },
  {
   "cell_type": "code",
   "execution_count": null,
   "metadata": {},
   "outputs": [],
   "source": [
    "FILENAME = \"real_estate_data.csv\"\n",
    "df = pd.read_csv(FILENAME)\n",
    "df"
   ]
  },
  {
   "cell_type": "code",
   "execution_count": null,
   "metadata": {},
   "outputs": [],
   "source": [
    "df.isnull() "
   ]
  },
  {
   "cell_type": "code",
   "execution_count": null,
   "metadata": {},
   "outputs": [],
   "source": [
    "missing_values_summary = df.isnull().sum()\n",
    "print(missing_values_summary)\n"
   ]
  },
  {
   "cell_type": "code",
   "execution_count": null,
   "metadata": {},
   "outputs": [],
   "source": [
    "# Find rows where 'bath' column has null values\n",
    "null_bath_rows = df[df['bath'].isnull()]\n",
    "\n",
    "# Display the DataFrame with null values in the 'bath' column\n",
    "null_bath_rows"
   ]
  },
  {
   "cell_type": "code",
   "execution_count": null,
   "metadata": {},
   "outputs": [],
   "source": [
    "import numpy as np\n",
    "# Replace 'None' with np.nan if it's not already done\n",
    "df.replace('None', np.NaN, inplace=True)\n",
    "\n",
    "# Remove rows with any null values\n",
    "df_cleaned = df.dropna()\n",
    "\n",
    "# Save the cleaned DataFrame to a new CSV file\n",
    "df_cleaned.to_csv('cleaned_data.csv', index=False)\n",
    "\n",
    "# Display the cleaned DataFrame\n",
    "print(df_cleaned)\n",
    "\n"
   ]
  },
  {
   "cell_type": "code",
   "execution_count": null,
   "metadata": {},
   "outputs": [],
   "source": [
    "import numpy as np\n",
    "import pandas as pd\n",
    "\n",
    "df = pd.read_csv('cleaned_data.csv')\n",
    "\n"
   ]
  },
  {
   "cell_type": "code",
   "execution_count": null,
   "metadata": {},
   "outputs": [],
   "source": [
    "import pandas as pd\n",
    "df.shape"
   ]
  },
  {
   "cell_type": "code",
   "execution_count": null,
   "metadata": {},
   "outputs": [],
   "source": [
    "df.values"
   ]
  },
  {
   "cell_type": "code",
   "execution_count": null,
   "metadata": {},
   "outputs": [],
   "source": []
  },
  {
   "cell_type": "markdown",
   "metadata": {},
   "source": [
    "# DROP FETURES"
   ]
  },
  {
   "cell_type": "code",
   "execution_count": null,
   "metadata": {},
   "outputs": [],
   "source": [
    "# Drop the 'Title' feature\n",
    "df.drop('Title', axis=0, inplace=True)\n",
    "df"
   ]
  },
  {
   "cell_type": "code",
   "execution_count": null,
   "metadata": {},
   "outputs": [],
   "source": [
    "# Check if 'Title' column exists before dropping\n",
    "if 'Title' in df.columns:\n",
    "    # Drop the 'Title' feature\n",
    "    df.drop('Title', axis=1, inplace=True)\n",
    "\n",
    "# Display the DataFrame after potentially dropping the 'Title' feature\n",
    "print(df)"
   ]
  },
  {
   "cell_type": "code",
   "execution_count": null,
   "metadata": {},
   "outputs": [],
   "source": [
    "# Check if 'Title' column exists before dropping\n",
    "if 'Id' in df.columns:\n",
    "    # Drop the 'Title' feature\n",
    "    df.drop('Id', axis=1, inplace=True)\n",
    "df"
   ]
  },
  {
   "cell_type": "code",
   "execution_count": null,
   "metadata": {},
   "outputs": [],
   "source": [
    "# Check if 'Title' column exists before dropping\n",
    "if 'lat' in df.columns:\n",
    "    # Drop the 'Title' feature\n",
    "    df.drop('lat', axis=1, inplace=True)\n",
    "df,\n",
    "\n",
    "# Check if 'Title' column exists before dropping\n",
    "if 'lon' in df.columns:\n",
    "    # Drop the 'Title' feature\n",
    "    df.drop('lon', axis=1, inplace=True)\n",
    "df\n",
    "\n",
    "# Check if 'Title' column exists before dropping\n",
    "if 'type' in df.columns:\n",
    "    # Drop the 'Title' feature\n",
    "    df.drop('type', axis=1, inplace=True)\n",
    "df"
   ]
  },
  {
   "cell_type": "code",
   "execution_count": null,
   "metadata": {},
   "outputs": [],
   "source": [
    "df.loc[df['currency'] == 'Euro', 'price'] *= 4\n",
    "df.loc[df['currency'] == 'Euro', 'currency'] = 'Turkish Lira'\n",
    "df.loc[df['currency'] == 'US Dollar', 'price'] *= 3.5\n",
    "df.loc[df['currency'] == 'Euro', 'currency'] = 'Turkish Lira'\n",
    "df.loc[df['currency'] == 'British Pound', 'price'] *= 4.5\n",
    "df.loc[df['currency'] == 'Euro', 'currency'] = 'Turkish Lira'\n",
    "\n",
    "# Check if 'Title' column exists before dropping\n",
    "if 'type' in df.columns:\n",
    "    # Drop the 'Title' feature\n",
    "    df.drop('type', axis=1, inplace=True)\n",
    "\n"
   ]
  },
  {
   "cell_type": "code",
   "execution_count": 58,
   "metadata": {},
   "outputs": [
    {
     "data": {
      "text/plain": [
       "652860"
      ]
     },
     "execution_count": 58,
     "metadata": {},
     "output_type": "execute_result"
    }
   ],
   "source": [
    "Q1 = df['price'].quantile(0.25)\n",
    "Q3 = df['price'].quantile(0.75)\n",
    "IQR = Q3 - Q1\n",
    "\n",
    "# Define a condition to identify outliers\n",
    "outlier_condition = (df['price'] < (Q1 - 1.5 * IQR)) | (df['price'] > (Q3 + 1.5 * IQR))\n",
    "\n",
    "# Display rows containing outliers\n",
    "outliers = df[outlier_condition]\n",
    "df.size\n"
   ]
  },
  {
   "cell_type": "code",
   "execution_count": 60,
   "metadata": {},
   "outputs": [
    {
     "name": "stderr",
     "output_type": "stream",
     "text": [
      "c:\\Users\\huday\\AppData\\Local\\Programs\\Python\\Python311\\Lib\\site-packages\\seaborn\\_oldcore.py:1599: UserWarning: Vertical orientation ignored with only `x` specified.\n",
      "  warnings.warn(single_var_warning.format(\"Vertical\", \"x\"))\n"
     ]
    },
    {
     "data": {
      "image/png": "[encoded data removed]",
      "text/plain": [
       "<Figure size 800x600 with 1 Axes>"
      ]
     },
     "metadata": {},
     "output_type": "display_data"
    }
   ],
   "source": [
    "df['price'] = pd.to_numeric(df['price'], errors='coerce')\n",
    "\n",
    "# Create a box plot for the 'price' column\n",
    "sns.set(style=\"whitegrid\")\n",
    "plt.figure(figsize=(8, 6))\n",
    "sns.boxplot(x='price', data=df, orient='v')\n",
    "plt.title('Box Plot for Price')\n",
    "plt.show()"
   ]
  }
 ],
 "metadata": {
  "kernelspec": {
   "display_name": "Python 3",
   "language": "python",
   "name": "python3"
  },
  "language_info": {
   "codemirror_mode": {
    "name": "ipython",
    "version": 3
   },
   "file_extension": ".py",
   "mimetype": "text/x-python",
   "name": "python",
   "nbconvert_exporter": "python",
   "pygments_lexer": "ipython3",
   "version": "3.11.4"
  }
 },
 "nbformat": 4,
 "nbformat_minor": 2
}
